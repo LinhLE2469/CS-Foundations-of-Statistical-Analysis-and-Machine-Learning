{
 "cells": [
  {
   "cell_type": "markdown",
   "id": "1ca450fd",
   "metadata": {},
   "source": [
    "# Subject"
   ]
  },
  {
   "cell_type": "markdown",
   "id": "6d7e7868",
   "metadata": {},
   "source": [
    "We provide here a data set on the customers of a bank:\n",
    "- CustomerId = customer id in the information system of the bank\n",
    "- Surname = surname of the customer\n",
    "- CreditScore = score attributed by the bank as estimation of capacity to reimburse a loan\n",
    "- Geography = country of the customer\n",
    "- Gender = sex of the customer\n",
    "- Age = age of the customer\n",
    "- Tenure = loan duration (year)\n",
    "- Balance = amount of money on main account (\\$)\n",
    "- NumOfProducts = number of products the customer has in the banl\n",
    "- HasCrCard = tells if the customer owns a credit card\n",
    "- IsActiveMember = tells if the customer has an active account\n",
    "- EstimatedSalary = estimated salary of the customer (\\$)\n",
    "- Exited = tells if the customer has left the bank"
   ]
  },
  {
   "cell_type": "code",
   "execution_count": 1,
   "id": "dd1ba979",
   "metadata": {},
   "outputs": [],
   "source": [
    "import numpy as np\n",
    "import matplotlib.pyplot as plt\n",
    "import pandas as pd\n",
    "import sklearn "
   ]
  },
  {
   "cell_type": "code",
   "execution_count": 2,
   "id": "de6e5842",
   "metadata": {},
   "outputs": [
    {
     "data": {
      "text/html": [
       "<div>\n",
       "<style scoped>\n",
       "    .dataframe tbody tr th:only-of-type {\n",
       "        vertical-align: middle;\n",
       "    }\n",
       "\n",
       "    .dataframe tbody tr th {\n",
       "        vertical-align: top;\n",
       "    }\n",
       "\n",
       "    .dataframe thead th {\n",
       "        text-align: right;\n",
       "    }\n",
       "</style>\n",
       "<table border=\"1\" class=\"dataframe\">\n",
       "  <thead>\n",
       "    <tr style=\"text-align: right;\">\n",
       "      <th></th>\n",
       "      <th>RowNumber</th>\n",
       "      <th>CustomerId</th>\n",
       "      <th>Surname</th>\n",
       "      <th>CreditScore</th>\n",
       "      <th>Geography</th>\n",
       "      <th>Gender</th>\n",
       "      <th>Age</th>\n",
       "      <th>Tenure</th>\n",
       "      <th>Balance</th>\n",
       "      <th>NumOfProducts</th>\n",
       "      <th>HasCrCard</th>\n",
       "      <th>IsActiveMember</th>\n",
       "      <th>EstimatedSalary</th>\n",
       "      <th>Exited</th>\n",
       "    </tr>\n",
       "  </thead>\n",
       "  <tbody>\n",
       "    <tr>\n",
       "      <th>8473</th>\n",
       "      <td>8474</td>\n",
       "      <td>15802009</td>\n",
       "      <td>Mazzi</td>\n",
       "      <td>770</td>\n",
       "      <td>France</td>\n",
       "      <td>Female</td>\n",
       "      <td>33</td>\n",
       "      <td>6</td>\n",
       "      <td>0.00</td>\n",
       "      <td>2</td>\n",
       "      <td>1</td>\n",
       "      <td>1</td>\n",
       "      <td>126131.90</td>\n",
       "      <td>0</td>\n",
       "    </tr>\n",
       "    <tr>\n",
       "      <th>3110</th>\n",
       "      <td>3111</td>\n",
       "      <td>15707596</td>\n",
       "      <td>Chung</td>\n",
       "      <td>546</td>\n",
       "      <td>Germany</td>\n",
       "      <td>Female</td>\n",
       "      <td>74</td>\n",
       "      <td>8</td>\n",
       "      <td>114888.74</td>\n",
       "      <td>2</td>\n",
       "      <td>1</td>\n",
       "      <td>1</td>\n",
       "      <td>66732.63</td>\n",
       "      <td>1</td>\n",
       "    </tr>\n",
       "    <tr>\n",
       "      <th>5532</th>\n",
       "      <td>5533</td>\n",
       "      <td>15602572</td>\n",
       "      <td>Hsing</td>\n",
       "      <td>720</td>\n",
       "      <td>France</td>\n",
       "      <td>Male</td>\n",
       "      <td>33</td>\n",
       "      <td>9</td>\n",
       "      <td>0.00</td>\n",
       "      <td>2</td>\n",
       "      <td>1</td>\n",
       "      <td>1</td>\n",
       "      <td>142956.48</td>\n",
       "      <td>0</td>\n",
       "    </tr>\n",
       "    <tr>\n",
       "      <th>6621</th>\n",
       "      <td>6622</td>\n",
       "      <td>15710365</td>\n",
       "      <td>Thomson</td>\n",
       "      <td>646</td>\n",
       "      <td>France</td>\n",
       "      <td>Male</td>\n",
       "      <td>50</td>\n",
       "      <td>0</td>\n",
       "      <td>104129.24</td>\n",
       "      <td>2</td>\n",
       "      <td>1</td>\n",
       "      <td>0</td>\n",
       "      <td>181794.86</td>\n",
       "      <td>1</td>\n",
       "    </tr>\n",
       "    <tr>\n",
       "      <th>7570</th>\n",
       "      <td>7571</td>\n",
       "      <td>15791944</td>\n",
       "      <td>Harker</td>\n",
       "      <td>697</td>\n",
       "      <td>France</td>\n",
       "      <td>Male</td>\n",
       "      <td>32</td>\n",
       "      <td>7</td>\n",
       "      <td>175464.85</td>\n",
       "      <td>3</td>\n",
       "      <td>1</td>\n",
       "      <td>0</td>\n",
       "      <td>116442.42</td>\n",
       "      <td>1</td>\n",
       "    </tr>\n",
       "    <tr>\n",
       "      <th>9316</th>\n",
       "      <td>9317</td>\n",
       "      <td>15766355</td>\n",
       "      <td>Lettiere</td>\n",
       "      <td>550</td>\n",
       "      <td>Germany</td>\n",
       "      <td>Male</td>\n",
       "      <td>49</td>\n",
       "      <td>0</td>\n",
       "      <td>108806.96</td>\n",
       "      <td>3</td>\n",
       "      <td>1</td>\n",
       "      <td>0</td>\n",
       "      <td>61446.92</td>\n",
       "      <td>1</td>\n",
       "    </tr>\n",
       "    <tr>\n",
       "      <th>4449</th>\n",
       "      <td>4450</td>\n",
       "      <td>15569364</td>\n",
       "      <td>Victor</td>\n",
       "      <td>666</td>\n",
       "      <td>France</td>\n",
       "      <td>Male</td>\n",
       "      <td>36</td>\n",
       "      <td>3</td>\n",
       "      <td>0.00</td>\n",
       "      <td>2</td>\n",
       "      <td>1</td>\n",
       "      <td>0</td>\n",
       "      <td>35156.54</td>\n",
       "      <td>0</td>\n",
       "    </tr>\n",
       "    <tr>\n",
       "      <th>4542</th>\n",
       "      <td>4543</td>\n",
       "      <td>15585455</td>\n",
       "      <td>Stewart</td>\n",
       "      <td>630</td>\n",
       "      <td>France</td>\n",
       "      <td>Male</td>\n",
       "      <td>28</td>\n",
       "      <td>9</td>\n",
       "      <td>0.00</td>\n",
       "      <td>2</td>\n",
       "      <td>0</td>\n",
       "      <td>0</td>\n",
       "      <td>32599.35</td>\n",
       "      <td>0</td>\n",
       "    </tr>\n",
       "    <tr>\n",
       "      <th>9272</th>\n",
       "      <td>9273</td>\n",
       "      <td>15583138</td>\n",
       "      <td>Persse</td>\n",
       "      <td>739</td>\n",
       "      <td>France</td>\n",
       "      <td>Male</td>\n",
       "      <td>42</td>\n",
       "      <td>2</td>\n",
       "      <td>141642.92</td>\n",
       "      <td>2</td>\n",
       "      <td>1</td>\n",
       "      <td>0</td>\n",
       "      <td>172149.76</td>\n",
       "      <td>0</td>\n",
       "    </tr>\n",
       "    <tr>\n",
       "      <th>8742</th>\n",
       "      <td>8743</td>\n",
       "      <td>15661827</td>\n",
       "      <td>Brown</td>\n",
       "      <td>693</td>\n",
       "      <td>Spain</td>\n",
       "      <td>Female</td>\n",
       "      <td>45</td>\n",
       "      <td>4</td>\n",
       "      <td>0.00</td>\n",
       "      <td>2</td>\n",
       "      <td>1</td>\n",
       "      <td>1</td>\n",
       "      <td>26589.56</td>\n",
       "      <td>0</td>\n",
       "    </tr>\n",
       "  </tbody>\n",
       "</table>\n",
       "</div>"
      ],
      "text/plain": [
       "      RowNumber  CustomerId   Surname  CreditScore Geography  Gender  Age  \\\n",
       "8473       8474    15802009     Mazzi          770    France  Female   33   \n",
       "3110       3111    15707596     Chung          546   Germany  Female   74   \n",
       "5532       5533    15602572     Hsing          720    France    Male   33   \n",
       "6621       6622    15710365   Thomson          646    France    Male   50   \n",
       "7570       7571    15791944    Harker          697    France    Male   32   \n",
       "9316       9317    15766355  Lettiere          550   Germany    Male   49   \n",
       "4449       4450    15569364    Victor          666    France    Male   36   \n",
       "4542       4543    15585455   Stewart          630    France    Male   28   \n",
       "9272       9273    15583138    Persse          739    France    Male   42   \n",
       "8742       8743    15661827     Brown          693     Spain  Female   45   \n",
       "\n",
       "      Tenure    Balance  NumOfProducts  HasCrCard  IsActiveMember  \\\n",
       "8473       6       0.00              2          1               1   \n",
       "3110       8  114888.74              2          1               1   \n",
       "5532       9       0.00              2          1               1   \n",
       "6621       0  104129.24              2          1               0   \n",
       "7570       7  175464.85              3          1               0   \n",
       "9316       0  108806.96              3          1               0   \n",
       "4449       3       0.00              2          1               0   \n",
       "4542       9       0.00              2          0               0   \n",
       "9272       2  141642.92              2          1               0   \n",
       "8742       4       0.00              2          1               1   \n",
       "\n",
       "      EstimatedSalary  Exited  \n",
       "8473        126131.90       0  \n",
       "3110         66732.63       1  \n",
       "5532        142956.48       0  \n",
       "6621        181794.86       1  \n",
       "7570        116442.42       1  \n",
       "9316         61446.92       1  \n",
       "4449         35156.54       0  \n",
       "4542         32599.35       0  \n",
       "9272        172149.76       0  \n",
       "8742         26589.56       0  "
      ]
     },
     "execution_count": 2,
     "metadata": {},
     "output_type": "execute_result"
    }
   ],
   "source": [
    "dataset=pd.read_csv('data/bank_churn.csv')\n",
    "dataset.sample(n=10)"
   ]
  },
  {
   "cell_type": "markdown",
   "id": "e81a8da0",
   "metadata": {},
   "source": [
    "The objective of the bank is to predict the churn, i.e. if a customer is likely to leave the bank, based on her profile (estimated salary, geography, age, etc.). Here, we will prepare the data set so that it can be directly used for ML processing. The work is limited to data exploration and preparation, we will not make ML prediction yet.\n",
    "\n",
    "Your tasks:\n",
    "\n",
    "Make some data exploration with at least three plots of your choice (3 points). Examples: distribution of the values within one feature, repartition of a feature depending on the target value, etc.\n",
    "Prepare the data set (7 points). Example: dropping unrelevant data, preparing the predictors and the response, data encoding, train/test split, data scaling."
   ]
  },
  {
   "cell_type": "markdown",
   "id": "2f1f0f4c",
   "metadata": {},
   "source": [
    "# Make some data exploration"
   ]
  },
  {
   "cell_type": "code",
   "execution_count": 3,
   "id": "07949310",
   "metadata": {},
   "outputs": [
    {
     "name": "stdout",
     "output_type": "stream",
     "text": [
      "<class 'pandas.core.frame.DataFrame'>\n",
      "RangeIndex: 10000 entries, 0 to 9999\n",
      "Data columns (total 14 columns):\n",
      " #   Column           Non-Null Count  Dtype  \n",
      "---  ------           --------------  -----  \n",
      " 0   RowNumber        10000 non-null  int64  \n",
      " 1   CustomerId       10000 non-null  int64  \n",
      " 2   Surname          10000 non-null  object \n",
      " 3   CreditScore      10000 non-null  int64  \n",
      " 4   Geography        10000 non-null  object \n",
      " 5   Gender           10000 non-null  object \n",
      " 6   Age              10000 non-null  int64  \n",
      " 7   Tenure           10000 non-null  int64  \n",
      " 8   Balance          10000 non-null  float64\n",
      " 9   NumOfProducts    10000 non-null  int64  \n",
      " 10  HasCrCard        10000 non-null  int64  \n",
      " 11  IsActiveMember   10000 non-null  int64  \n",
      " 12  EstimatedSalary  10000 non-null  float64\n",
      " 13  Exited           10000 non-null  int64  \n",
      "dtypes: float64(2), int64(9), object(3)\n",
      "memory usage: 1.1+ MB\n"
     ]
    }
   ],
   "source": [
    "dataset.info()"
   ]
  },
  {
   "cell_type": "code",
   "execution_count": 4,
   "id": "f1d0346b",
   "metadata": {},
   "outputs": [
    {
     "data": {
      "text/plain": [
       "(10000, 14)"
      ]
     },
     "execution_count": 4,
     "metadata": {},
     "output_type": "execute_result"
    }
   ],
   "source": [
    "dataset.shape"
   ]
  },
  {
   "cell_type": "code",
   "execution_count": 5,
   "id": "71c69808",
   "metadata": {},
   "outputs": [
    {
     "data": {
      "text/plain": [
       "array(['RowNumber', 'CustomerId', 'Surname', 'CreditScore', 'Geography',\n",
       "       'Gender', 'Age', 'Tenure', 'Balance', 'NumOfProducts', 'HasCrCard',\n",
       "       'IsActiveMember', 'EstimatedSalary', 'Exited'], dtype=object)"
      ]
     },
     "execution_count": 5,
     "metadata": {},
     "output_type": "execute_result"
    }
   ],
   "source": [
    "dataset.columns.values"
   ]
  },
  {
   "cell_type": "code",
   "execution_count": 6,
   "id": "c533ee9a",
   "metadata": {},
   "outputs": [
    {
     "data": {
      "text/plain": [
       "RowNumber          0\n",
       "CustomerId         0\n",
       "Surname            0\n",
       "CreditScore        0\n",
       "Geography          0\n",
       "Gender             0\n",
       "Age                0\n",
       "Tenure             0\n",
       "Balance            0\n",
       "NumOfProducts      0\n",
       "HasCrCard          0\n",
       "IsActiveMember     0\n",
       "EstimatedSalary    0\n",
       "Exited             0\n",
       "dtype: int64"
      ]
     },
     "execution_count": 6,
     "metadata": {},
     "output_type": "execute_result"
    }
   ],
   "source": [
    "dataset.isna().sum()"
   ]
  },
  {
   "cell_type": "code",
   "execution_count": 7,
   "id": "a82e4c66",
   "metadata": {},
   "outputs": [
    {
     "data": {
      "text/plain": [
       "RowNumber          10000\n",
       "CustomerId         10000\n",
       "Surname             2932\n",
       "CreditScore          460\n",
       "Geography              3\n",
       "Gender                 2\n",
       "Age                   70\n",
       "Tenure                11\n",
       "Balance             6382\n",
       "NumOfProducts          4\n",
       "HasCrCard              2\n",
       "IsActiveMember         2\n",
       "EstimatedSalary     9999\n",
       "Exited                 2\n",
       "dtype: int64"
      ]
     },
     "execution_count": 7,
     "metadata": {},
     "output_type": "execute_result"
    }
   ],
   "source": [
    "dataset.nunique()"
   ]
  },
  {
   "cell_type": "markdown",
   "id": "3ecfb92b",
   "metadata": {},
   "source": [
    "Amongst 1000 client(customerId):\n",
    "    2932 surname are available. So there are so many clients have the same Surname.\n",
    "    Binary variables(Gender,HasCrCard,IsActiveMember,Exited) have 2 modalities"
   ]
  },
  {
   "cell_type": "markdown",
   "id": "b8495309",
   "metadata": {},
   "source": [
    "### Distribution of the values within one feature [ Category and Binary ]"
   ]
  },
  {
   "cell_type": "code",
   "execution_count": 8,
   "id": "f129e749",
   "metadata": {
    "scrolled": true
   },
   "outputs": [
    {
     "data": {
      "image/png": "[encoded data removed]",
      "text/plain": [
       "<Figure size 1296x576 with 6 Axes>"
      ]
     },
     "metadata": {
      "needs_background": "light"
     },
     "output_type": "display_data"
    }
   ],
   "source": [
    "import seaborn as sns\n",
    "\n",
    "fig, axes = plt.subplots(nrows=2, ncols=3, figsize=(18,8))\n",
    "sns.countplot(x='Geography', data = dataset, ax = axes[0,0])\n",
    "axes[0,0].set_title(' Count of Country')\n",
    "\n",
    "sns.countplot(x='Gender', data = dataset, ax = axes[0,1])\n",
    "axes[0, 1].set_title(' Count of Gender')\n",
    "\n",
    "sns.countplot(x='Tenure', data = dataset, ax = axes[0,2])\n",
    "axes[0, 2].set_title(' Count of Tenure')\n",
    "\n",
    "sns.countplot(x='NumOfProducts', data = dataset, ax = axes[1,0])\n",
    "axes[1, 0].set_title(' Count of The number of Products')\n",
    "\n",
    "sns.countplot(x='HasCrCard', data = dataset, ax = axes[1,1])\n",
    "axes[1, 1].set_title(' Count of Clients who have credit card')\n",
    "\n",
    "sns.countplot(x='IsActiveMember', data = dataset, ax = axes[1,2])\n",
    "axes[1, 2].set_title(' Count of Clients who are active or not')\n",
    "\n",
    "plt.tight_layout()\n",
    "plt.show()"
   ]
  },
  {
   "cell_type": "markdown",
   "id": "00c82764",
   "metadata": {},
   "source": [
    "The customer's bank distributes in three countries such as France, Spain, Germany. Among them, the number of customers in France accounts for the majority.\n",
    "The number of male customers is more than female.\n",
    "Most of NumofProducts are 1 and 2\n",
    "More customer have credit carte than none."
   ]
  },
  {
   "cell_type": "markdown",
   "id": "729b1793",
   "metadata": {},
   "source": [
    "### Histograms of the numerical features:"
   ]
  },
  {
   "cell_type": "code",
   "execution_count": 9,
   "id": "e7515d21",
   "metadata": {},
   "outputs": [
    {
     "data": {
      "text/plain": [
       "Text(0.5, 1.0, 'Distribution of EstimatedSalary')"
      ]
     },
     "execution_count": 9,
     "metadata": {},
     "output_type": "execute_result"
    },
    {
     "data": {
      "image/png": "[encoded data removed]",
      "text/plain": [
       "<Figure size 1296x720 with 4 Axes>"
      ]
     },
     "metadata": {
      "needs_background": "light"
     },
     "output_type": "display_data"
    }
   ],
   "source": [
    "# # Dustribution Age \n",
    "fig, axes = plt.subplots(nrows=2, ncols=2, figsize=(18,10))\n",
    "\n",
    "sns.histplot(x='Age', data = dataset, ax = axes[0,0],kde = True)\n",
    "axes[0,0].set_title('Distribution of Age')\n",
    "\n",
    "sns.histplot(x='CreditScore', data = dataset, ax = axes[0,1],kde = True)\n",
    "axes[0,1].set_title('Distribution of CreditScore')\n",
    "\n",
    "sns.histplot(x='Balance', data = dataset, ax = axes[1,0],kde = True)\n",
    "axes[1,0].set_title('Distribution of Balance ')\n",
    "\n",
    "sns.histplot(x='EstimatedSalary', data = dataset, ax = axes[1,1],kde = True)\n",
    "axes[1,1].set_title('Distribution of EstimatedSalary')\n"
   ]
  },
  {
   "cell_type": "markdown",
   "id": "9e420e4d",
   "metadata": {},
   "source": [
    "### Repartition of a feature depending on the target value"
   ]
  },
  {
   "cell_type": "code",
   "execution_count": 10,
   "id": "8cc5496d",
   "metadata": {},
   "outputs": [
    {
     "data": {
      "image/png": "[encoded data removed]",
      "text/plain": [
       "<Figure size 432x288 with 1 Axes>"
      ]
     },
     "metadata": {
      "needs_background": "light"
     },
     "output_type": "display_data"
    }
   ],
   "source": [
    "df_plot = dataset.groupby(['Exited']).size() \n",
    "df_plot.plot(kind='bar')\n",
    "plt.ylabel('Count')\n",
    "plt.title('Count of Customer Churn')\n",
    "plt.show()"
   ]
  },
  {
   "cell_type": "code",
   "execution_count": 11,
   "id": "62583293",
   "metadata": {},
   "outputs": [],
   "source": [
    "# Let check which features correlate with target\n",
    "correlation = dataset.corr()"
   ]
  },
  {
   "cell_type": "code",
   "execution_count": 12,
   "id": "31d9a148",
   "metadata": {},
   "outputs": [
    {
     "name": "stderr",
     "output_type": "stream",
     "text": [
      "<ipython-input-12-e520d93ed6c0>:1: DeprecationWarning: `np.bool` is a deprecated alias for the builtin `bool`. To silence this warning, use `bool` by itself. Doing this will not modify any behavior and is safe. If you specifically wanted the numpy scalar type, use `np.bool_` here.\n",
      "Deprecated in NumPy 1.20; for more details and guidance: https://numpy.org/devdocs/release/1.20.0-notes.html#deprecations\n",
      "  mask = np.zeros_like(correlation, dtype=np.bool)\n"
     ]
    },
    {
     "data": {
      "image/png": "[encoded data removed]",
      "text/plain": [
       "<Figure size 432x288 with 2 Axes>"
      ]
     },
     "metadata": {
      "needs_background": "light"
     },
     "output_type": "display_data"
    }
   ],
   "source": [
    "mask = np.zeros_like(correlation, dtype=np.bool)\n",
    "mask[np.triu_indices_from(mask)] = True  # Mask to keep only one half of the symetrical matrix\n",
    "sns.heatmap(correlation,\n",
    "            vmin=-1,\n",
    "            vmax=1,\n",
    "            cmap='coolwarm',\n",
    "            mask = mask,\n",
    "            linewidths=0.1)\n",
    "plt.show()"
   ]
  },
  {
   "cell_type": "markdown",
   "id": "0919c4ed",
   "metadata": {},
   "source": [
    "Exited seems to be somehow correlated with Age, Balance, isActiveMember."
   ]
  },
  {
   "cell_type": "code",
   "execution_count": 13,
   "id": "aa91f05e",
   "metadata": {},
   "outputs": [
    {
     "data": {
      "image/png": "[encoded data removed]",
      "text/plain": [
       "<Figure size 936x360 with 3 Axes>"
      ]
     },
     "metadata": {
      "needs_background": "light"
     },
     "output_type": "display_data"
    }
   ],
   "source": [
    "fig, axes = plt.subplots(nrows=1, ncols=3, figsize=(13,5))\n",
    "\n",
    "sns.boxplot(y='Age', x='Exited', data = dataset, width = 0.2, ax = axes[0])\n",
    "axes[0].set_title('Distribution of Age depending on Churn')\n",
    "\n",
    "sns.boxplot(y='Balance', x='Exited', data = dataset, width = 0.2, ax = axes[1])\n",
    "axes[1].set_title('Distribution of Balance depending on Churn')\n",
    "\n",
    "sns.boxplot(y='EstimatedSalary', x='Exited', data = dataset, width = 0.2, ax = axes[2])\n",
    "axes[2].set_title('Distribution of EstimatedSalary depending on Churn')\n",
    "\n",
    "sns.despine(left=True)\n",
    "\n",
    "plt.tight_layout()\n",
    "plt.show()"
   ]
  },
  {
   "cell_type": "code",
   "execution_count": 14,
   "id": "6e2d296d",
   "metadata": {},
   "outputs": [
    {
     "data": {
      "text/plain": [
       "array([1, 0], dtype=int64)"
      ]
     },
     "execution_count": 14,
     "metadata": {},
     "output_type": "execute_result"
    }
   ],
   "source": [
    "dataset['Exited'].unique()"
   ]
  },
  {
   "cell_type": "code",
   "execution_count": 15,
   "id": "61d0b46b",
   "metadata": {
    "scrolled": true
   },
   "outputs": [
    {
     "data": {
      "image/png": "[encoded data removed]",
      "text/plain": [
       "<Figure size 432x288 with 1 Axes>"
      ]
     },
     "metadata": {
      "needs_background": "light"
     },
     "output_type": "display_data"
    }
   ],
   "source": [
    "Tenure = dataset.groupby(['IsActiveMember','Exited']).size().reset_index().pivot(index='IsActiveMember', columns='Exited', values=0)\n",
    "Tenure.plot(kind='bar', stacked=True, width=0.8)\n",
    "plt.show()"
   ]
  },
  {
   "cell_type": "markdown",
   "id": "2966170b",
   "metadata": {},
   "source": [
    "Now, it seems more obvious that Balance,Age, IsActiveMember have an impact on Exited, on the contrary to EstimateSalary."
   ]
  },
  {
   "cell_type": "code",
   "execution_count": 16,
   "id": "0eec5fdc",
   "metadata": {},
   "outputs": [
    {
     "data": {
      "image/png": "[encoded data removed]",
      "text/plain": [
       "<Figure size 432x288 with 1 Axes>"
      ]
     },
     "metadata": {
      "needs_background": "light"
     },
     "output_type": "display_data"
    }
   ],
   "source": [
    "# Let's check repartition of GEO depending on the target value\n",
    "df_plot = dataset.groupby(['Geography', 'Exited']).size().unstack().plot(kind='bar', stacked=True, color=['orange', 'skyblue'], width=0.8)\n",
    "plt.ylabel('Count')\n",
    "plt.show()"
   ]
  },
  {
   "cell_type": "markdown",
   "id": "cde3f3a5",
   "metadata": {},
   "source": [
    "# Prepare the data set. Example: dropping unrelevant data, preparing the predictors and the response, data encoding, train/test split, data scaling."
   ]
  },
  {
   "cell_type": "markdown",
   "id": "3c75169d",
   "metadata": {},
   "source": [
    "#### Dropping unrelevant data"
   ]
  },
  {
   "cell_type": "code",
   "execution_count": 17,
   "id": "c585c783",
   "metadata": {},
   "outputs": [],
   "source": [
    "dataset=dataset.drop(['RowNumber', 'CustomerId', 'Surname'],axis=1)"
   ]
  },
  {
   "cell_type": "markdown",
   "id": "6b11955b",
   "metadata": {},
   "source": [
    "#### Preparing the predictors and the response"
   ]
  },
  {
   "cell_type": "code",
   "execution_count": 18,
   "id": "e4c410f2",
   "metadata": {},
   "outputs": [],
   "source": [
    "X=dataset.drop('Exited', axis=1)"
   ]
  },
  {
   "cell_type": "code",
   "execution_count": 19,
   "id": "8dab97e1",
   "metadata": {},
   "outputs": [],
   "source": [
    "y=dataset['Exited']"
   ]
  },
  {
   "cell_type": "markdown",
   "id": "8bd71c0d",
   "metadata": {},
   "source": [
    "## Data encoding for category features"
   ]
  },
  {
   "cell_type": "markdown",
   "id": "b4fe8681",
   "metadata": {},
   "source": [
    "#### Method 1 encoder binary and category in 2 step speparate"
   ]
  },
  {
   "cell_type": "code",
   "execution_count": 20,
   "id": "41a975f8",
   "metadata": {},
   "outputs": [],
   "source": [
    "X_raw = X.copy()"
   ]
  },
  {
   "cell_type": "code",
   "execution_count": 21,
   "id": "c1b1d1d4",
   "metadata": {},
   "outputs": [],
   "source": [
    "from sklearn.preprocessing import OrdinalEncoder\n",
    "X_ord_encoded = X.copy()\n"
   ]
  },
  {
   "cell_type": "code",
   "execution_count": 22,
   "id": "a16d24d1",
   "metadata": {},
   "outputs": [
    {
     "data": {
      "text/html": [
       "<div>\n",
       "<style scoped>\n",
       "    .dataframe tbody tr th:only-of-type {\n",
       "        vertical-align: middle;\n",
       "    }\n",
       "\n",
       "    .dataframe tbody tr th {\n",
       "        vertical-align: top;\n",
       "    }\n",
       "\n",
       "    .dataframe thead th {\n",
       "        text-align: right;\n",
       "    }\n",
       "</style>\n",
       "<table border=\"1\" class=\"dataframe\">\n",
       "  <thead>\n",
       "    <tr style=\"text-align: right;\">\n",
       "      <th></th>\n",
       "      <th>CreditScore</th>\n",
       "      <th>Geography</th>\n",
       "      <th>Gender</th>\n",
       "      <th>Age</th>\n",
       "      <th>Tenure</th>\n",
       "      <th>Balance</th>\n",
       "      <th>NumOfProducts</th>\n",
       "      <th>HasCrCard</th>\n",
       "      <th>IsActiveMember</th>\n",
       "      <th>EstimatedSalary</th>\n",
       "    </tr>\n",
       "  </thead>\n",
       "  <tbody>\n",
       "    <tr>\n",
       "      <th>0</th>\n",
       "      <td>619</td>\n",
       "      <td>France</td>\n",
       "      <td>0.0</td>\n",
       "      <td>42</td>\n",
       "      <td>2</td>\n",
       "      <td>0.00</td>\n",
       "      <td>1</td>\n",
       "      <td>1</td>\n",
       "      <td>1</td>\n",
       "      <td>101348.88</td>\n",
       "    </tr>\n",
       "    <tr>\n",
       "      <th>1</th>\n",
       "      <td>608</td>\n",
       "      <td>Spain</td>\n",
       "      <td>0.0</td>\n",
       "      <td>41</td>\n",
       "      <td>1</td>\n",
       "      <td>83807.86</td>\n",
       "      <td>1</td>\n",
       "      <td>0</td>\n",
       "      <td>1</td>\n",
       "      <td>112542.58</td>\n",
       "    </tr>\n",
       "    <tr>\n",
       "      <th>2</th>\n",
       "      <td>502</td>\n",
       "      <td>France</td>\n",
       "      <td>0.0</td>\n",
       "      <td>42</td>\n",
       "      <td>8</td>\n",
       "      <td>159660.80</td>\n",
       "      <td>3</td>\n",
       "      <td>1</td>\n",
       "      <td>0</td>\n",
       "      <td>113931.57</td>\n",
       "    </tr>\n",
       "    <tr>\n",
       "      <th>3</th>\n",
       "      <td>699</td>\n",
       "      <td>France</td>\n",
       "      <td>0.0</td>\n",
       "      <td>39</td>\n",
       "      <td>1</td>\n",
       "      <td>0.00</td>\n",
       "      <td>2</td>\n",
       "      <td>0</td>\n",
       "      <td>0</td>\n",
       "      <td>93826.63</td>\n",
       "    </tr>\n",
       "    <tr>\n",
       "      <th>4</th>\n",
       "      <td>850</td>\n",
       "      <td>Spain</td>\n",
       "      <td>0.0</td>\n",
       "      <td>43</td>\n",
       "      <td>2</td>\n",
       "      <td>125510.82</td>\n",
       "      <td>1</td>\n",
       "      <td>1</td>\n",
       "      <td>1</td>\n",
       "      <td>79084.10</td>\n",
       "    </tr>\n",
       "    <tr>\n",
       "      <th>5</th>\n",
       "      <td>645</td>\n",
       "      <td>Spain</td>\n",
       "      <td>1.0</td>\n",
       "      <td>44</td>\n",
       "      <td>8</td>\n",
       "      <td>113755.78</td>\n",
       "      <td>2</td>\n",
       "      <td>1</td>\n",
       "      <td>0</td>\n",
       "      <td>149756.71</td>\n",
       "    </tr>\n",
       "  </tbody>\n",
       "</table>\n",
       "</div>"
      ],
      "text/plain": [
       "   CreditScore Geography  Gender  Age  Tenure    Balance  NumOfProducts  \\\n",
       "0          619    France     0.0   42       2       0.00              1   \n",
       "1          608     Spain     0.0   41       1   83807.86              1   \n",
       "2          502    France     0.0   42       8  159660.80              3   \n",
       "3          699    France     0.0   39       1       0.00              2   \n",
       "4          850     Spain     0.0   43       2  125510.82              1   \n",
       "5          645     Spain     1.0   44       8  113755.78              2   \n",
       "\n",
       "   HasCrCard  IsActiveMember  EstimatedSalary  \n",
       "0          1               1        101348.88  \n",
       "1          0               1        112542.58  \n",
       "2          1               0        113931.57  \n",
       "3          0               0         93826.63  \n",
       "4          1               1         79084.10  \n",
       "5          1               0        149756.71  "
      ]
     },
     "execution_count": 22,
     "metadata": {},
     "output_type": "execute_result"
    }
   ],
   "source": [
    "#OrdinalEncoder for Binary value (Gender)\n",
    "ordinal_encoder = OrdinalEncoder()\n",
    "ordinal_encoder.fit(X_ord_encoded[['Gender']])\n",
    "X_ord_encoded['Gender'] = ordinal_encoder.transform(X_ord_encoded[['Gender']])\n",
    "X_ord_encoded.head(6)"
   ]
  },
  {
   "cell_type": "markdown",
   "id": "8f51e694",
   "metadata": {},
   "source": [
    "#### One hot encoder for categorical data"
   ]
  },
  {
   "cell_type": "code",
   "execution_count": 23,
   "id": "f722eb0e",
   "metadata": {},
   "outputs": [
    {
     "data": {
      "text/plain": [
       "array([[1.0000000e+00, 0.0000000e+00, 0.0000000e+00, 6.1900000e+02,\n",
       "        0.0000000e+00, 4.2000000e+01, 2.0000000e+00, 0.0000000e+00,\n",
       "        1.0000000e+00, 1.0000000e+00, 1.0000000e+00, 1.0134888e+05],\n",
       "       [0.0000000e+00, 0.0000000e+00, 1.0000000e+00, 6.0800000e+02,\n",
       "        0.0000000e+00, 4.1000000e+01, 1.0000000e+00, 8.3807860e+04,\n",
       "        1.0000000e+00, 0.0000000e+00, 1.0000000e+00, 1.1254258e+05]])"
      ]
     },
     "execution_count": 23,
     "metadata": {},
     "output_type": "execute_result"
    }
   ],
   "source": [
    "from sklearn.compose import ColumnTransformer\n",
    "#method 1 using OnehotEncoder (ColumTransforme)\n",
    "from sklearn.preprocessing import OneHotEncoder\n",
    "\n",
    "oh_encoder = ColumnTransformer(transformers=[('encoder', OneHotEncoder(), ['Geography'])], remainder='passthrough')\n",
    "\n",
    "X_oh_ord_encoded = oh_encoder.fit_transform(X_ord_encoded)\n",
    "\n",
    "X_oh_ord_encoded[:2]"
   ]
  },
  {
   "cell_type": "code",
   "execution_count": 24,
   "id": "20c3b305",
   "metadata": {},
   "outputs": [
    {
     "data": {
      "text/html": [
       "<div>\n",
       "<style scoped>\n",
       "    .dataframe tbody tr th:only-of-type {\n",
       "        vertical-align: middle;\n",
       "    }\n",
       "\n",
       "    .dataframe tbody tr th {\n",
       "        vertical-align: top;\n",
       "    }\n",
       "\n",
       "    .dataframe thead th {\n",
       "        text-align: right;\n",
       "    }\n",
       "</style>\n",
       "<table border=\"1\" class=\"dataframe\">\n",
       "  <thead>\n",
       "    <tr style=\"text-align: right;\">\n",
       "      <th></th>\n",
       "      <th>CreditScore</th>\n",
       "      <th>Gender</th>\n",
       "      <th>Age</th>\n",
       "      <th>Tenure</th>\n",
       "      <th>Balance</th>\n",
       "      <th>NumOfProducts</th>\n",
       "      <th>HasCrCard</th>\n",
       "      <th>IsActiveMember</th>\n",
       "      <th>EstimatedSalary</th>\n",
       "      <th>is_France</th>\n",
       "      <th>is_Germany</th>\n",
       "      <th>is_Spain</th>\n",
       "    </tr>\n",
       "  </thead>\n",
       "  <tbody>\n",
       "    <tr>\n",
       "      <th>0</th>\n",
       "      <td>619</td>\n",
       "      <td>0.0</td>\n",
       "      <td>42</td>\n",
       "      <td>2</td>\n",
       "      <td>0.00</td>\n",
       "      <td>1</td>\n",
       "      <td>1</td>\n",
       "      <td>1</td>\n",
       "      <td>101348.88</td>\n",
       "      <td>1</td>\n",
       "      <td>0</td>\n",
       "      <td>0</td>\n",
       "    </tr>\n",
       "    <tr>\n",
       "      <th>1</th>\n",
       "      <td>608</td>\n",
       "      <td>0.0</td>\n",
       "      <td>41</td>\n",
       "      <td>1</td>\n",
       "      <td>83807.86</td>\n",
       "      <td>1</td>\n",
       "      <td>0</td>\n",
       "      <td>1</td>\n",
       "      <td>112542.58</td>\n",
       "      <td>0</td>\n",
       "      <td>0</td>\n",
       "      <td>1</td>\n",
       "    </tr>\n",
       "    <tr>\n",
       "      <th>2</th>\n",
       "      <td>502</td>\n",
       "      <td>0.0</td>\n",
       "      <td>42</td>\n",
       "      <td>8</td>\n",
       "      <td>159660.80</td>\n",
       "      <td>3</td>\n",
       "      <td>1</td>\n",
       "      <td>0</td>\n",
       "      <td>113931.57</td>\n",
       "      <td>1</td>\n",
       "      <td>0</td>\n",
       "      <td>0</td>\n",
       "    </tr>\n",
       "    <tr>\n",
       "      <th>3</th>\n",
       "      <td>699</td>\n",
       "      <td>0.0</td>\n",
       "      <td>39</td>\n",
       "      <td>1</td>\n",
       "      <td>0.00</td>\n",
       "      <td>2</td>\n",
       "      <td>0</td>\n",
       "      <td>0</td>\n",
       "      <td>93826.63</td>\n",
       "      <td>1</td>\n",
       "      <td>0</td>\n",
       "      <td>0</td>\n",
       "    </tr>\n",
       "    <tr>\n",
       "      <th>4</th>\n",
       "      <td>850</td>\n",
       "      <td>0.0</td>\n",
       "      <td>43</td>\n",
       "      <td>2</td>\n",
       "      <td>125510.82</td>\n",
       "      <td>1</td>\n",
       "      <td>1</td>\n",
       "      <td>1</td>\n",
       "      <td>79084.10</td>\n",
       "      <td>0</td>\n",
       "      <td>0</td>\n",
       "      <td>1</td>\n",
       "    </tr>\n",
       "    <tr>\n",
       "      <th>...</th>\n",
       "      <td>...</td>\n",
       "      <td>...</td>\n",
       "      <td>...</td>\n",
       "      <td>...</td>\n",
       "      <td>...</td>\n",
       "      <td>...</td>\n",
       "      <td>...</td>\n",
       "      <td>...</td>\n",
       "      <td>...</td>\n",
       "      <td>...</td>\n",
       "      <td>...</td>\n",
       "      <td>...</td>\n",
       "    </tr>\n",
       "    <tr>\n",
       "      <th>9995</th>\n",
       "      <td>771</td>\n",
       "      <td>1.0</td>\n",
       "      <td>39</td>\n",
       "      <td>5</td>\n",
       "      <td>0.00</td>\n",
       "      <td>2</td>\n",
       "      <td>1</td>\n",
       "      <td>0</td>\n",
       "      <td>96270.64</td>\n",
       "      <td>1</td>\n",
       "      <td>0</td>\n",
       "      <td>0</td>\n",
       "    </tr>\n",
       "    <tr>\n",
       "      <th>9996</th>\n",
       "      <td>516</td>\n",
       "      <td>1.0</td>\n",
       "      <td>35</td>\n",
       "      <td>10</td>\n",
       "      <td>57369.61</td>\n",
       "      <td>1</td>\n",
       "      <td>1</td>\n",
       "      <td>1</td>\n",
       "      <td>101699.77</td>\n",
       "      <td>1</td>\n",
       "      <td>0</td>\n",
       "      <td>0</td>\n",
       "    </tr>\n",
       "    <tr>\n",
       "      <th>9997</th>\n",
       "      <td>709</td>\n",
       "      <td>0.0</td>\n",
       "      <td>36</td>\n",
       "      <td>7</td>\n",
       "      <td>0.00</td>\n",
       "      <td>1</td>\n",
       "      <td>0</td>\n",
       "      <td>1</td>\n",
       "      <td>42085.58</td>\n",
       "      <td>1</td>\n",
       "      <td>0</td>\n",
       "      <td>0</td>\n",
       "    </tr>\n",
       "    <tr>\n",
       "      <th>9998</th>\n",
       "      <td>772</td>\n",
       "      <td>1.0</td>\n",
       "      <td>42</td>\n",
       "      <td>3</td>\n",
       "      <td>75075.31</td>\n",
       "      <td>2</td>\n",
       "      <td>1</td>\n",
       "      <td>0</td>\n",
       "      <td>92888.52</td>\n",
       "      <td>0</td>\n",
       "      <td>1</td>\n",
       "      <td>0</td>\n",
       "    </tr>\n",
       "    <tr>\n",
       "      <th>9999</th>\n",
       "      <td>792</td>\n",
       "      <td>0.0</td>\n",
       "      <td>28</td>\n",
       "      <td>4</td>\n",
       "      <td>130142.79</td>\n",
       "      <td>1</td>\n",
       "      <td>1</td>\n",
       "      <td>0</td>\n",
       "      <td>38190.78</td>\n",
       "      <td>1</td>\n",
       "      <td>0</td>\n",
       "      <td>0</td>\n",
       "    </tr>\n",
       "  </tbody>\n",
       "</table>\n",
       "<p>10000 rows × 12 columns</p>\n",
       "</div>"
      ],
      "text/plain": [
       "      CreditScore  Gender  Age  Tenure    Balance  NumOfProducts  HasCrCard  \\\n",
       "0             619     0.0   42       2       0.00              1          1   \n",
       "1             608     0.0   41       1   83807.86              1          0   \n",
       "2             502     0.0   42       8  159660.80              3          1   \n",
       "3             699     0.0   39       1       0.00              2          0   \n",
       "4             850     0.0   43       2  125510.82              1          1   \n",
       "...           ...     ...  ...     ...        ...            ...        ...   \n",
       "9995          771     1.0   39       5       0.00              2          1   \n",
       "9996          516     1.0   35      10   57369.61              1          1   \n",
       "9997          709     0.0   36       7       0.00              1          0   \n",
       "9998          772     1.0   42       3   75075.31              2          1   \n",
       "9999          792     0.0   28       4  130142.79              1          1   \n",
       "\n",
       "      IsActiveMember  EstimatedSalary  is_France  is_Germany  is_Spain  \n",
       "0                  1        101348.88          1           0         0  \n",
       "1                  1        112542.58          0           0         1  \n",
       "2                  0        113931.57          1           0         0  \n",
       "3                  0         93826.63          1           0         0  \n",
       "4                  1         79084.10          0           0         1  \n",
       "...              ...              ...        ...         ...       ...  \n",
       "9995               0         96270.64          1           0         0  \n",
       "9996               1        101699.77          1           0         0  \n",
       "9997               1         42085.58          1           0         0  \n",
       "9998               0         92888.52          0           1         0  \n",
       "9999               0         38190.78          1           0         0  \n",
       "\n",
       "[10000 rows x 12 columns]"
      ]
     },
     "execution_count": 24,
     "metadata": {},
     "output_type": "execute_result"
    }
   ],
   "source": [
    "# method 2 using dumies\n",
    "X = pd.get_dummies(X_ord_encoded, columns=['Geography'], prefix=['is'])\n",
    "X"
   ]
  },
  {
   "cell_type": "markdown",
   "id": "0f4f6b52",
   "metadata": {},
   "source": [
    "#### Method 3 Even better alternative: combine multiple transformers in one ColumnTransformer"
   ]
  },
  {
   "cell_type": "code",
   "execution_count": 25,
   "id": "266c997f",
   "metadata": {},
   "outputs": [
    {
     "name": "stdout",
     "output_type": "stream",
     "text": [
      "['CreditScore', 'Age', 'Tenure', 'Balance', 'NumOfProducts', 'HasCrCard', 'IsActiveMember', 'EstimatedSalary']\n"
     ]
    }
   ],
   "source": [
    "binary_columns = ['Gender']\n",
    "categorical_columns = ['Geography']\n",
    "non_encoded_columns = list(X_raw.drop(binary_columns,axis=1).drop(categorical_columns, axis=1))\n",
    "print (non_encoded_columns)\n"
   ]
  },
  {
   "cell_type": "code",
   "execution_count": 26,
   "id": "d34fec3d",
   "metadata": {
    "scrolled": true
   },
   "outputs": [
    {
     "data": {
      "text/plain": [
       "array([[0.0000000e+00, 1.0000000e+00, 0.0000000e+00, 0.0000000e+00,\n",
       "        6.1900000e+02, 4.2000000e+01, 2.0000000e+00, 0.0000000e+00,\n",
       "        1.0000000e+00, 1.0000000e+00, 1.0000000e+00, 1.0134888e+05],\n",
       "       [0.0000000e+00, 0.0000000e+00, 0.0000000e+00, 1.0000000e+00,\n",
       "        6.0800000e+02, 4.1000000e+01, 1.0000000e+00, 8.3807860e+04,\n",
       "        1.0000000e+00, 0.0000000e+00, 1.0000000e+00, 1.1254258e+05]])"
      ]
     },
     "execution_count": 26,
     "metadata": {},
     "output_type": "execute_result"
    }
   ],
   "source": [
    "from sklearn.preprocessing import OrdinalEncoder\n",
    "\n",
    "transform_pipeline = ColumnTransformer(\n",
    "    transformers=[\n",
    "        ('ordinal', OrdinalEncoder(), binary_columns),\n",
    "        ('one_hot', OneHotEncoder(), categorical_columns)\n",
    "    ], \n",
    "    remainder='passthrough'\n",
    ")\n",
    "\n",
    "# Transform features as a numPy array\n",
    "X_numpy = transform_pipeline.fit_transform(X_raw)\n",
    "X_numpy[:2]"
   ]
  },
  {
   "cell_type": "code",
   "execution_count": 27,
   "id": "cd8e6fbd",
   "metadata": {
    "scrolled": true
   },
   "outputs": [
    {
     "data": {
      "text/html": [
       "<div>\n",
       "<style scoped>\n",
       "    .dataframe tbody tr th:only-of-type {\n",
       "        vertical-align: middle;\n",
       "    }\n",
       "\n",
       "    .dataframe tbody tr th {\n",
       "        vertical-align: top;\n",
       "    }\n",
       "\n",
       "    .dataframe thead th {\n",
       "        text-align: right;\n",
       "    }\n",
       "</style>\n",
       "<table border=\"1\" class=\"dataframe\">\n",
       "  <thead>\n",
       "    <tr style=\"text-align: right;\">\n",
       "      <th></th>\n",
       "      <th>Geography_France</th>\n",
       "      <th>Geography_Germany</th>\n",
       "      <th>Geography_Spain</th>\n",
       "      <th>Gender</th>\n",
       "      <th>CreditScore</th>\n",
       "      <th>Age</th>\n",
       "      <th>Tenure</th>\n",
       "      <th>Balance</th>\n",
       "      <th>NumOfProducts</th>\n",
       "      <th>HasCrCard</th>\n",
       "      <th>IsActiveMember</th>\n",
       "      <th>EstimatedSalary</th>\n",
       "    </tr>\n",
       "  </thead>\n",
       "  <tbody>\n",
       "    <tr>\n",
       "      <th>0</th>\n",
       "      <td>0.0</td>\n",
       "      <td>1.0</td>\n",
       "      <td>0.0</td>\n",
       "      <td>0.0</td>\n",
       "      <td>619.0</td>\n",
       "      <td>42.0</td>\n",
       "      <td>2.0</td>\n",
       "      <td>0.00</td>\n",
       "      <td>1.0</td>\n",
       "      <td>1.0</td>\n",
       "      <td>1.0</td>\n",
       "      <td>101348.88</td>\n",
       "    </tr>\n",
       "    <tr>\n",
       "      <th>1</th>\n",
       "      <td>0.0</td>\n",
       "      <td>0.0</td>\n",
       "      <td>0.0</td>\n",
       "      <td>1.0</td>\n",
       "      <td>608.0</td>\n",
       "      <td>41.0</td>\n",
       "      <td>1.0</td>\n",
       "      <td>83807.86</td>\n",
       "      <td>1.0</td>\n",
       "      <td>0.0</td>\n",
       "      <td>1.0</td>\n",
       "      <td>112542.58</td>\n",
       "    </tr>\n",
       "    <tr>\n",
       "      <th>2</th>\n",
       "      <td>0.0</td>\n",
       "      <td>1.0</td>\n",
       "      <td>0.0</td>\n",
       "      <td>0.0</td>\n",
       "      <td>502.0</td>\n",
       "      <td>42.0</td>\n",
       "      <td>8.0</td>\n",
       "      <td>159660.80</td>\n",
       "      <td>3.0</td>\n",
       "      <td>1.0</td>\n",
       "      <td>0.0</td>\n",
       "      <td>113931.57</td>\n",
       "    </tr>\n",
       "    <tr>\n",
       "      <th>3</th>\n",
       "      <td>0.0</td>\n",
       "      <td>1.0</td>\n",
       "      <td>0.0</td>\n",
       "      <td>0.0</td>\n",
       "      <td>699.0</td>\n",
       "      <td>39.0</td>\n",
       "      <td>1.0</td>\n",
       "      <td>0.00</td>\n",
       "      <td>2.0</td>\n",
       "      <td>0.0</td>\n",
       "      <td>0.0</td>\n",
       "      <td>93826.63</td>\n",
       "    </tr>\n",
       "    <tr>\n",
       "      <th>4</th>\n",
       "      <td>0.0</td>\n",
       "      <td>0.0</td>\n",
       "      <td>0.0</td>\n",
       "      <td>1.0</td>\n",
       "      <td>850.0</td>\n",
       "      <td>43.0</td>\n",
       "      <td>2.0</td>\n",
       "      <td>125510.82</td>\n",
       "      <td>1.0</td>\n",
       "      <td>1.0</td>\n",
       "      <td>1.0</td>\n",
       "      <td>79084.10</td>\n",
       "    </tr>\n",
       "  </tbody>\n",
       "</table>\n",
       "</div>"
      ],
      "text/plain": [
       "   Geography_France  Geography_Germany  Geography_Spain  Gender  CreditScore  \\\n",
       "0               0.0                1.0              0.0     0.0        619.0   \n",
       "1               0.0                0.0              0.0     1.0        608.0   \n",
       "2               0.0                1.0              0.0     0.0        502.0   \n",
       "3               0.0                1.0              0.0     0.0        699.0   \n",
       "4               0.0                0.0              0.0     1.0        850.0   \n",
       "\n",
       "    Age  Tenure    Balance  NumOfProducts  HasCrCard  IsActiveMember  \\\n",
       "0  42.0     2.0       0.00            1.0        1.0             1.0   \n",
       "1  41.0     1.0   83807.86            1.0        0.0             1.0   \n",
       "2  42.0     8.0  159660.80            3.0        1.0             0.0   \n",
       "3  39.0     1.0       0.00            2.0        0.0             0.0   \n",
       "4  43.0     2.0  125510.82            1.0        1.0             1.0   \n",
       "\n",
       "   EstimatedSalary  \n",
       "0        101348.88  \n",
       "1        112542.58  \n",
       "2        113931.57  \n",
       "3         93826.63  \n",
       "4         79084.10  "
      ]
     },
     "execution_count": 27,
     "metadata": {},
     "output_type": "execute_result"
    }
   ],
   "source": [
    "# Wrap the transformed features in a DataFrame with named columns\n",
    "final_column_names = np.concatenate([\n",
    "    transform_pipeline.named_transformers_['one_hot'].get_feature_names_out(),\n",
    "    binary_columns,\n",
    "    non_encoded_columns\n",
    "])\n",
    "X = pd.DataFrame(X_numpy, columns=final_column_names)\n",
    "X.head()"
   ]
  },
  {
   "cell_type": "markdown",
   "id": "fbd39d4b",
   "metadata": {},
   "source": [
    "#### Data set split"
   ]
  },
  {
   "cell_type": "code",
   "execution_count": 28,
   "id": "c468fe4b",
   "metadata": {},
   "outputs": [],
   "source": [
    "from sklearn.model_selection import train_test_split\n",
    "X_train, X_test, y_train, y_test = train_test_split(X, y, test_size = 0.25)"
   ]
  },
  {
   "cell_type": "code",
   "execution_count": 29,
   "id": "5eb6b029",
   "metadata": {},
   "outputs": [
    {
     "name": "stdout",
     "output_type": "stream",
     "text": [
      "(7500, 12)\n",
      "(2500, 12)\n",
      "(7500,)\n",
      "(2500,)\n"
     ]
    }
   ],
   "source": [
    "print(X_train.shape)\n",
    "print(X_test.shape)\n",
    "print(y_train.shape)\n",
    "print(y_test.shape)"
   ]
  },
  {
   "cell_type": "markdown",
   "id": "160b9e27",
   "metadata": {},
   "source": [
    "## Scaling (Scaling for mumerical features)"
   ]
  },
  {
   "cell_type": "code",
   "execution_count": 30,
   "id": "1fff3c34",
   "metadata": {},
   "outputs": [
    {
     "data": {
      "text/html": [
       "<div>\n",
       "<style scoped>\n",
       "    .dataframe tbody tr th:only-of-type {\n",
       "        vertical-align: middle;\n",
       "    }\n",
       "\n",
       "    .dataframe tbody tr th {\n",
       "        vertical-align: top;\n",
       "    }\n",
       "\n",
       "    .dataframe thead th {\n",
       "        text-align: right;\n",
       "    }\n",
       "</style>\n",
       "<table border=\"1\" class=\"dataframe\">\n",
       "  <thead>\n",
       "    <tr style=\"text-align: right;\">\n",
       "      <th></th>\n",
       "      <th>CreditScore</th>\n",
       "      <th>Age</th>\n",
       "      <th>Balance</th>\n",
       "      <th>Tenure</th>\n",
       "      <th>NumOfProducts</th>\n",
       "      <th>EstimatedSalary</th>\n",
       "    </tr>\n",
       "  </thead>\n",
       "  <tbody>\n",
       "    <tr>\n",
       "      <th>983</th>\n",
       "      <td>614.0</td>\n",
       "      <td>35.0</td>\n",
       "      <td>128100.28</td>\n",
       "      <td>6.0</td>\n",
       "      <td>1.0</td>\n",
       "      <td>69454.24</td>\n",
       "    </tr>\n",
       "    <tr>\n",
       "      <th>4533</th>\n",
       "      <td>850.0</td>\n",
       "      <td>39.0</td>\n",
       "      <td>206014.94</td>\n",
       "      <td>6.0</td>\n",
       "      <td>2.0</td>\n",
       "      <td>42774.84</td>\n",
       "    </tr>\n",
       "    <tr>\n",
       "      <th>2866</th>\n",
       "      <td>727.0</td>\n",
       "      <td>26.0</td>\n",
       "      <td>121508.28</td>\n",
       "      <td>9.0</td>\n",
       "      <td>1.0</td>\n",
       "      <td>146785.44</td>\n",
       "    </tr>\n",
       "    <tr>\n",
       "      <th>9966</th>\n",
       "      <td>479.0</td>\n",
       "      <td>35.0</td>\n",
       "      <td>125920.98</td>\n",
       "      <td>4.0</td>\n",
       "      <td>1.0</td>\n",
       "      <td>20393.44</td>\n",
       "    </tr>\n",
       "    <tr>\n",
       "      <th>8607</th>\n",
       "      <td>602.0</td>\n",
       "      <td>38.0</td>\n",
       "      <td>71667.97</td>\n",
       "      <td>2.0</td>\n",
       "      <td>2.0</td>\n",
       "      <td>137111.89</td>\n",
       "    </tr>\n",
       "    <tr>\n",
       "      <th>459</th>\n",
       "      <td>637.0</td>\n",
       "      <td>37.0</td>\n",
       "      <td>0.00</td>\n",
       "      <td>8.0</td>\n",
       "      <td>1.0</td>\n",
       "      <td>186062.36</td>\n",
       "    </tr>\n",
       "  </tbody>\n",
       "</table>\n",
       "</div>"
      ],
      "text/plain": [
       "      CreditScore   Age    Balance  Tenure  NumOfProducts  EstimatedSalary\n",
       "983         614.0  35.0  128100.28     6.0            1.0         69454.24\n",
       "4533        850.0  39.0  206014.94     6.0            2.0         42774.84\n",
       "2866        727.0  26.0  121508.28     9.0            1.0        146785.44\n",
       "9966        479.0  35.0  125920.98     4.0            1.0         20393.44\n",
       "8607        602.0  38.0   71667.97     2.0            2.0        137111.89\n",
       "459         637.0  37.0       0.00     8.0            1.0        186062.36"
      ]
     },
     "execution_count": 30,
     "metadata": {},
     "output_type": "execute_result"
    }
   ],
   "source": [
    "numerical_feature = ['CreditScore','Age','Balance','Tenure','NumOfProducts','EstimatedSalary']\n",
    "X_train[numerical_feature].head(6)"
   ]
  },
  {
   "cell_type": "code",
   "execution_count": 31,
   "id": "c4fb357d",
   "metadata": {},
   "outputs": [
    {
     "data": {
      "text/html": [
       "<div>\n",
       "<style scoped>\n",
       "    .dataframe tbody tr th:only-of-type {\n",
       "        vertical-align: middle;\n",
       "    }\n",
       "\n",
       "    .dataframe tbody tr th {\n",
       "        vertical-align: top;\n",
       "    }\n",
       "\n",
       "    .dataframe thead th {\n",
       "        text-align: right;\n",
       "    }\n",
       "</style>\n",
       "<table border=\"1\" class=\"dataframe\">\n",
       "  <thead>\n",
       "    <tr style=\"text-align: right;\">\n",
       "      <th></th>\n",
       "      <th>CreditScore</th>\n",
       "      <th>Age</th>\n",
       "      <th>Balance</th>\n",
       "      <th>Tenure</th>\n",
       "      <th>NumOfProducts</th>\n",
       "      <th>EstimatedSalary</th>\n",
       "    </tr>\n",
       "  </thead>\n",
       "  <tbody>\n",
       "    <tr>\n",
       "      <th>983</th>\n",
       "      <td>-0.374153</td>\n",
       "      <td>-0.373000</td>\n",
       "      <td>0.818022</td>\n",
       "      <td>0.345587</td>\n",
       "      <td>-0.911416</td>\n",
       "      <td>-0.538399</td>\n",
       "    </tr>\n",
       "    <tr>\n",
       "      <th>4533</th>\n",
       "      <td>2.057804</td>\n",
       "      <td>0.003856</td>\n",
       "      <td>2.069040</td>\n",
       "      <td>0.345587</td>\n",
       "      <td>0.817370</td>\n",
       "      <td>-1.001468</td>\n",
       "    </tr>\n",
       "    <tr>\n",
       "      <th>2866</th>\n",
       "      <td>0.790301</td>\n",
       "      <td>-1.220926</td>\n",
       "      <td>0.712179</td>\n",
       "      <td>1.386092</td>\n",
       "      <td>-0.911416</td>\n",
       "      <td>0.803821</td>\n",
       "    </tr>\n",
       "    <tr>\n",
       "      <th>9966</th>\n",
       "      <td>-1.765315</td>\n",
       "      <td>-0.373000</td>\n",
       "      <td>0.783031</td>\n",
       "      <td>-0.348084</td>\n",
       "      <td>-0.911416</td>\n",
       "      <td>-1.389937</td>\n",
       "    </tr>\n",
       "    <tr>\n",
       "      <th>8607</th>\n",
       "      <td>-0.497812</td>\n",
       "      <td>-0.090358</td>\n",
       "      <td>-0.088069</td>\n",
       "      <td>-1.041754</td>\n",
       "      <td>0.817370</td>\n",
       "      <td>0.635920</td>\n",
       "    </tr>\n",
       "    <tr>\n",
       "      <th>459</th>\n",
       "      <td>-0.137140</td>\n",
       "      <td>-0.184572</td>\n",
       "      <td>-1.238789</td>\n",
       "      <td>1.039257</td>\n",
       "      <td>-0.911416</td>\n",
       "      <td>1.485542</td>\n",
       "    </tr>\n",
       "  </tbody>\n",
       "</table>\n",
       "</div>"
      ],
      "text/plain": [
       "      CreditScore       Age   Balance    Tenure  NumOfProducts  \\\n",
       "983     -0.374153 -0.373000  0.818022  0.345587      -0.911416   \n",
       "4533     2.057804  0.003856  2.069040  0.345587       0.817370   \n",
       "2866     0.790301 -1.220926  0.712179  1.386092      -0.911416   \n",
       "9966    -1.765315 -0.373000  0.783031 -0.348084      -0.911416   \n",
       "8607    -0.497812 -0.090358 -0.088069 -1.041754       0.817370   \n",
       "459     -0.137140 -0.184572 -1.238789  1.039257      -0.911416   \n",
       "\n",
       "      EstimatedSalary  \n",
       "983         -0.538399  \n",
       "4533        -1.001468  \n",
       "2866         0.803821  \n",
       "9966        -1.389937  \n",
       "8607         0.635920  \n",
       "459          1.485542  "
      ]
     },
     "execution_count": 31,
     "metadata": {},
     "output_type": "execute_result"
    }
   ],
   "source": [
    "from sklearn.preprocessing import StandardScaler\n",
    "\n",
    "scaler = StandardScaler()\n",
    "X_train.loc[:,numerical_feature] = scaler.fit_transform(X_train[numerical_feature])\n",
    "X_test.loc[:,numerical_feature] = scaler.transform(X_test[numerical_feature])\n",
    "X_train[numerical_feature].head(6)"
   ]
  },
  {
   "cell_type": "code",
   "execution_count": null,
   "id": "869002d0",
   "metadata": {},
   "outputs": [],
   "source": []
  }
 ],
 "metadata": {
  "kernelspec": {
   "display_name": "Python 3",
   "language": "python",
   "name": "python3"
  },
  "language_info": {
   "codemirror_mode": {
    "name": "ipython",
    "version": 3
   },
   "file_extension": ".py",
   "mimetype": "text/x-python",
   "name": "python",
   "nbconvert_exporter": "python",
   "pygments_lexer": "ipython3",
   "version": "3.8.8"
  }
 },
 "nbformat": 4,
 "nbformat_minor": 5
}
