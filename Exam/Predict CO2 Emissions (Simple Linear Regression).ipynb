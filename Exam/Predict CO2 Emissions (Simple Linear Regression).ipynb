{
 "cells": [
  {
   "cell_type": "markdown",
   "id": "573e715a",
   "metadata": {},
   "source": [
    "# Subject"
   ]
  },
  {
   "cell_type": "markdown",
   "id": "11e7dfa4",
   "metadata": {},
   "source": [
    "**`FuelConsumption.csv`** is a vehicle fuel consumption data set that contains model-specific fuel consumption.\n",
    "-   **MODELYEAR** e.g. 2014\n",
    "-   **MAKE** e.g. Acura\n",
    "-   **MODEL** e.g. ILX\n",
    "-   **VEHICLE CLASS** e.g. SUV\n",
    "-   **ENGINE SIZE** e.g. 4.7\n",
    "-   **CYLINDERS** e.g 6\n",
    "-   **TRANSMISSION** e.g. A6\n",
    "-   **FUEL CONSUMPTION in CITY(L/100 km)** e.g. 9.9\n",
    "-   **FUEL CONSUMPTION in HWY (L/100 km)** e.g. 8.9\n",
    "-   **FUEL CONSUMPTION COMB (L/100 km)** e.g. 9.2\n",
    "-   **CO2 EMISSIONS (g/km)** e.g. 182   --> low --> 0"
   ]
  },
  {
   "cell_type": "code",
   "execution_count": 3,
   "id": "b9d86ea2",
   "metadata": {},
   "outputs": [],
   "source": [
    "import numpy as np\n",
    "import matplotlib.pyplot as plt\n",
    "import pandas as pd\n",
    "import sklearn \n",
    "import seaborn as sns"
   ]
  },
  {
   "cell_type": "code",
   "execution_count": 4,
   "id": "ad89c989",
   "metadata": {},
   "outputs": [],
   "source": [
    "data = pd.read_csv(\"data/FuelConsumption.csv\")"
   ]
  },
  {
   "cell_type": "code",
   "execution_count": 5,
   "id": "85f73684",
   "metadata": {},
   "outputs": [
    {
     "data": {
      "text/html": [
       "<div>\n",
       "<style scoped>\n",
       "    .dataframe tbody tr th:only-of-type {\n",
       "        vertical-align: middle;\n",
       "    }\n",
       "\n",
       "    .dataframe tbody tr th {\n",
       "        vertical-align: top;\n",
       "    }\n",
       "\n",
       "    .dataframe thead th {\n",
       "        text-align: right;\n",
       "    }\n",
       "</style>\n",
       "<table border=\"1\" class=\"dataframe\">\n",
       "  <thead>\n",
       "    <tr style=\"text-align: right;\">\n",
       "      <th></th>\n",
       "      <th>MODELYEAR</th>\n",
       "      <th>MAKE</th>\n",
       "      <th>MODEL</th>\n",
       "      <th>VEHICLECLASS</th>\n",
       "      <th>ENGINESIZE</th>\n",
       "      <th>CYLINDERS</th>\n",
       "      <th>TRANSMISSION</th>\n",
       "      <th>FUELTYPE</th>\n",
       "      <th>FUELCONSUMPTION_CITY</th>\n",
       "      <th>FUELCONSUMPTION_HWY</th>\n",
       "      <th>FUELCONSUMPTION_COMB</th>\n",
       "      <th>FUELCONSUMPTION_COMB_MPG</th>\n",
       "      <th>CO2EMISSIONS</th>\n",
       "    </tr>\n",
       "  </thead>\n",
       "  <tbody>\n",
       "    <tr>\n",
       "      <th>194</th>\n",
       "      <td>2014</td>\n",
       "      <td>CHEVROLET</td>\n",
       "      <td>CAMARO ZL1</td>\n",
       "      <td>COMPACT</td>\n",
       "      <td>6.2</td>\n",
       "      <td>8</td>\n",
       "      <td>M6</td>\n",
       "      <td>Z</td>\n",
       "      <td>16.7</td>\n",
       "      <td>12.5</td>\n",
       "      <td>14.8</td>\n",
       "      <td>19</td>\n",
       "      <td>340</td>\n",
       "    </tr>\n",
       "    <tr>\n",
       "      <th>104</th>\n",
       "      <td>2014</td>\n",
       "      <td>BMW</td>\n",
       "      <td>550i xDRIVE GRAN TURISMO</td>\n",
       "      <td>FULL-SIZE</td>\n",
       "      <td>4.4</td>\n",
       "      <td>8</td>\n",
       "      <td>A8</td>\n",
       "      <td>Z</td>\n",
       "      <td>15.0</td>\n",
       "      <td>9.8</td>\n",
       "      <td>12.7</td>\n",
       "      <td>22</td>\n",
       "      <td>292</td>\n",
       "    </tr>\n",
       "    <tr>\n",
       "      <th>198</th>\n",
       "      <td>2014</td>\n",
       "      <td>CHEVROLET</td>\n",
       "      <td>CRUZE</td>\n",
       "      <td>MID-SIZE</td>\n",
       "      <td>1.4</td>\n",
       "      <td>4</td>\n",
       "      <td>M6</td>\n",
       "      <td>X</td>\n",
       "      <td>9.1</td>\n",
       "      <td>6.3</td>\n",
       "      <td>7.8</td>\n",
       "      <td>36</td>\n",
       "      <td>179</td>\n",
       "    </tr>\n",
       "    <tr>\n",
       "      <th>538</th>\n",
       "      <td>2014</td>\n",
       "      <td>INFINITI</td>\n",
       "      <td>Q70 AWD</td>\n",
       "      <td>MID-SIZE</td>\n",
       "      <td>5.6</td>\n",
       "      <td>8</td>\n",
       "      <td>AS7</td>\n",
       "      <td>Z</td>\n",
       "      <td>15.0</td>\n",
       "      <td>10.2</td>\n",
       "      <td>12.8</td>\n",
       "      <td>22</td>\n",
       "      <td>294</td>\n",
       "    </tr>\n",
       "    <tr>\n",
       "      <th>275</th>\n",
       "      <td>2014</td>\n",
       "      <td>CHRYSLER</td>\n",
       "      <td>200 CONVERTIBLE</td>\n",
       "      <td>COMPACT</td>\n",
       "      <td>2.4</td>\n",
       "      <td>4</td>\n",
       "      <td>A4</td>\n",
       "      <td>X</td>\n",
       "      <td>11.7</td>\n",
       "      <td>8.2</td>\n",
       "      <td>10.1</td>\n",
       "      <td>28</td>\n",
       "      <td>232</td>\n",
       "    </tr>\n",
       "    <tr>\n",
       "      <th>834</th>\n",
       "      <td>2014</td>\n",
       "      <td>NISSAN</td>\n",
       "      <td>370Z ROADSTER</td>\n",
       "      <td>TWO-SEATER</td>\n",
       "      <td>3.7</td>\n",
       "      <td>6</td>\n",
       "      <td>AS7</td>\n",
       "      <td>Z</td>\n",
       "      <td>13.0</td>\n",
       "      <td>9.5</td>\n",
       "      <td>11.4</td>\n",
       "      <td>25</td>\n",
       "      <td>262</td>\n",
       "    </tr>\n",
       "  </tbody>\n",
       "</table>\n",
       "</div>"
      ],
      "text/plain": [
       "     MODELYEAR       MAKE                     MODEL VEHICLECLASS  ENGINESIZE  \\\n",
       "194       2014  CHEVROLET                CAMARO ZL1      COMPACT         6.2   \n",
       "104       2014        BMW  550i xDRIVE GRAN TURISMO    FULL-SIZE         4.4   \n",
       "198       2014  CHEVROLET                     CRUZE     MID-SIZE         1.4   \n",
       "538       2014   INFINITI                   Q70 AWD     MID-SIZE         5.6   \n",
       "275       2014   CHRYSLER           200 CONVERTIBLE      COMPACT         2.4   \n",
       "834       2014     NISSAN             370Z ROADSTER   TWO-SEATER         3.7   \n",
       "\n",
       "     CYLINDERS TRANSMISSION FUELTYPE  FUELCONSUMPTION_CITY  \\\n",
       "194          8           M6        Z                  16.7   \n",
       "104          8           A8        Z                  15.0   \n",
       "198          4           M6        X                   9.1   \n",
       "538          8          AS7        Z                  15.0   \n",
       "275          4           A4        X                  11.7   \n",
       "834          6          AS7        Z                  13.0   \n",
       "\n",
       "     FUELCONSUMPTION_HWY  FUELCONSUMPTION_COMB  FUELCONSUMPTION_COMB_MPG  \\\n",
       "194                 12.5                  14.8                        19   \n",
       "104                  9.8                  12.7                        22   \n",
       "198                  6.3                   7.8                        36   \n",
       "538                 10.2                  12.8                        22   \n",
       "275                  8.2                  10.1                        28   \n",
       "834                  9.5                  11.4                        25   \n",
       "\n",
       "     CO2EMISSIONS  \n",
       "194           340  \n",
       "104           292  \n",
       "198           179  \n",
       "538           294  \n",
       "275           232  \n",
       "834           262  "
      ]
     },
     "execution_count": 5,
     "metadata": {},
     "output_type": "execute_result"
    }
   ],
   "source": [
    "data.sample(6)"
   ]
  },
  {
   "cell_type": "code",
   "execution_count": 6,
   "id": "3cfd3426",
   "metadata": {},
   "outputs": [
    {
     "name": "stdout",
     "output_type": "stream",
     "text": [
      "<class 'pandas.core.frame.DataFrame'>\n",
      "RangeIndex: 1067 entries, 0 to 1066\n",
      "Data columns (total 13 columns):\n",
      " #   Column                    Non-Null Count  Dtype  \n",
      "---  ------                    --------------  -----  \n",
      " 0   MODELYEAR                 1067 non-null   int64  \n",
      " 1   MAKE                      1067 non-null   object \n",
      " 2   MODEL                     1067 non-null   object \n",
      " 3   VEHICLECLASS              1067 non-null   object \n",
      " 4   ENGINESIZE                1067 non-null   float64\n",
      " 5   CYLINDERS                 1067 non-null   int64  \n",
      " 6   TRANSMISSION              1067 non-null   object \n",
      " 7   FUELTYPE                  1067 non-null   object \n",
      " 8   FUELCONSUMPTION_CITY      1067 non-null   float64\n",
      " 9   FUELCONSUMPTION_HWY       1067 non-null   float64\n",
      " 10  FUELCONSUMPTION_COMB      1067 non-null   float64\n",
      " 11  FUELCONSUMPTION_COMB_MPG  1067 non-null   int64  \n",
      " 12  CO2EMISSIONS              1067 non-null   int64  \n",
      "dtypes: float64(4), int64(4), object(5)\n",
      "memory usage: 108.5+ KB\n"
     ]
    }
   ],
   "source": [
    "data.info()"
   ]
  },
  {
   "cell_type": "code",
   "execution_count": 7,
   "id": "e504b34c",
   "metadata": {},
   "outputs": [
    {
     "data": {
      "text/plain": [
       "(1067, 13)"
      ]
     },
     "execution_count": 7,
     "metadata": {},
     "output_type": "execute_result"
    }
   ],
   "source": [
    "data.shape"
   ]
  },
  {
   "cell_type": "code",
   "execution_count": 8,
   "id": "d28031b1",
   "metadata": {},
   "outputs": [
    {
     "data": {
      "text/plain": [
       "MODELYEAR                   0\n",
       "MAKE                        0\n",
       "MODEL                       0\n",
       "VEHICLECLASS                0\n",
       "ENGINESIZE                  0\n",
       "CYLINDERS                   0\n",
       "TRANSMISSION                0\n",
       "FUELTYPE                    0\n",
       "FUELCONSUMPTION_CITY        0\n",
       "FUELCONSUMPTION_HWY         0\n",
       "FUELCONSUMPTION_COMB        0\n",
       "FUELCONSUMPTION_COMB_MPG    0\n",
       "CO2EMISSIONS                0\n",
       "dtype: int64"
      ]
     },
     "execution_count": 8,
     "metadata": {},
     "output_type": "execute_result"
    }
   ],
   "source": [
    "data.isnull().sum()"
   ]
  },
  {
   "cell_type": "markdown",
   "id": "96c14465",
   "metadata": {},
   "source": [
    "#### 1 Compute the correlation value between the CO2 emission and the engine size. Do you think that the engine size can be taken as a unique predictor for the CO2 emission?\n"
   ]
  },
  {
   "cell_type": "code",
   "execution_count": 9,
   "id": "47bc11ab",
   "metadata": {},
   "outputs": [
    {
     "data": {
      "image/png": "[encoded data removed]",
      "text/plain": [
       "<Figure size 504x504 with 2 Axes>"
      ]
     },
     "metadata": {
      "needs_background": "light"
     },
     "output_type": "display_data"
    }
   ],
   "source": [
    "corr=data.corr()\n",
    "plt.subplots(figsize=(7,7));\n",
    "sns.heatmap(corr, annot=True, cmap=\"RdBu\", square=True)\n",
    "plt.title(\"Correlation matrix of numerical features\")\n",
    "plt.tight_layout()\n",
    "plt.show()"
   ]
  },
  {
   "cell_type": "markdown",
   "id": "15f7ad9b",
   "metadata": {},
   "source": [
    "ENGINESIZE is well correlated with CO2EMISSIONS (correlation of 0.87 is rather close to 1). So, it can be taken as a unique predictor for the C02 emission."
   ]
  },
  {
   "cell_type": "markdown",
   "id": "91b0491a",
   "metadata": {},
   "source": [
    "### Regression using Engine size as a feature"
   ]
  },
  {
   "cell_type": "markdown",
   "id": "04921dca",
   "metadata": {},
   "source": [
    "#### 2. Plot the CO2 emission with respect to the engine size. Do you think that a linear regression model would fit well here?"
   ]
  },
  {
   "cell_type": "code",
   "execution_count": 10,
   "id": "79949522",
   "metadata": {},
   "outputs": [
    {
     "data": {
      "image/png": "[encoded data removed]",
      "text/plain": [
       "<Figure size 432x288 with 1 Axes>"
      ]
     },
     "metadata": {
      "needs_background": "light"
     },
     "output_type": "display_data"
    }
   ],
   "source": [
    "plt.scatter(data['ENGINESIZE'], data['CO2EMISSIONS']) # x,y\n",
    "plt.xlabel('ENGINESIZE')\n",
    "plt.ylabel('CO2EMISSIONS')\n",
    "plt.title(\"CO2 emission with respect to the engine size\")\n",
    "plt.show()"
   ]
  },
  {
   "cell_type": "markdown",
   "id": "503a3b95",
   "metadata": {},
   "source": [
    "The scatter plot looks linear so probably the regression model will fit well."
   ]
  },
  {
   "cell_type": "markdown",
   "id": "70377f4c",
   "metadata": {},
   "source": [
    "#### 3. Train a linear regression model for the prediction of the CO2 emission based exclusively on the engine size (do not forget the train-test split)."
   ]
  },
  {
   "cell_type": "code",
   "execution_count": 25,
   "id": "5b3f0e36",
   "metadata": {},
   "outputs": [
    {
     "data": {
      "text/plain": [
       "array([[2. ],\n",
       "       [2.4],\n",
       "       [1.5],\n",
       "       ...,\n",
       "       [3. ],\n",
       "       [3.2],\n",
       "       [3.2]])"
      ]
     },
     "execution_count": 25,
     "metadata": {},
     "output_type": "execute_result"
    }
   ],
   "source": [
    "#X = data[['ENGINESIZE']].values\n",
    "X = data['ENGINESIZE'].values.reshape(-1,1)\n",
    "# only X of thr simple linear regression should reshape\n",
    "X"
   ]
  },
  {
   "cell_type": "code",
   "execution_count": 26,
   "id": "e66ba255",
   "metadata": {},
   "outputs": [],
   "source": [
    "y = data['CO2EMISSIONS'].values.reshape(-1,1)"
   ]
  },
  {
   "cell_type": "code",
   "execution_count": 27,
   "id": "00261064",
   "metadata": {},
   "outputs": [],
   "source": [
    "from sklearn.model_selection import train_test_split\n",
    "X_train, X_test, y_train, y_test = train_test_split(X, y, test_size = 0.25, random_state = 0)"
   ]
  },
  {
   "cell_type": "code",
   "execution_count": 28,
   "id": "f1fff534",
   "metadata": {},
   "outputs": [
    {
     "data": {
      "text/html": [
       "<style>#sk-container-id-4 {color: black;background-color: white;}#sk-container-id-4 pre{padding: 0;}#sk-container-id-4 div.sk-toggleable {background-color: white;}#sk-container-id-4 label.sk-toggleable__label {cursor: pointer;display: block;width: 100%;margin-bottom: 0;padding: 0.3em;box-sizing: border-box;text-align: center;}#sk-container-id-4 label.sk-toggleable__label-arrow:before {content: \"▸\";float: left;margin-right: 0.25em;color: #696969;}#sk-container-id-4 label.sk-toggleable__label-arrow:hover:before {color: black;}#sk-container-id-4 div.sk-estimator:hover label.sk-toggleable__label-arrow:before {color: black;}#sk-container-id-4 div.sk-toggleable__content {max-height: 0;max-width: 0;overflow: hidden;text-align: left;background-color: #f0f8ff;}#sk-container-id-4 div.sk-toggleable__content pre {margin: 0.2em;color: black;border-radius: 0.25em;background-color: #f0f8ff;}#sk-container-id-4 input.sk-toggleable__control:checked~div.sk-toggleable__content {max-height: 200px;max-width: 100%;overflow: auto;}#sk-container-id-4 input.sk-toggleable__control:checked~label.sk-toggleable__label-arrow:before {content: \"▾\";}#sk-container-id-4 div.sk-estimator input.sk-toggleable__control:checked~label.sk-toggleable__label {background-color: #d4ebff;}#sk-container-id-4 div.sk-label input.sk-toggleable__control:checked~label.sk-toggleable__label {background-color: #d4ebff;}#sk-container-id-4 input.sk-hidden--visually {border: 0;clip: rect(1px 1px 1px 1px);clip: rect(1px, 1px, 1px, 1px);height: 1px;margin: -1px;overflow: hidden;padding: 0;position: absolute;width: 1px;}#sk-container-id-4 div.sk-estimator {font-family: monospace;background-color: #f0f8ff;border: 1px dotted black;border-radius: 0.25em;box-sizing: border-box;margin-bottom: 0.5em;}#sk-container-id-4 div.sk-estimator:hover {background-color: #d4ebff;}#sk-container-id-4 div.sk-parallel-item::after {content: \"\";width: 100%;border-bottom: 1px solid gray;flex-grow: 1;}#sk-container-id-4 div.sk-label:hover label.sk-toggleable__label {background-color: #d4ebff;}#sk-container-id-4 div.sk-serial::before {content: \"\";position: absolute;border-left: 1px solid gray;box-sizing: border-box;top: 0;bottom: 0;left: 50%;z-index: 0;}#sk-container-id-4 div.sk-serial {display: flex;flex-direction: column;align-items: center;background-color: white;padding-right: 0.2em;padding-left: 0.2em;position: relative;}#sk-container-id-4 div.sk-item {position: relative;z-index: 1;}#sk-container-id-4 div.sk-parallel {display: flex;align-items: stretch;justify-content: center;background-color: white;position: relative;}#sk-container-id-4 div.sk-item::before, #sk-container-id-4 div.sk-parallel-item::before {content: \"\";position: absolute;border-left: 1px solid gray;box-sizing: border-box;top: 0;bottom: 0;left: 50%;z-index: -1;}#sk-container-id-4 div.sk-parallel-item {display: flex;flex-direction: column;z-index: 1;position: relative;background-color: white;}#sk-container-id-4 div.sk-parallel-item:first-child::after {align-self: flex-end;width: 50%;}#sk-container-id-4 div.sk-parallel-item:last-child::after {align-self: flex-start;width: 50%;}#sk-container-id-4 div.sk-parallel-item:only-child::after {width: 0;}#sk-container-id-4 div.sk-dashed-wrapped {border: 1px dashed gray;margin: 0 0.4em 0.5em 0.4em;box-sizing: border-box;padding-bottom: 0.4em;background-color: white;}#sk-container-id-4 div.sk-label label {font-family: monospace;font-weight: bold;display: inline-block;line-height: 1.2em;}#sk-container-id-4 div.sk-label-container {text-align: center;}#sk-container-id-4 div.sk-container {/* jupyter's `normalize.less` sets `[hidden] { display: none; }` but bootstrap.min.css set `[hidden] { display: none !important; }` so we also need the `!important` here to be able to override the default hidden behavior on the sphinx rendered scikit-learn.org. See: https://github.com/scikit-learn/scikit-learn/issues/21755 */display: inline-block !important;position: relative;}#sk-container-id-4 div.sk-text-repr-fallback {display: none;}</style><div id=\"sk-container-id-4\" class=\"sk-top-container\"><div class=\"sk-text-repr-fallback\"><pre>LinearRegression()</pre><b>In a Jupyter environment, please rerun this cell to show the HTML representation or trust the notebook. <br />On GitHub, the HTML representation is unable to render, please try loading this page with nbviewer.org.</b></div><div class=\"sk-container\" hidden><div class=\"sk-item\"><div class=\"sk-estimator sk-toggleable\"><input class=\"sk-toggleable__control sk-hidden--visually\" id=\"sk-estimator-id-4\" type=\"checkbox\" checked><label for=\"sk-estimator-id-4\" class=\"sk-toggleable__label sk-toggleable__label-arrow\">LinearRegression</label><div class=\"sk-toggleable__content\"><pre>LinearRegression()</pre></div></div></div></div></div>"
      ],
      "text/plain": [
       "LinearRegression()"
      ]
     },
     "execution_count": 28,
     "metadata": {},
     "output_type": "execute_result"
    }
   ],
   "source": [
    "from sklearn.linear_model import LinearRegression\n",
    "regressor = LinearRegression()\n",
    "regressor.fit(X_train, y_train)"
   ]
  },
  {
   "cell_type": "markdown",
   "id": "364525ff",
   "metadata": {},
   "source": [
    "#### 4. What are the parameters of the regression line? If an engine size is increased by 1 L, what would be the CO2 emission increase as predicted by your model? "
   ]
  },
  {
   "cell_type": "code",
   "execution_count": 29,
   "id": "af1dc2f2",
   "metadata": {},
   "outputs": [
    {
     "name": "stdout",
     "output_type": "stream",
     "text": [
      "Coefficient:  39.40232724257224\n",
      "Intercept:  126.10080982853708\n"
     ]
    }
   ],
   "source": [
    "print('Coefficient: ', regressor.coef_[0][0])\n",
    "print('Intercept: ', regressor.intercept_[0])"
   ]
  },
  {
   "cell_type": "markdown",
   "id": "23b05948",
   "metadata": {},
   "source": [
    "Based on the equation: linear regression formula: (Y = A + B.X) We have A=regressor.intercept_ and B=regressor.coef_ If an engine size is increased by 1 L. It means that X in linear regression formula increases 1. So Y(the CO2 emission) will be increased by B(39.24838431)."
   ]
  },
  {
   "cell_type": "markdown",
   "id": "2139c225",
   "metadata": {},
   "source": [
    "## 5.Plot the regression line over the data."
   ]
  },
  {
   "cell_type": "code",
   "execution_count": 30,
   "id": "2abe8e1b",
   "metadata": {
    "scrolled": true
   },
   "outputs": [
    {
     "data": {
      "image/png": "[encoded data removed]",
      "text/plain": [
       "<Figure size 720x432 with 1 Axes>"
      ]
     },
     "metadata": {
      "needs_background": "light"
     },
     "output_type": "display_data"
    }
   ],
   "source": [
    "# plot regression line ( predict line)\n",
    "X_plot = np.arange(min(X_train), max(X_train), 0.1)\n",
    "y_plot = regressor.predict(X_plot.reshape(-1, 1))\n",
    "\n",
    "plt.figure(figsize=(10, 6))\n",
    "plt.scatter(X_train, y_train, c='lightgray', label='training set')\n",
    "plt.scatter(X_test, y_test, c='black', label='test set')\n",
    "plt.plot(X_plot, y_plot, c='blue', label='regression line', linewidth=2)\n",
    "plt.xlabel(\"Engine size\")\n",
    "plt.ylabel(\"CO2 emission\")\n",
    "plt.legend()\n",
    "plt.show()\n"
   ]
  },
  {
   "cell_type": "code",
   "execution_count": 32,
   "id": "3ea40688",
   "metadata": {},
   "outputs": [
    {
     "data": {
      "image/png": "[encoded data removed]",
      "text/plain": [
       "<Figure size 800x480 with 1 Axes>"
      ]
     },
     "metadata": {
      "needs_background": "light"
     },
     "output_type": "display_data"
    }
   ],
   "source": [
    "# method 2\n",
    "plt.figure(figsize=(10,6), dpi= 80)\n",
    "plt.scatter(X_train, y_train, c='lightgray', label='training set')\n",
    "plt.scatter(X_test, y_test, c='green', label='test set')\n",
    "plt.plot(X_train, regressor.coef_[0][0]*X_train + regressor.intercept_[0], 'red')\n",
    "plt.xlabel(\"Engine Size (L)\")\n",
    "plt.ylabel(\"CO2 Emission (g/km)\")\n",
    "plt.legend()\n",
    "plt.show()"
   ]
  },
  {
   "cell_type": "markdown",
   "id": "57482205",
   "metadata": {},
   "source": [
    "### 6.Plot the distribution of the residuals (i.e. the error terms)"
   ]
  },
  {
   "cell_type": "code",
   "execution_count": 33,
   "id": "5dfb3879",
   "metadata": {},
   "outputs": [
    {
     "data": {
      "image/png": "[encoded data removed]",
      "text/plain": [
       "<Figure size 432x288 with 1 Axes>"
      ]
     },
     "metadata": {
      "needs_background": "light"
     },
     "output_type": "display_data"
    }
   ],
   "source": [
    "y_pred = regressor.predict(X_test)\n",
    "#check resudual between y_predict and y_test (thuc te)\n",
    "residuals = y_test - y_pred \n",
    "plt.hist(x=residuals)\n",
    "plt.xlabel('Error on CO2 emission')\n",
    "plt.ylabel('Count')\n",
    "plt.title(\"Distribution of the residuals\")\n",
    "plt.show()"
   ]
  },
  {
   "cell_type": "markdown",
   "id": "e9060130",
   "metadata": {},
   "source": [
    "#### 7. Evaluate the performance of the model (MSE, RMSE, MAE, 𝑅2)."
   ]
  },
  {
   "cell_type": "code",
   "execution_count": 34,
   "id": "84ba2ae8",
   "metadata": {},
   "outputs": [
    {
     "name": "stdout",
     "output_type": "stream",
     "text": [
      "Mean square error (MSE): 1139.99\n",
      "Root mean square error (RMSE): 33.76\n",
      "Mean absolute error (MAE): 25.60\n",
      "Coefficient of determination (R^2): 0.72\n"
     ]
    }
   ],
   "source": [
    "from sklearn.metrics import r2_score\n",
    "\n",
    "def evaluate_regression(y_test, y_pred):\n",
    "    print(\"Mean square error (MSE): %.2f\" % np.mean((y_pred - y_test) ** 2))\n",
    "    print(\"Root mean square error (RMSE): %.2f\" % np.sqrt(np.mean((y_pred - y_test) ** 2)))\n",
    "    print(\"Mean absolute error (MAE): %.2f\" % np.mean(abs(y_pred - y_test)))\n",
    "    print(\"Coefficient of determination (R^2): %.2f\" % r2_score(y_test,y_pred))\n",
    "\n",
    "evaluate_regression(y_test, y_pred)"
   ]
  },
  {
   "cell_type": "markdown",
   "id": "0edfa114",
   "metadata": {},
   "source": [
    "### Untrained regression (coefficients = 0)\n",
    "#### 8. Can you calculate those same performance metrics for an untrained regression model where the intercept and the coefficient would be both 0? Are you surprised by the measured performance?"
   ]
  },
  {
   "cell_type": "markdown",
   "id": "16b0f478",
   "metadata": {},
   "source": [
    "An \"untrained\" linear regression model that has both coefficients equal to 0 would always predict a CO2 emission of 0. You can simply generate the prediction vector of 0s."
   ]
  },
  {
   "cell_type": "code",
   "execution_count": 35,
   "id": "8f50f683",
   "metadata": {},
   "outputs": [],
   "source": [
    "# the intercept and the coefficient would be both 0\n",
    "#'fit_intercept=False' it means equal 0\n",
    "regressor1 = LinearRegression(fit_intercept=False)\n",
    "regressor1.fit(X_train, y_train)\n",
    "regressor1.coef_[0] = 0"
   ]
  },
  {
   "cell_type": "code",
   "execution_count": 36,
   "id": "283017cc",
   "metadata": {},
   "outputs": [
    {
     "name": "stdout",
     "output_type": "stream",
     "text": [
      "Mean square error (MSE): 66408.87\n",
      "Root mean square error (RMSE): 257.70\n",
      "Mean absolute error (MAE): 249.67\n",
      "Coefficient of determination (R^2): -15.29\n"
     ]
    }
   ],
   "source": [
    "y_pred2 = regressor1.predict(X_test) #y_pred2=0\n",
    "evaluate_regression(y_test,y_pred2)"
   ]
  },
  {
   "cell_type": "markdown",
   "id": "0646060e",
   "metadata": {},
   "source": [
    "The performance is awful. All error measures are higher than in question 7. This is expected for a model that always predicts a CO2 emission of zero regardless of the featire value.\n",
    "We can also notice that the 𝑅2  coefficient is negative. This happens when the model is worse than a model that just predicts the expected CO2 emissions.\n",
    "\n",
    "When the intercept and the coefficient would be both 0. R² = -15.29\n",
    "When the intercept and the coefficient would NOT be both 0. R² = 0.72 --> With r-squared of 72% reveals that 72% of the data fit the regression model. Generally, If we get a higher r-squared indicates a better fit for the model."
   ]
  },
  {
   "cell_type": "markdown",
   "id": "d53757c5",
   "metadata": {},
   "source": [
    "### Regression using Combined fuel consumption as a feature\n",
    "#### 9. Train a linear regression model for the prediction of the CO2 emission now based exclusively on the combined fuel consumption (FUELCONSUMPTION_COMB) and evaluate its performance. Compare with the metrics computed in question 7 (the model trained on the engine size). What can you conclude?"
   ]
  },
  {
   "cell_type": "code",
   "execution_count": 37,
   "id": "7cd992d1",
   "metadata": {},
   "outputs": [],
   "source": [
    "X1 = data['FUELCONSUMPTION_COMB'].values.reshape(-1,1)"
   ]
  },
  {
   "cell_type": "code",
   "execution_count": 38,
   "id": "350b9725",
   "metadata": {},
   "outputs": [],
   "source": [
    "X1_train, X1_test, y_train, y_test = train_test_split(X1, y, test_size = 0.25, random_state = 0)"
   ]
  },
  {
   "cell_type": "code",
   "execution_count": 39,
   "id": "f7673a16",
   "metadata": {},
   "outputs": [
    {
     "data": {
      "text/html": [
       "<style>#sk-container-id-5 {color: black;background-color: white;}#sk-container-id-5 pre{padding: 0;}#sk-container-id-5 div.sk-toggleable {background-color: white;}#sk-container-id-5 label.sk-toggleable__label {cursor: pointer;display: block;width: 100%;margin-bottom: 0;padding: 0.3em;box-sizing: border-box;text-align: center;}#sk-container-id-5 label.sk-toggleable__label-arrow:before {content: \"▸\";float: left;margin-right: 0.25em;color: #696969;}#sk-container-id-5 label.sk-toggleable__label-arrow:hover:before {color: black;}#sk-container-id-5 div.sk-estimator:hover label.sk-toggleable__label-arrow:before {color: black;}#sk-container-id-5 div.sk-toggleable__content {max-height: 0;max-width: 0;overflow: hidden;text-align: left;background-color: #f0f8ff;}#sk-container-id-5 div.sk-toggleable__content pre {margin: 0.2em;color: black;border-radius: 0.25em;background-color: #f0f8ff;}#sk-container-id-5 input.sk-toggleable__control:checked~div.sk-toggleable__content {max-height: 200px;max-width: 100%;overflow: auto;}#sk-container-id-5 input.sk-toggleable__control:checked~label.sk-toggleable__label-arrow:before {content: \"▾\";}#sk-container-id-5 div.sk-estimator input.sk-toggleable__control:checked~label.sk-toggleable__label {background-color: #d4ebff;}#sk-container-id-5 div.sk-label input.sk-toggleable__control:checked~label.sk-toggleable__label {background-color: #d4ebff;}#sk-container-id-5 input.sk-hidden--visually {border: 0;clip: rect(1px 1px 1px 1px);clip: rect(1px, 1px, 1px, 1px);height: 1px;margin: -1px;overflow: hidden;padding: 0;position: absolute;width: 1px;}#sk-container-id-5 div.sk-estimator {font-family: monospace;background-color: #f0f8ff;border: 1px dotted black;border-radius: 0.25em;box-sizing: border-box;margin-bottom: 0.5em;}#sk-container-id-5 div.sk-estimator:hover {background-color: #d4ebff;}#sk-container-id-5 div.sk-parallel-item::after {content: \"\";width: 100%;border-bottom: 1px solid gray;flex-grow: 1;}#sk-container-id-5 div.sk-label:hover label.sk-toggleable__label {background-color: #d4ebff;}#sk-container-id-5 div.sk-serial::before {content: \"\";position: absolute;border-left: 1px solid gray;box-sizing: border-box;top: 0;bottom: 0;left: 50%;z-index: 0;}#sk-container-id-5 div.sk-serial {display: flex;flex-direction: column;align-items: center;background-color: white;padding-right: 0.2em;padding-left: 0.2em;position: relative;}#sk-container-id-5 div.sk-item {position: relative;z-index: 1;}#sk-container-id-5 div.sk-parallel {display: flex;align-items: stretch;justify-content: center;background-color: white;position: relative;}#sk-container-id-5 div.sk-item::before, #sk-container-id-5 div.sk-parallel-item::before {content: \"\";position: absolute;border-left: 1px solid gray;box-sizing: border-box;top: 0;bottom: 0;left: 50%;z-index: -1;}#sk-container-id-5 div.sk-parallel-item {display: flex;flex-direction: column;z-index: 1;position: relative;background-color: white;}#sk-container-id-5 div.sk-parallel-item:first-child::after {align-self: flex-end;width: 50%;}#sk-container-id-5 div.sk-parallel-item:last-child::after {align-self: flex-start;width: 50%;}#sk-container-id-5 div.sk-parallel-item:only-child::after {width: 0;}#sk-container-id-5 div.sk-dashed-wrapped {border: 1px dashed gray;margin: 0 0.4em 0.5em 0.4em;box-sizing: border-box;padding-bottom: 0.4em;background-color: white;}#sk-container-id-5 div.sk-label label {font-family: monospace;font-weight: bold;display: inline-block;line-height: 1.2em;}#sk-container-id-5 div.sk-label-container {text-align: center;}#sk-container-id-5 div.sk-container {/* jupyter's `normalize.less` sets `[hidden] { display: none; }` but bootstrap.min.css set `[hidden] { display: none !important; }` so we also need the `!important` here to be able to override the default hidden behavior on the sphinx rendered scikit-learn.org. See: https://github.com/scikit-learn/scikit-learn/issues/21755 */display: inline-block !important;position: relative;}#sk-container-id-5 div.sk-text-repr-fallback {display: none;}</style><div id=\"sk-container-id-5\" class=\"sk-top-container\"><div class=\"sk-text-repr-fallback\"><pre>LinearRegression()</pre><b>In a Jupyter environment, please rerun this cell to show the HTML representation or trust the notebook. <br />On GitHub, the HTML representation is unable to render, please try loading this page with nbviewer.org.</b></div><div class=\"sk-container\" hidden><div class=\"sk-item\"><div class=\"sk-estimator sk-toggleable\"><input class=\"sk-toggleable__control sk-hidden--visually\" id=\"sk-estimator-id-5\" type=\"checkbox\" checked><label for=\"sk-estimator-id-5\" class=\"sk-toggleable__label sk-toggleable__label-arrow\">LinearRegression</label><div class=\"sk-toggleable__content\"><pre>LinearRegression()</pre></div></div></div></div></div>"
      ],
      "text/plain": [
       "LinearRegression()"
      ]
     },
     "execution_count": 39,
     "metadata": {},
     "output_type": "execute_result"
    }
   ],
   "source": [
    "regr = LinearRegression()\n",
    "regr.fit(X1_train, y_train)"
   ]
  },
  {
   "cell_type": "code",
   "execution_count": 40,
   "id": "306264ed",
   "metadata": {},
   "outputs": [
    {
     "name": "stdout",
     "output_type": "stream",
     "text": [
      "Mean square error (MSE): 792.17\n",
      "Root mean square error (RMSE): 28.15\n",
      "Mean absolute error (MAE): 20.22\n",
      "Coefficient of determination (R^2): 0.81\n"
     ]
    }
   ],
   "source": [
    "y1_pred = regr.predict(X1_test)\n",
    "\n",
    "evaluate_regression(y_test, y1_pred)"
   ]
  },
  {
   "cell_type": "markdown",
   "id": "d5a0a796",
   "metadata": {},
   "source": [
    "The RMSE is lower here (28.15 here vs. 33.76 before), and the  𝑅2  coefficient is higher (0.81 vs 0.72) so it seems that combined fuel consumption is a slightly better predictor than engine size for CO2 consumption prediction."
   ]
  },
  {
   "cell_type": "markdown",
   "id": "2d01d263",
   "metadata": {},
   "source": [
    "### Dummy model that predicts the mean CO2\n",
    "#### 10. Now make a \"dummy\" model that simply predicts the mean CO2, regardless of the input engine size. Can you plot the regression line of such a model and calculate its performance? How does the performance compare to the the other models'? Can you explain why? "
   ]
  },
  {
   "cell_type": "markdown",
   "id": "b6738d0b",
   "metadata": {},
   "source": [
    "The mean CO2 is calculated on the training set."
   ]
  },
  {
   "cell_type": "code",
   "execution_count": 41,
   "id": "e543d1b2",
   "metadata": {},
   "outputs": [
    {
     "name": "stdout",
     "output_type": "stream",
     "text": [
      "258.41875\n",
      "[[258.41875]\n",
      " [258.41875]\n",
      " [258.41875]\n",
      " [258.41875]\n",
      " [258.41875]\n",
      " [258.41875]\n",
      " [258.41875]\n",
      " [258.41875]\n",
      " [258.41875]\n",
      " [258.41875]\n",
      " [258.41875]\n",
      " [258.41875]\n",
      " [258.41875]\n",
      " [258.41875]\n",
      " [258.41875]\n",
      " [258.41875]\n",
      " [258.41875]\n",
      " [258.41875]\n",
      " [258.41875]\n",
      " [258.41875]\n",
      " [258.41875]\n",
      " [258.41875]\n",
      " [258.41875]\n",
      " [258.41875]\n",
      " [258.41875]\n",
      " [258.41875]\n",
      " [258.41875]\n",
      " [258.41875]\n",
      " [258.41875]\n",
      " [258.41875]\n",
      " [258.41875]\n",
      " [258.41875]\n",
      " [258.41875]\n",
      " [258.41875]\n",
      " [258.41875]\n",
      " [258.41875]\n",
      " [258.41875]\n",
      " [258.41875]\n",
      " [258.41875]\n",
      " [258.41875]\n",
      " [258.41875]\n",
      " [258.41875]\n",
      " [258.41875]\n",
      " [258.41875]\n",
      " [258.41875]\n",
      " [258.41875]\n",
      " [258.41875]\n",
      " [258.41875]\n",
      " [258.41875]\n",
      " [258.41875]\n",
      " [258.41875]\n",
      " [258.41875]\n",
      " [258.41875]\n",
      " [258.41875]\n",
      " [258.41875]\n",
      " [258.41875]\n",
      " [258.41875]\n",
      " [258.41875]\n",
      " [258.41875]\n",
      " [258.41875]\n",
      " [258.41875]\n",
      " [258.41875]\n",
      " [258.41875]\n",
      " [258.41875]\n",
      " [258.41875]\n",
      " [258.41875]\n",
      " [258.41875]\n",
      " [258.41875]\n",
      " [258.41875]\n",
      " [258.41875]\n",
      " [258.41875]\n",
      " [258.41875]\n",
      " [258.41875]\n",
      " [258.41875]\n",
      " [258.41875]\n",
      " [258.41875]\n",
      " [258.41875]\n",
      " [258.41875]\n",
      " [258.41875]\n",
      " [258.41875]\n",
      " [258.41875]\n",
      " [258.41875]\n",
      " [258.41875]\n",
      " [258.41875]\n",
      " [258.41875]\n",
      " [258.41875]\n",
      " [258.41875]\n",
      " [258.41875]\n",
      " [258.41875]\n",
      " [258.41875]\n",
      " [258.41875]\n",
      " [258.41875]\n",
      " [258.41875]\n",
      " [258.41875]\n",
      " [258.41875]\n",
      " [258.41875]\n",
      " [258.41875]\n",
      " [258.41875]\n",
      " [258.41875]\n",
      " [258.41875]\n",
      " [258.41875]\n",
      " [258.41875]\n",
      " [258.41875]\n",
      " [258.41875]\n",
      " [258.41875]\n",
      " [258.41875]\n",
      " [258.41875]\n",
      " [258.41875]\n",
      " [258.41875]\n",
      " [258.41875]\n",
      " [258.41875]\n",
      " [258.41875]\n",
      " [258.41875]\n",
      " [258.41875]\n",
      " [258.41875]\n",
      " [258.41875]\n",
      " [258.41875]\n",
      " [258.41875]\n",
      " [258.41875]\n",
      " [258.41875]\n",
      " [258.41875]\n",
      " [258.41875]\n",
      " [258.41875]\n",
      " [258.41875]\n",
      " [258.41875]\n",
      " [258.41875]\n",
      " [258.41875]\n",
      " [258.41875]\n",
      " [258.41875]\n",
      " [258.41875]\n",
      " [258.41875]\n",
      " [258.41875]\n",
      " [258.41875]\n",
      " [258.41875]\n",
      " [258.41875]\n",
      " [258.41875]\n",
      " [258.41875]\n",
      " [258.41875]\n",
      " [258.41875]\n",
      " [258.41875]\n",
      " [258.41875]\n",
      " [258.41875]\n",
      " [258.41875]\n",
      " [258.41875]\n",
      " [258.41875]\n",
      " [258.41875]\n",
      " [258.41875]\n",
      " [258.41875]\n",
      " [258.41875]\n",
      " [258.41875]\n",
      " [258.41875]\n",
      " [258.41875]\n",
      " [258.41875]\n",
      " [258.41875]\n",
      " [258.41875]\n",
      " [258.41875]\n",
      " [258.41875]\n",
      " [258.41875]\n",
      " [258.41875]\n",
      " [258.41875]\n",
      " [258.41875]\n",
      " [258.41875]\n",
      " [258.41875]\n",
      " [258.41875]\n",
      " [258.41875]\n",
      " [258.41875]\n",
      " [258.41875]\n",
      " [258.41875]\n",
      " [258.41875]\n",
      " [258.41875]\n",
      " [258.41875]\n",
      " [258.41875]\n",
      " [258.41875]\n",
      " [258.41875]\n",
      " [258.41875]\n",
      " [258.41875]\n",
      " [258.41875]\n",
      " [258.41875]\n",
      " [258.41875]\n",
      " [258.41875]\n",
      " [258.41875]\n",
      " [258.41875]\n",
      " [258.41875]\n",
      " [258.41875]\n",
      " [258.41875]\n",
      " [258.41875]\n",
      " [258.41875]\n",
      " [258.41875]\n",
      " [258.41875]\n",
      " [258.41875]\n",
      " [258.41875]\n",
      " [258.41875]\n",
      " [258.41875]\n",
      " [258.41875]\n",
      " [258.41875]\n",
      " [258.41875]\n",
      " [258.41875]\n",
      " [258.41875]\n",
      " [258.41875]\n",
      " [258.41875]\n",
      " [258.41875]\n",
      " [258.41875]\n",
      " [258.41875]\n",
      " [258.41875]\n",
      " [258.41875]\n",
      " [258.41875]\n",
      " [258.41875]\n",
      " [258.41875]\n",
      " [258.41875]\n",
      " [258.41875]\n",
      " [258.41875]\n",
      " [258.41875]\n",
      " [258.41875]\n",
      " [258.41875]\n",
      " [258.41875]\n",
      " [258.41875]\n",
      " [258.41875]\n",
      " [258.41875]\n",
      " [258.41875]\n",
      " [258.41875]\n",
      " [258.41875]\n",
      " [258.41875]\n",
      " [258.41875]\n",
      " [258.41875]\n",
      " [258.41875]\n",
      " [258.41875]\n",
      " [258.41875]\n",
      " [258.41875]\n",
      " [258.41875]\n",
      " [258.41875]\n",
      " [258.41875]\n",
      " [258.41875]\n",
      " [258.41875]\n",
      " [258.41875]\n",
      " [258.41875]\n",
      " [258.41875]\n",
      " [258.41875]\n",
      " [258.41875]\n",
      " [258.41875]\n",
      " [258.41875]\n",
      " [258.41875]\n",
      " [258.41875]\n",
      " [258.41875]\n",
      " [258.41875]\n",
      " [258.41875]\n",
      " [258.41875]\n",
      " [258.41875]\n",
      " [258.41875]\n",
      " [258.41875]\n",
      " [258.41875]\n",
      " [258.41875]\n",
      " [258.41875]\n",
      " [258.41875]\n",
      " [258.41875]\n",
      " [258.41875]\n",
      " [258.41875]\n",
      " [258.41875]\n",
      " [258.41875]\n",
      " [258.41875]\n",
      " [258.41875]\n",
      " [258.41875]\n",
      " [258.41875]\n",
      " [258.41875]\n",
      " [258.41875]\n",
      " [258.41875]\n",
      " [258.41875]\n",
      " [258.41875]]\n"
     ]
    }
   ],
   "source": [
    "y_train_mean = y_train.mean()\n",
    "print(y_train_mean)\n",
    "y_pred_dummy = np.full(X_test.shape, y_train_mean)\n",
    "print(y_pred_dummy)"
   ]
  },
  {
   "cell_type": "code",
   "execution_count": 42,
   "id": "7a6f9d9d",
   "metadata": {},
   "outputs": [
    {
     "name": "stdout",
     "output_type": "stream",
     "text": [
      "Mean square error (MSE): 4152.03\n",
      "Root mean square error (RMSE): 64.44\n",
      "Mean absolute error (MAE): 52.88\n",
      "Coefficient of determination (R^2): -0.02\n"
     ]
    }
   ],
   "source": [
    "evaluate_regression(y_test, y_pred_dummy)"
   ]
  },
  {
   "cell_type": "markdown",
   "id": "08c3c10d",
   "metadata": {},
   "source": [
    "The performance is worse than for the linear regression models, which is to be expected for a dummy model. We notice that the  𝑅2  coefficient is close to 0. By definition, the  𝑅2  coefficient is equal to 0 for a model that returns the expected value of y. Since the mean of y_train is a close estimation of the expectation of y, this is why the coefficient of determination is about 0."
   ]
  },
  {
   "cell_type": "code",
   "execution_count": null,
   "id": "a755a4f5",
   "metadata": {},
   "outputs": [],
   "source": []
  },
  {
   "cell_type": "code",
   "execution_count": null,
   "id": "35f27ed6",
   "metadata": {},
   "outputs": [],
   "source": []
  }
 ],
 "metadata": {
  "kernelspec": {
   "display_name": "Python 3",
   "language": "python",
   "name": "python3"
  },
  "language_info": {
   "codemirror_mode": {
    "name": "ipython",
    "version": 3
   },
   "file_extension": ".py",
   "mimetype": "text/x-python",
   "name": "python",
   "nbconvert_exporter": "python",
   "pygments_lexer": "ipython3",
   "version": "3.8.8"
  }
 },
 "nbformat": 4,
 "nbformat_minor": 5
}
