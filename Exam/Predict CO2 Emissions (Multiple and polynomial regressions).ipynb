{
 "cells": [
  {
   "cell_type": "markdown",
   "id": "d0343d48",
   "metadata": {},
   "source": [
    "# Subject"
   ]
  },
  {
   "cell_type": "markdown",
   "id": "95ceb5c5",
   "metadata": {},
   "source": [
    "We will use here the same data set as for practice #3."
   ]
  },
  {
   "cell_type": "markdown",
   "id": "b9b51873",
   "metadata": {},
   "source": [
    "**`FuelConsumption.csv`** is a vehicle fuel consumption data set that contains model-specific fuel consumption.\n",
    "-   **MODELYEAR** e.g. 2014\n",
    "-   **MAKE** e.g. Acura\n",
    "-   **MODEL** e.g. ILX\n",
    "-   **VEHICLE CLASS** e.g. SUV\n",
    "-   **ENGINE SIZE** e.g. 4.7\n",
    "-   **CYLINDERS** e.g 6\n",
    "-   **TRANSMISSION** e.g. A6\n",
    "-   **FUEL CONSUMPTION in CITY(L/100 km)** e.g. 9.9\n",
    "-   **FUEL CONSUMPTION in HWY (L/100 km)** e.g. 8.9\n",
    "-   **FUEL CONSUMPTION COMB (L/100 km)** e.g. 9.2\n",
    "-   **CO2 EMISSIONS (g/km)** e.g. 182   --> low --> 0"
   ]
  },
  {
   "cell_type": "code",
   "execution_count": 23,
   "id": "9c38d796",
   "metadata": {},
   "outputs": [],
   "source": [
    "import numpy as np\n",
    "import matplotlib.pyplot as plt\n",
    "import pandas as pd\n",
    "import sklearn \n",
    "import seaborn as sns"
   ]
  },
  {
   "cell_type": "code",
   "execution_count": 24,
   "id": "216b0701",
   "metadata": {},
   "outputs": [],
   "source": [
    "data = pd.read_csv(\"data/FuelConsumption.csv\")"
   ]
  },
  {
   "cell_type": "code",
   "execution_count": 25,
   "id": "a311da19",
   "metadata": {},
   "outputs": [
    {
     "data": {
      "text/html": [
       "<div>\n",
       "<style scoped>\n",
       "    .dataframe tbody tr th:only-of-type {\n",
       "        vertical-align: middle;\n",
       "    }\n",
       "\n",
       "    .dataframe tbody tr th {\n",
       "        vertical-align: top;\n",
       "    }\n",
       "\n",
       "    .dataframe thead th {\n",
       "        text-align: right;\n",
       "    }\n",
       "</style>\n",
       "<table border=\"1\" class=\"dataframe\">\n",
       "  <thead>\n",
       "    <tr style=\"text-align: right;\">\n",
       "      <th></th>\n",
       "      <th>MODELYEAR</th>\n",
       "      <th>MAKE</th>\n",
       "      <th>MODEL</th>\n",
       "      <th>VEHICLECLASS</th>\n",
       "      <th>ENGINESIZE</th>\n",
       "      <th>CYLINDERS</th>\n",
       "      <th>TRANSMISSION</th>\n",
       "      <th>FUELTYPE</th>\n",
       "      <th>FUELCONSUMPTION_CITY</th>\n",
       "      <th>FUELCONSUMPTION_HWY</th>\n",
       "      <th>FUELCONSUMPTION_COMB</th>\n",
       "      <th>FUELCONSUMPTION_COMB_MPG</th>\n",
       "      <th>CO2EMISSIONS</th>\n",
       "    </tr>\n",
       "  </thead>\n",
       "  <tbody>\n",
       "    <tr>\n",
       "      <th>716</th>\n",
       "      <td>2014</td>\n",
       "      <td>MAZDA</td>\n",
       "      <td>MAZDA6</td>\n",
       "      <td>MID-SIZE</td>\n",
       "      <td>2.5</td>\n",
       "      <td>4</td>\n",
       "      <td>M6</td>\n",
       "      <td>X</td>\n",
       "      <td>9.4</td>\n",
       "      <td>6.4</td>\n",
       "      <td>8.1</td>\n",
       "      <td>35</td>\n",
       "      <td>186</td>\n",
       "    </tr>\n",
       "    <tr>\n",
       "      <th>203</th>\n",
       "      <td>2014</td>\n",
       "      <td>CHEVROLET</td>\n",
       "      <td>CRUZE ECO</td>\n",
       "      <td>MID-SIZE</td>\n",
       "      <td>1.4</td>\n",
       "      <td>4</td>\n",
       "      <td>M6</td>\n",
       "      <td>X</td>\n",
       "      <td>8.4</td>\n",
       "      <td>5.6</td>\n",
       "      <td>7.1</td>\n",
       "      <td>40</td>\n",
       "      <td>163</td>\n",
       "    </tr>\n",
       "    <tr>\n",
       "      <th>566</th>\n",
       "      <td>2014</td>\n",
       "      <td>JAGUAR</td>\n",
       "      <td>XKR COUPE</td>\n",
       "      <td>MINICOMPACT</td>\n",
       "      <td>5.0</td>\n",
       "      <td>8</td>\n",
       "      <td>AS6</td>\n",
       "      <td>Z</td>\n",
       "      <td>15.6</td>\n",
       "      <td>10.9</td>\n",
       "      <td>13.5</td>\n",
       "      <td>21</td>\n",
       "      <td>310</td>\n",
       "    </tr>\n",
       "    <tr>\n",
       "      <th>232</th>\n",
       "      <td>2014</td>\n",
       "      <td>CHEVROLET</td>\n",
       "      <td>IMPALA ECO</td>\n",
       "      <td>FULL-SIZE</td>\n",
       "      <td>2.4</td>\n",
       "      <td>4</td>\n",
       "      <td>AS6</td>\n",
       "      <td>X</td>\n",
       "      <td>10.0</td>\n",
       "      <td>7.0</td>\n",
       "      <td>8.7</td>\n",
       "      <td>32</td>\n",
       "      <td>200</td>\n",
       "    </tr>\n",
       "    <tr>\n",
       "      <th>331</th>\n",
       "      <td>2014</td>\n",
       "      <td>DODGE</td>\n",
       "      <td>JOURNEY FFV</td>\n",
       "      <td>SUV - SMALL</td>\n",
       "      <td>3.6</td>\n",
       "      <td>6</td>\n",
       "      <td>A6</td>\n",
       "      <td>E</td>\n",
       "      <td>18.9</td>\n",
       "      <td>12.9</td>\n",
       "      <td>16.2</td>\n",
       "      <td>17</td>\n",
       "      <td>259</td>\n",
       "    </tr>\n",
       "    <tr>\n",
       "      <th>945</th>\n",
       "      <td>2014</td>\n",
       "      <td>SUBARU</td>\n",
       "      <td>FORESTER AWD</td>\n",
       "      <td>SUV - SMALL</td>\n",
       "      <td>2.5</td>\n",
       "      <td>4</td>\n",
       "      <td>AV</td>\n",
       "      <td>X</td>\n",
       "      <td>9.6</td>\n",
       "      <td>7.4</td>\n",
       "      <td>8.6</td>\n",
       "      <td>33</td>\n",
       "      <td>198</td>\n",
       "    </tr>\n",
       "  </tbody>\n",
       "</table>\n",
       "</div>"
      ],
      "text/plain": [
       "     MODELYEAR       MAKE         MODEL VEHICLECLASS  ENGINESIZE  CYLINDERS  \\\n",
       "716       2014      MAZDA        MAZDA6     MID-SIZE         2.5          4   \n",
       "203       2014  CHEVROLET     CRUZE ECO     MID-SIZE         1.4          4   \n",
       "566       2014     JAGUAR     XKR COUPE  MINICOMPACT         5.0          8   \n",
       "232       2014  CHEVROLET    IMPALA ECO    FULL-SIZE         2.4          4   \n",
       "331       2014      DODGE   JOURNEY FFV  SUV - SMALL         3.6          6   \n",
       "945       2014     SUBARU  FORESTER AWD  SUV - SMALL         2.5          4   \n",
       "\n",
       "    TRANSMISSION FUELTYPE  FUELCONSUMPTION_CITY  FUELCONSUMPTION_HWY  \\\n",
       "716           M6        X                   9.4                  6.4   \n",
       "203           M6        X                   8.4                  5.6   \n",
       "566          AS6        Z                  15.6                 10.9   \n",
       "232          AS6        X                  10.0                  7.0   \n",
       "331           A6        E                  18.9                 12.9   \n",
       "945           AV        X                   9.6                  7.4   \n",
       "\n",
       "     FUELCONSUMPTION_COMB  FUELCONSUMPTION_COMB_MPG  CO2EMISSIONS  \n",
       "716                   8.1                        35           186  \n",
       "203                   7.1                        40           163  \n",
       "566                  13.5                        21           310  \n",
       "232                   8.7                        32           200  \n",
       "331                  16.2                        17           259  \n",
       "945                   8.6                        33           198  "
      ]
     },
     "execution_count": 25,
     "metadata": {},
     "output_type": "execute_result"
    }
   ],
   "source": [
    "data.sample(6)"
   ]
  },
  {
   "cell_type": "markdown",
   "id": "af9cae49",
   "metadata": {},
   "source": [
    "### 1 Make some plots of 'CYLINDERS', 'ENGINESIZE', 'FUELCONSUMPTION_COMB', with respect to 'CO2EMISSIONS'. What do these plots tell you about your capacity to model C02 emissions with a multiple regression model based on the three features?"
   ]
  },
  {
   "cell_type": "code",
   "execution_count": 26,
   "id": "2bcb6932",
   "metadata": {},
   "outputs": [
    {
     "name": "stdout",
     "output_type": "stream",
     "text": [
      "<class 'pandas.core.frame.DataFrame'>\n",
      "RangeIndex: 1067 entries, 0 to 1066\n",
      "Data columns (total 13 columns):\n",
      " #   Column                    Non-Null Count  Dtype  \n",
      "---  ------                    --------------  -----  \n",
      " 0   MODELYEAR                 1067 non-null   int64  \n",
      " 1   MAKE                      1067 non-null   object \n",
      " 2   MODEL                     1067 non-null   object \n",
      " 3   VEHICLECLASS              1067 non-null   object \n",
      " 4   ENGINESIZE                1067 non-null   float64\n",
      " 5   CYLINDERS                 1067 non-null   int64  \n",
      " 6   TRANSMISSION              1067 non-null   object \n",
      " 7   FUELTYPE                  1067 non-null   object \n",
      " 8   FUELCONSUMPTION_CITY      1067 non-null   float64\n",
      " 9   FUELCONSUMPTION_HWY       1067 non-null   float64\n",
      " 10  FUELCONSUMPTION_COMB      1067 non-null   float64\n",
      " 11  FUELCONSUMPTION_COMB_MPG  1067 non-null   int64  \n",
      " 12  CO2EMISSIONS              1067 non-null   int64  \n",
      "dtypes: float64(4), int64(4), object(5)\n",
      "memory usage: 108.5+ KB\n"
     ]
    }
   ],
   "source": [
    "data.info()"
   ]
  },
  {
   "cell_type": "code",
   "execution_count": 27,
   "id": "40178091",
   "metadata": {},
   "outputs": [
    {
     "data": {
      "text/plain": [
       "(1067, 13)"
      ]
     },
     "execution_count": 27,
     "metadata": {},
     "output_type": "execute_result"
    }
   ],
   "source": [
    "data.shape"
   ]
  },
  {
   "cell_type": "code",
   "execution_count": 28,
   "id": "6182b67f",
   "metadata": {},
   "outputs": [
    {
     "data": {
      "text/plain": [
       "MODELYEAR                   0\n",
       "MAKE                        0\n",
       "MODEL                       0\n",
       "VEHICLECLASS                0\n",
       "ENGINESIZE                  0\n",
       "CYLINDERS                   0\n",
       "TRANSMISSION                0\n",
       "FUELTYPE                    0\n",
       "FUELCONSUMPTION_CITY        0\n",
       "FUELCONSUMPTION_HWY         0\n",
       "FUELCONSUMPTION_COMB        0\n",
       "FUELCONSUMPTION_COMB_MPG    0\n",
       "CO2EMISSIONS                0\n",
       "dtype: int64"
      ]
     },
     "execution_count": 28,
     "metadata": {},
     "output_type": "execute_result"
    }
   ],
   "source": [
    "data.isnull().sum()"
   ]
  },
  {
   "cell_type": "code",
   "execution_count": 29,
   "id": "7353f396",
   "metadata": {
    "scrolled": true
   },
   "outputs": [
    {
     "data": {
      "text/html": [
       "<div>\n",
       "<style scoped>\n",
       "    .dataframe tbody tr th:only-of-type {\n",
       "        vertical-align: middle;\n",
       "    }\n",
       "\n",
       "    .dataframe tbody tr th {\n",
       "        vertical-align: top;\n",
       "    }\n",
       "\n",
       "    .dataframe thead th {\n",
       "        text-align: right;\n",
       "    }\n",
       "</style>\n",
       "<table border=\"1\" class=\"dataframe\">\n",
       "  <thead>\n",
       "    <tr style=\"text-align: right;\">\n",
       "      <th></th>\n",
       "      <th>ENGINESIZE</th>\n",
       "      <th>CYLINDERS</th>\n",
       "      <th>FUELCONSUMPTION_COMB</th>\n",
       "      <th>CO2EMISSIONS</th>\n",
       "    </tr>\n",
       "  </thead>\n",
       "  <tbody>\n",
       "    <tr>\n",
       "      <th>0</th>\n",
       "      <td>2.0</td>\n",
       "      <td>4</td>\n",
       "      <td>8.5</td>\n",
       "      <td>196</td>\n",
       "    </tr>\n",
       "    <tr>\n",
       "      <th>1</th>\n",
       "      <td>2.4</td>\n",
       "      <td>4</td>\n",
       "      <td>9.6</td>\n",
       "      <td>221</td>\n",
       "    </tr>\n",
       "    <tr>\n",
       "      <th>2</th>\n",
       "      <td>1.5</td>\n",
       "      <td>4</td>\n",
       "      <td>5.9</td>\n",
       "      <td>136</td>\n",
       "    </tr>\n",
       "    <tr>\n",
       "      <th>3</th>\n",
       "      <td>3.5</td>\n",
       "      <td>6</td>\n",
       "      <td>11.1</td>\n",
       "      <td>255</td>\n",
       "    </tr>\n",
       "    <tr>\n",
       "      <th>4</th>\n",
       "      <td>3.5</td>\n",
       "      <td>6</td>\n",
       "      <td>10.6</td>\n",
       "      <td>244</td>\n",
       "    </tr>\n",
       "  </tbody>\n",
       "</table>\n",
       "</div>"
      ],
      "text/plain": [
       "   ENGINESIZE  CYLINDERS  FUELCONSUMPTION_COMB  CO2EMISSIONS\n",
       "0         2.0          4                   8.5           196\n",
       "1         2.4          4                   9.6           221\n",
       "2         1.5          4                   5.9           136\n",
       "3         3.5          6                  11.1           255\n",
       "4         3.5          6                  10.6           244"
      ]
     },
     "execution_count": 29,
     "metadata": {},
     "output_type": "execute_result"
    }
   ],
   "source": [
    "sub_data = data[['ENGINESIZE','CYLINDERS','FUELCONSUMPTION_COMB','CO2EMISSIONS']]\n",
    "sub_data.head(5)"
   ]
  },
  {
   "cell_type": "code",
   "execution_count": 30,
   "id": "132da6e3",
   "metadata": {},
   "outputs": [
    {
     "data": {
      "image/png": "[encoded data removed]",
      "text/plain": [
       "<Figure size 504x504 with 2 Axes>"
      ]
     },
     "metadata": {
      "needs_background": "light"
     },
     "output_type": "display_data"
    }
   ],
   "source": [
    "corr = sub_data.corr()\n",
    "plt.subplots(figsize=(7,7));\n",
    "sns.heatmap(corr, annot=True, cmap=\"RdBu\", square=True)\n",
    "plt.title(\"Correlation matrix of numerical features\")\n",
    "plt.tight_layout()\n",
    "plt.show()"
   ]
  },
  {
   "cell_type": "markdown",
   "id": "4e3b46ca",
   "metadata": {},
   "source": [
    "We can see that ENGINESIZE,CYLINDER,FUELCONSUMPTION_COMB are well correlated with CO2EMISSIONS"
   ]
  },
  {
   "cell_type": "code",
   "execution_count": 31,
   "id": "b9803b83",
   "metadata": {},
   "outputs": [
    {
     "data": {
      "image/png": "[encoded data removed]",
      "text/plain": [
       "<Figure size 1152x432 with 3 Axes>"
      ]
     },
     "metadata": {
      "needs_background": "light"
     },
     "output_type": "display_data"
    }
   ],
   "source": [
    "fig, axes = plt.subplots(nrows=1, ncols=3, figsize=(16, 6))\n",
    "\n",
    "axes[0].scatter(sub_data['CYLINDERS'], sub_data['CO2EMISSIONS'])\n",
    "axes[0].set_title(\"Cylinders vs. CO2 emission\")\n",
    "axes[0].set_xlabel(\"CYLINDERS\")\n",
    "axes[0].set_ylabel(\"CO2 emission\")\n",
    "\n",
    "axes[1].scatter(sub_data['ENGINESIZE'], sub_data['CO2EMISSIONS'])\n",
    "axes[1].set_title(\"Engine size vs. CO2 emission\")\n",
    "axes[1].set_xlabel(\"Engine size\")\n",
    "\n",
    "axes[2].scatter(sub_data['FUELCONSUMPTION_COMB'], sub_data['CO2EMISSIONS'])\n",
    "axes[2].set_title(\"Combined fuel consumption vs. CO2 emission\")\n",
    "axes[2].set_xlabel(\"Combined fuel consumption\")\n",
    "\n",
    "plt.show()"
   ]
  },
  {
   "cell_type": "markdown",
   "id": "881eea54",
   "metadata": {},
   "source": [
    "All three features seem to have a linear relationship with CO2 emissions. All trends indicate a positive correlation."
   ]
  },
  {
   "cell_type": "markdown",
   "id": "1ed55195",
   "metadata": {},
   "source": [
    "* Train a multiple linear regression with these three predictors. What are the coefficients associated with each predictor?"
   ]
  },
  {
   "cell_type": "code",
   "execution_count": 32,
   "id": "185a3b97",
   "metadata": {},
   "outputs": [
    {
     "data": {
      "text/html": [
       "<div>\n",
       "<style scoped>\n",
       "    .dataframe tbody tr th:only-of-type {\n",
       "        vertical-align: middle;\n",
       "    }\n",
       "\n",
       "    .dataframe tbody tr th {\n",
       "        vertical-align: top;\n",
       "    }\n",
       "\n",
       "    .dataframe thead th {\n",
       "        text-align: right;\n",
       "    }\n",
       "</style>\n",
       "<table border=\"1\" class=\"dataframe\">\n",
       "  <thead>\n",
       "    <tr style=\"text-align: right;\">\n",
       "      <th></th>\n",
       "      <th>ENGINESIZE</th>\n",
       "      <th>CYLINDERS</th>\n",
       "      <th>FUELCONSUMPTION_COMB</th>\n",
       "      <th>CO2EMISSIONS</th>\n",
       "    </tr>\n",
       "  </thead>\n",
       "  <tbody>\n",
       "    <tr>\n",
       "      <th>0</th>\n",
       "      <td>2.0</td>\n",
       "      <td>4</td>\n",
       "      <td>8.5</td>\n",
       "      <td>196</td>\n",
       "    </tr>\n",
       "    <tr>\n",
       "      <th>1</th>\n",
       "      <td>2.4</td>\n",
       "      <td>4</td>\n",
       "      <td>9.6</td>\n",
       "      <td>221</td>\n",
       "    </tr>\n",
       "    <tr>\n",
       "      <th>2</th>\n",
       "      <td>1.5</td>\n",
       "      <td>4</td>\n",
       "      <td>5.9</td>\n",
       "      <td>136</td>\n",
       "    </tr>\n",
       "    <tr>\n",
       "      <th>3</th>\n",
       "      <td>3.5</td>\n",
       "      <td>6</td>\n",
       "      <td>11.1</td>\n",
       "      <td>255</td>\n",
       "    </tr>\n",
       "    <tr>\n",
       "      <th>4</th>\n",
       "      <td>3.5</td>\n",
       "      <td>6</td>\n",
       "      <td>10.6</td>\n",
       "      <td>244</td>\n",
       "    </tr>\n",
       "    <tr>\n",
       "      <th>...</th>\n",
       "      <td>...</td>\n",
       "      <td>...</td>\n",
       "      <td>...</td>\n",
       "      <td>...</td>\n",
       "    </tr>\n",
       "    <tr>\n",
       "      <th>1062</th>\n",
       "      <td>3.0</td>\n",
       "      <td>6</td>\n",
       "      <td>11.8</td>\n",
       "      <td>271</td>\n",
       "    </tr>\n",
       "    <tr>\n",
       "      <th>1063</th>\n",
       "      <td>3.2</td>\n",
       "      <td>6</td>\n",
       "      <td>11.5</td>\n",
       "      <td>264</td>\n",
       "    </tr>\n",
       "    <tr>\n",
       "      <th>1064</th>\n",
       "      <td>3.0</td>\n",
       "      <td>6</td>\n",
       "      <td>11.8</td>\n",
       "      <td>271</td>\n",
       "    </tr>\n",
       "    <tr>\n",
       "      <th>1065</th>\n",
       "      <td>3.2</td>\n",
       "      <td>6</td>\n",
       "      <td>11.3</td>\n",
       "      <td>260</td>\n",
       "    </tr>\n",
       "    <tr>\n",
       "      <th>1066</th>\n",
       "      <td>3.2</td>\n",
       "      <td>6</td>\n",
       "      <td>12.8</td>\n",
       "      <td>294</td>\n",
       "    </tr>\n",
       "  </tbody>\n",
       "</table>\n",
       "<p>1067 rows × 4 columns</p>\n",
       "</div>"
      ],
      "text/plain": [
       "      ENGINESIZE  CYLINDERS  FUELCONSUMPTION_COMB  CO2EMISSIONS\n",
       "0            2.0          4                   8.5           196\n",
       "1            2.4          4                   9.6           221\n",
       "2            1.5          4                   5.9           136\n",
       "3            3.5          6                  11.1           255\n",
       "4            3.5          6                  10.6           244\n",
       "...          ...        ...                   ...           ...\n",
       "1062         3.0          6                  11.8           271\n",
       "1063         3.2          6                  11.5           264\n",
       "1064         3.0          6                  11.8           271\n",
       "1065         3.2          6                  11.3           260\n",
       "1066         3.2          6                  12.8           294\n",
       "\n",
       "[1067 rows x 4 columns]"
      ]
     },
     "execution_count": 32,
     "metadata": {},
     "output_type": "execute_result"
    }
   ],
   "source": [
    "sub_data"
   ]
  },
  {
   "cell_type": "code",
   "execution_count": 33,
   "id": "8e1806fd",
   "metadata": {},
   "outputs": [],
   "source": [
    "X = sub_data.drop('CO2EMISSIONS',axis=1)\n",
    "# X = data[['CYLINDERS', 'ENGINESIZE', 'FUELCONSUMPTION_COMB']]\n",
    "y = sub_data['CO2EMISSIONS'].values.reshape(-1,1)"
   ]
  },
  {
   "cell_type": "markdown",
   "id": "786a86a1",
   "metadata": {},
   "source": [
    "#### Split"
   ]
  },
  {
   "cell_type": "code",
   "execution_count": 34,
   "id": "9c257136",
   "metadata": {},
   "outputs": [],
   "source": [
    "from sklearn.model_selection import train_test_split\n",
    "X_train, X_test, y_train, y_test = train_test_split(X, y, test_size = 0.25, random_state = 0)"
   ]
  },
  {
   "cell_type": "markdown",
   "id": "aa11f46f",
   "metadata": {},
   "source": [
    "#### Train"
   ]
  },
  {
   "cell_type": "code",
   "execution_count": 35,
   "id": "0fa5cb18",
   "metadata": {},
   "outputs": [
    {
     "name": "stdout",
     "output_type": "stream",
     "text": [
      "The linear model is: Y = 68.4 + 11.9*ENGINESIZE + 7.55*CYLINDERS + 9.1*FUELCONSUMPTION_COMB\n"
     ]
    }
   ],
   "source": [
    "from sklearn.linear_model import LinearRegression\n",
    "reg_multiple = LinearRegression()\n",
    "reg_multiple.fit(X_train, y_train)\n",
    "print(\"The linear model is: Y = {:.3} + {:.3}*ENGINESIZE + {:.3}*CYLINDERS + {:.3}*FUELCONSUMPTION_COMB\".format(reg_multiple.intercept_[0], reg_multiple.coef_[0][0], reg_multiple.coef_[0][1], reg_multiple.coef_[0][2]))"
   ]
  },
  {
   "cell_type": "markdown",
   "id": "917a684d",
   "metadata": {},
   "source": [
    "### Assess the performance of your model. What do you think, when compared with the accuracy of the linear regression with 'FUELCONSUMPTION_COMB' as single predictor (computed in last question of practice #3)?"
   ]
  },
  {
   "cell_type": "code",
   "execution_count": 36,
   "id": "aba0a583",
   "metadata": {},
   "outputs": [],
   "source": [
    "from sklearn.metrics import mean_absolute_error, mean_squared_error, r2_score\n",
    "\n",
    "def assess_performance(y_true, y_pred):\n",
    "    print(\"Mean square error (MSE): %.2f\" % mean_squared_error(y_true, y_pred))\n",
    "    print(\"Root mean square error (RMSE): %.2f\" % mean_squared_error(y_true, y_pred, squared=False))\n",
    "    print(\"Mean absolute error (MAE): %.2f\" % mean_absolute_error(y_true, y_pred))\n",
    "    print(\"R^2 score is: %.2f\" % r2_score(y_true, y_pred))"
   ]
  },
  {
   "cell_type": "code",
   "execution_count": 37,
   "id": "4a3f77c1",
   "metadata": {},
   "outputs": [
    {
     "name": "stdout",
     "output_type": "stream",
     "text": [
      "Mean square error (MSE): 595.36\n",
      "Root mean square error (RMSE): 24.40\n",
      "Mean absolute error (MAE): 18.14\n",
      "R^2 score is: 0.85\n"
     ]
    }
   ],
   "source": [
    "y_pred = reg_multiple.predict(X_test)\n",
    "assess_performance(y_test, y_pred)"
   ]
  },
  {
   "cell_type": "markdown",
   "id": "c235faef",
   "metadata": {},
   "source": [
    "With FUELCONSUMPTION_COMB as a unique predictor, we had a mean squared error of 792.17. Here, with our three predictors, we get an MSE of 595.36. We have improved our prediction.\n",
    "The Mean Absolute Error indicates that the average prediction error shrank from 20.22 to 18.14.\n",
    "The  𝑅2  score indicates that adding two more features allowed the model to explain 85% of the variance, as opposed to 81% with only one predictor."
   ]
  },
  {
   "cell_type": "markdown",
   "id": "0b6d1fa3",
   "metadata": {},
   "source": [
    "#### 'FUELCONSUMPTION_CITY' is the urban consumption while FUELCONSUMPTION_HWY is the consumption on the highway. 'FUELCONSUMPTION_COMB' is the combined consumption and is computed as a weighted sum of 'FUELCONSUMPTION_CITY' and 'FUELCONSUMPTION_HWY' so to represent a standard driver behaviour. How are these three features correlated between each other?"
   ]
  },
  {
   "cell_type": "code",
   "execution_count": 38,
   "id": "04eaa721",
   "metadata": {},
   "outputs": [
    {
     "data": {
      "image/png": "[encoded data removed]",
      "text/plain": [
       "<Figure size 504x504 with 2 Axes>"
      ]
     },
     "metadata": {
      "needs_background": "light"
     },
     "output_type": "display_data"
    }
   ],
   "source": [
    "corr=data[['FUELCONSUMPTION_COMB','FUELCONSUMPTION_CITY','FUELCONSUMPTION_HWY']].corr()\n",
    "plt.subplots(figsize=(7,7));\n",
    "sns.heatmap(corr, annot=True, cmap=\"RdBu\", square=True)\n",
    "plt.title(\"Correlation matrix of three features\")\n",
    "plt.tight_layout()\n",
    "plt.show()"
   ]
  },
  {
   "cell_type": "markdown",
   "id": "77548937",
   "metadata": {},
   "source": [
    "These three features are highly correlated between each other.Especially, FUELCONSUMPTION_COMB correlated at more than 98.5% with FUELCONSUMPTION_CITY and FUELCONSUMPTION_HWY."
   ]
  },
  {
   "cell_type": "markdown",
   "id": "f500d9cb",
   "metadata": {},
   "source": [
    "#### Add 'FUELCONSUMPTION_CITY' and 'FUELCONSUMPTION_HWY' as additional predictors to your model of question #2. What is the gain of accuracy, and how do you interpret that?"
   ]
  },
  {
   "cell_type": "code",
   "execution_count": 41,
   "id": "0177241d",
   "metadata": {},
   "outputs": [
    {
     "name": "stdout",
     "output_type": "stream",
     "text": [
      "Mean square error (MSE): 597.46\n",
      "Root mean square error (RMSE): 24.44\n",
      "Mean absolute error (MAE): 18.14\n",
      "R^2 score is: 0.85\n"
     ]
    }
   ],
   "source": [
    "X_1 = data[['FUELCONSUMPTION_COMB','FUELCONSUMPTION_CITY','FUELCONSUMPTION_HWY','CYLINDERS', 'ENGINESIZE']]\n",
    "y = data['CO2EMISSIONS'].values.reshape(-1,1)\n",
    "#Slit\n",
    "X_train_1, X_test_1, y_train, y_test = train_test_split(X_1, y, test_size = 0.25, random_state = 0)\n",
    "#train\n",
    "reg_multiple_1 = LinearRegression()\n",
    "reg_multiple_1.fit(X_train_1, y_train)\n",
    "\n",
    "# Model performance\n",
    "y_pred_1 = reg_multiple_1.predict(X_test_1)\n",
    "assess_performance(y_test, y_pred_1)"
   ]
  },
  {
   "cell_type": "markdown",
   "id": "22aa8273",
   "metadata": {},
   "source": [
    "The metrics are approximately the same as before. that means that there is no significant gain of accuracy when addding FUELCONSUMPTION_CITY and FUELCONSUMPTION_HWY as predictors.\n",
    "This is due to the fact that these two features are strongly correlated with FUELCONSUMPTION_COMB and do not bring much extra information. Indeed, this latter is a linear combanation of the two previous ones. This is called a multicollinearity."
   ]
  },
  {
   "cell_type": "markdown",
   "id": "559a2068",
   "metadata": {},
   "source": [
    "#### Plot 'CO2EMISSIONS' with respect to 'FUELCONSUMPTION_COMB' for each possible value of 'FUELTYPE' (i.e. plot the scatter dots with one distinct color for each value of 'FUELTYPE'). Do you think that 'FUELTYPE' and 'FUELCONSUMPTION_COMB' could be sufficient predictors for 'CO2EMISSIONS' estimation with a multiple linear regression model? Compute the accuracy."
   ]
  },
  {
   "cell_type": "code",
   "execution_count": 42,
   "id": "9f69fa68",
   "metadata": {},
   "outputs": [
    {
     "data": {
      "text/plain": [
       "<AxesSubplot:xlabel='FUELCONSUMPTION_COMB', ylabel='CO2EMISSIONS'>"
      ]
     },
     "execution_count": 42,
     "metadata": {},
     "output_type": "execute_result"
    },
    {
     "data": {
      "image/png": "[encoded data removed]",
      "text/plain": [
       "<Figure size 432x288 with 1 Axes>"
      ]
     },
     "metadata": {
      "needs_background": "light"
     },
     "output_type": "display_data"
    }
   ],
   "source": [
    "sns.scatterplot(data=data, x=\"FUELCONSUMPTION_COMB\", y=\"CO2EMISSIONS\", hue=\"FUELTYPE\")"
   ]
  },
  {
   "cell_type": "markdown",
   "id": "e0f24d02",
   "metadata": {},
   "source": [
    "We can see that C02 emission increase linearly with FUELCONSUMPTION_COMB group by FUELTYPE. So, 'FUELTYPE' and 'FUELCONSUMPTION_COMB' could be sufficient predictors for CO2EMISSIONS estimation with a multiple linear regression model."
   ]
  },
  {
   "cell_type": "code",
   "execution_count": 64,
   "id": "22430058",
   "metadata": {},
   "outputs": [],
   "source": [
    "X_2 = data[['FUELCONSUMPTION_COMB','FUELTYPE']]\n",
    "y = data['CO2EMISSIONS'].values.reshape(-1,1)"
   ]
  },
  {
   "cell_type": "markdown",
   "id": "9610e80d",
   "metadata": {},
   "source": [
    "Encoder category FUELTYPE feature"
   ]
  },
  {
   "cell_type": "code",
   "execution_count": 70,
   "id": "2a34bad8",
   "metadata": {},
   "outputs": [
    {
     "data": {
      "text/html": [
       "<div>\n",
       "<style scoped>\n",
       "    .dataframe tbody tr th:only-of-type {\n",
       "        vertical-align: middle;\n",
       "    }\n",
       "\n",
       "    .dataframe tbody tr th {\n",
       "        vertical-align: top;\n",
       "    }\n",
       "\n",
       "    .dataframe thead th {\n",
       "        text-align: right;\n",
       "    }\n",
       "</style>\n",
       "<table border=\"1\" class=\"dataframe\">\n",
       "  <thead>\n",
       "    <tr style=\"text-align: right;\">\n",
       "      <th></th>\n",
       "      <th>FUELCONSUMPTION_COMB</th>\n",
       "      <th>FUELTYPE_is_D</th>\n",
       "      <th>FUELTYPE_is_E</th>\n",
       "      <th>FUELTYPE_is_X</th>\n",
       "      <th>FUELTYPE_is_Z</th>\n",
       "    </tr>\n",
       "  </thead>\n",
       "  <tbody>\n",
       "    <tr>\n",
       "      <th>0</th>\n",
       "      <td>8.5</td>\n",
       "      <td>0</td>\n",
       "      <td>0</td>\n",
       "      <td>0</td>\n",
       "      <td>1</td>\n",
       "    </tr>\n",
       "    <tr>\n",
       "      <th>1</th>\n",
       "      <td>9.6</td>\n",
       "      <td>0</td>\n",
       "      <td>0</td>\n",
       "      <td>0</td>\n",
       "      <td>1</td>\n",
       "    </tr>\n",
       "    <tr>\n",
       "      <th>2</th>\n",
       "      <td>5.9</td>\n",
       "      <td>0</td>\n",
       "      <td>0</td>\n",
       "      <td>0</td>\n",
       "      <td>1</td>\n",
       "    </tr>\n",
       "    <tr>\n",
       "      <th>3</th>\n",
       "      <td>11.1</td>\n",
       "      <td>0</td>\n",
       "      <td>0</td>\n",
       "      <td>0</td>\n",
       "      <td>1</td>\n",
       "    </tr>\n",
       "    <tr>\n",
       "      <th>4</th>\n",
       "      <td>10.6</td>\n",
       "      <td>0</td>\n",
       "      <td>0</td>\n",
       "      <td>0</td>\n",
       "      <td>1</td>\n",
       "    </tr>\n",
       "  </tbody>\n",
       "</table>\n",
       "</div>"
      ],
      "text/plain": [
       "   FUELCONSUMPTION_COMB  FUELTYPE_is_D  FUELTYPE_is_E  FUELTYPE_is_X  \\\n",
       "0                   8.5              0              0              0   \n",
       "1                   9.6              0              0              0   \n",
       "2                   5.9              0              0              0   \n",
       "3                  11.1              0              0              0   \n",
       "4                  10.6              0              0              0   \n",
       "\n",
       "   FUELTYPE_is_Z  \n",
       "0              1  \n",
       "1              1  \n",
       "2              1  \n",
       "3              1  \n",
       "4              1  "
      ]
     },
     "execution_count": 70,
     "metadata": {},
     "output_type": "execute_result"
    }
   ],
   "source": [
    "from sklearn.preprocessing import OrdinalEncoder\n",
    "X_2 = pd.get_dummies(X_2 , columns=['FUELTYPE'], prefix=['FUELTYPE_is'])\n",
    "X_2.head(5)\n"
   ]
  },
  {
   "cell_type": "code",
   "execution_count": 72,
   "id": "b9970301",
   "metadata": {},
   "outputs": [],
   "source": [
    "#Split\n",
    "X_train_2, X_test_2, y_train, y_test = train_test_split(X_2, y, test_size = 0.25, random_state = 0)"
   ]
  },
  {
   "cell_type": "code",
   "execution_count": 73,
   "id": "1b4bc8e0",
   "metadata": {},
   "outputs": [],
   "source": [
    "#Scaling\n",
    "#numerical_feature = ['FUELCONSUMPTION_COMB']"
   ]
  },
  {
   "cell_type": "code",
   "execution_count": 74,
   "id": "e6af81b2",
   "metadata": {},
   "outputs": [],
   "source": [
    "from sklearn.preprocessing import StandardScaler\n",
    "#scaler = StandardScaler()\n",
    "#X_train_2.loc[:,numerical_feature] = scaler.fit_transform(X_train_2[numerical_feature])\n",
    "#X_test_2.loc[:,numerical_feature] = scaler.transform(X_test_2[numerical_feature])\n",
    "#X_train_2.head(6)"
   ]
  },
  {
   "cell_type": "code",
   "execution_count": 75,
   "id": "8b24038d",
   "metadata": {},
   "outputs": [
    {
     "name": "stdout",
     "output_type": "stream",
     "text": [
      "Mean square error (MSE): 51.45\n",
      "Root mean square error (RMSE): 7.17\n",
      "Mean absolute error (MAE): 3.41\n",
      "R^2 score is: 0.99\n"
     ]
    }
   ],
   "source": [
    "# Model fit\n",
    "reg_multiple_2 = LinearRegression()\n",
    "reg_multiple_2.fit(X_train_2, y_train)\n",
    "# Model accuracy\n",
    "y_pred_2 = reg_multiple_2.predict(X_test_2)\n",
    "assess_performance(y_test, y_pred_2)"
   ]
  },
  {
   "cell_type": "markdown",
   "id": "c5377cba",
   "metadata": {},
   "source": [
    "With this model, the MSE has decreased from 597.46 to 51.45.It means that we have significatively increased the performance of the model. A more interpretable measure is the MAE, which has fallen from 18,14 to 3,41. Finally, the 𝑅2  score shows that the new model now explains 99% if the variance."
   ]
  },
  {
   "cell_type": "markdown",
   "id": "27bfe048",
   "metadata": {},
   "source": [
    "# Going further \n",
    "### Interpreting the model"
   ]
  },
  {
   "cell_type": "code",
   "execution_count": 82,
   "id": "6e14b310",
   "metadata": {},
   "outputs": [
    {
     "data": {
      "text/html": [
       "<div>\n",
       "<style scoped>\n",
       "    .dataframe tbody tr th:only-of-type {\n",
       "        vertical-align: middle;\n",
       "    }\n",
       "\n",
       "    .dataframe tbody tr th {\n",
       "        vertical-align: top;\n",
       "    }\n",
       "\n",
       "    .dataframe thead th {\n",
       "        text-align: right;\n",
       "    }\n",
       "</style>\n",
       "<table border=\"1\" class=\"dataframe\">\n",
       "  <thead>\n",
       "    <tr style=\"text-align: right;\">\n",
       "      <th></th>\n",
       "      <th>coefficient</th>\n",
       "    </tr>\n",
       "  </thead>\n",
       "  <tbody>\n",
       "    <tr>\n",
       "      <th>Intercept</th>\n",
       "      <td>-12.792545</td>\n",
       "    </tr>\n",
       "    <tr>\n",
       "      <th>FUELCONSUMPTION_COMB</th>\n",
       "      <td>22.124991</td>\n",
       "    </tr>\n",
       "    <tr>\n",
       "      <th>FUELTYPE_is_D</th>\n",
       "      <td>54.522828</td>\n",
       "    </tr>\n",
       "    <tr>\n",
       "      <th>FUELTYPE_is_E</th>\n",
       "      <td>-99.664178</td>\n",
       "    </tr>\n",
       "    <tr>\n",
       "      <th>FUELTYPE_is_X</th>\n",
       "      <td>22.079584</td>\n",
       "    </tr>\n",
       "    <tr>\n",
       "      <th>FUELTYPE_is_Z</th>\n",
       "      <td>23.061766</td>\n",
       "    </tr>\n",
       "  </tbody>\n",
       "</table>\n",
       "</div>"
      ],
      "text/plain": [
       "                      coefficient\n",
       "Intercept              -12.792545\n",
       "FUELCONSUMPTION_COMB    22.124991\n",
       "FUELTYPE_is_D           54.522828\n",
       "FUELTYPE_is_E          -99.664178\n",
       "FUELTYPE_is_X           22.079584\n",
       "FUELTYPE_is_Z           23.061766"
      ]
     },
     "execution_count": 82,
     "metadata": {},
     "output_type": "execute_result"
    }
   ],
   "source": [
    "def show_coefficients(model,feature_names=None):\n",
    "    coefs = np.hstack([model.intercept_,model.coef_.squeeze()])\n",
    "    feature_names =  model.feature_names_in_.tolist() if feature_names is None else feature_names.tolist()\n",
    "    feature_names = ['Intercept'] + feature_names\n",
    "    return pd.DataFrame(coefs, index=feature_names, columns=['coefficient'])\n",
    "\n",
    "    \n",
    "show_coefficients(reg_multiple_2)  "
   ]
  },
  {
   "cell_type": "code",
   "execution_count": 83,
   "id": "721f16d7",
   "metadata": {},
   "outputs": [
    {
     "data": {
      "text/plain": [
       "array(['FUELCONSUMPTION_COMB', 'FUELTYPE_is_D', 'FUELTYPE_is_E',\n",
       "       'FUELTYPE_is_X', 'FUELTYPE_is_Z'], dtype=object)"
      ]
     },
     "execution_count": 83,
     "metadata": {},
     "output_type": "execute_result"
    }
   ],
   "source": [
    "reg_multiple_2.feature_names_in_"
   ]
  },
  {
   "cell_type": "markdown",
   "id": "a81e3677",
   "metadata": {},
   "source": [
    "# Adding interaction ploynomial features"
   ]
  },
  {
   "cell_type": "code",
   "execution_count": 101,
   "id": "bd954a8f",
   "metadata": {},
   "outputs": [],
   "source": [
    "from sklearn.preprocessing import PolynomialFeatures\n",
    "\n",
    "#Data preparation\n",
    "X_3 = data[['FUELTYPE','FUELCONSUMPTION_COMB']]\n",
    "y = data['CO2EMISSIONS'].values.reshape(-1,1)\n"
   ]
  },
  {
   "cell_type": "code",
   "execution_count": 102,
   "id": "e853f043",
   "metadata": {},
   "outputs": [
    {
     "data": {
      "text/plain": [
       "array(['Z', 'D', 'X', 'E'], dtype=object)"
      ]
     },
     "execution_count": 102,
     "metadata": {},
     "output_type": "execute_result"
    }
   ],
   "source": [
    "X_3['FUELTYPE'].unique()"
   ]
  },
  {
   "cell_type": "code",
   "execution_count": 103,
   "id": "cfe1275c",
   "metadata": {},
   "outputs": [],
   "source": [
    "# Data encoding\n",
    "X_3 = pd.get_dummies(X_3, columns=['FUELTYPE'], prefix=['FUELTYPE_is'])\n",
    "X_3['FUELTYPE_is_XZ'] = X_3['FUELTYPE_is_X'] | X_3['FUELTYPE_is_Z']\n",
    "X_3 = X_3.drop(['FUELTYPE_is_X', 'FUELTYPE_is_Z'], axis='columns')\n",
    "poly_3 = PolynomialFeatures(degree=2, include_bias=False)\n",
    "X_3 = poly_3.fit_transform(X_3)\n"
   ]
  },
  {
   "cell_type": "code",
   "execution_count": 105,
   "id": "db529e79",
   "metadata": {},
   "outputs": [],
   "source": [
    "# Train-test split\n",
    "X_train_3, X_test_3, y_train, y_test = train_test_split(X_3, y, test_size = 0.25, random_state = 0)"
   ]
  },
  {
   "cell_type": "code",
   "execution_count": 107,
   "id": "04b3c580",
   "metadata": {},
   "outputs": [
    {
     "data": {
      "text/html": [
       "<style>#sk-container-id-4 {color: black;background-color: white;}#sk-container-id-4 pre{padding: 0;}#sk-container-id-4 div.sk-toggleable {background-color: white;}#sk-container-id-4 label.sk-toggleable__label {cursor: pointer;display: block;width: 100%;margin-bottom: 0;padding: 0.3em;box-sizing: border-box;text-align: center;}#sk-container-id-4 label.sk-toggleable__label-arrow:before {content: \"▸\";float: left;margin-right: 0.25em;color: #696969;}#sk-container-id-4 label.sk-toggleable__label-arrow:hover:before {color: black;}#sk-container-id-4 div.sk-estimator:hover label.sk-toggleable__label-arrow:before {color: black;}#sk-container-id-4 div.sk-toggleable__content {max-height: 0;max-width: 0;overflow: hidden;text-align: left;background-color: #f0f8ff;}#sk-container-id-4 div.sk-toggleable__content pre {margin: 0.2em;color: black;border-radius: 0.25em;background-color: #f0f8ff;}#sk-container-id-4 input.sk-toggleable__control:checked~div.sk-toggleable__content {max-height: 200px;max-width: 100%;overflow: auto;}#sk-container-id-4 input.sk-toggleable__control:checked~label.sk-toggleable__label-arrow:before {content: \"▾\";}#sk-container-id-4 div.sk-estimator input.sk-toggleable__control:checked~label.sk-toggleable__label {background-color: #d4ebff;}#sk-container-id-4 div.sk-label input.sk-toggleable__control:checked~label.sk-toggleable__label {background-color: #d4ebff;}#sk-container-id-4 input.sk-hidden--visually {border: 0;clip: rect(1px 1px 1px 1px);clip: rect(1px, 1px, 1px, 1px);height: 1px;margin: -1px;overflow: hidden;padding: 0;position: absolute;width: 1px;}#sk-container-id-4 div.sk-estimator {font-family: monospace;background-color: #f0f8ff;border: 1px dotted black;border-radius: 0.25em;box-sizing: border-box;margin-bottom: 0.5em;}#sk-container-id-4 div.sk-estimator:hover {background-color: #d4ebff;}#sk-container-id-4 div.sk-parallel-item::after {content: \"\";width: 100%;border-bottom: 1px solid gray;flex-grow: 1;}#sk-container-id-4 div.sk-label:hover label.sk-toggleable__label {background-color: #d4ebff;}#sk-container-id-4 div.sk-serial::before {content: \"\";position: absolute;border-left: 1px solid gray;box-sizing: border-box;top: 0;bottom: 0;left: 50%;z-index: 0;}#sk-container-id-4 div.sk-serial {display: flex;flex-direction: column;align-items: center;background-color: white;padding-right: 0.2em;padding-left: 0.2em;position: relative;}#sk-container-id-4 div.sk-item {position: relative;z-index: 1;}#sk-container-id-4 div.sk-parallel {display: flex;align-items: stretch;justify-content: center;background-color: white;position: relative;}#sk-container-id-4 div.sk-item::before, #sk-container-id-4 div.sk-parallel-item::before {content: \"\";position: absolute;border-left: 1px solid gray;box-sizing: border-box;top: 0;bottom: 0;left: 50%;z-index: -1;}#sk-container-id-4 div.sk-parallel-item {display: flex;flex-direction: column;z-index: 1;position: relative;background-color: white;}#sk-container-id-4 div.sk-parallel-item:first-child::after {align-self: flex-end;width: 50%;}#sk-container-id-4 div.sk-parallel-item:last-child::after {align-self: flex-start;width: 50%;}#sk-container-id-4 div.sk-parallel-item:only-child::after {width: 0;}#sk-container-id-4 div.sk-dashed-wrapped {border: 1px dashed gray;margin: 0 0.4em 0.5em 0.4em;box-sizing: border-box;padding-bottom: 0.4em;background-color: white;}#sk-container-id-4 div.sk-label label {font-family: monospace;font-weight: bold;display: inline-block;line-height: 1.2em;}#sk-container-id-4 div.sk-label-container {text-align: center;}#sk-container-id-4 div.sk-container {/* jupyter's `normalize.less` sets `[hidden] { display: none; }` but bootstrap.min.css set `[hidden] { display: none !important; }` so we also need the `!important` here to be able to override the default hidden behavior on the sphinx rendered scikit-learn.org. See: https://github.com/scikit-learn/scikit-learn/issues/21755 */display: inline-block !important;position: relative;}#sk-container-id-4 div.sk-text-repr-fallback {display: none;}</style><div id=\"sk-container-id-4\" class=\"sk-top-container\"><div class=\"sk-text-repr-fallback\"><pre>LinearRegression()</pre><b>In a Jupyter environment, please rerun this cell to show the HTML representation or trust the notebook. <br />On GitHub, the HTML representation is unable to render, please try loading this page with nbviewer.org.</b></div><div class=\"sk-container\" hidden><div class=\"sk-item\"><div class=\"sk-estimator sk-toggleable\"><input class=\"sk-toggleable__control sk-hidden--visually\" id=\"sk-estimator-id-4\" type=\"checkbox\" checked><label for=\"sk-estimator-id-4\" class=\"sk-toggleable__label sk-toggleable__label-arrow\">LinearRegression</label><div class=\"sk-toggleable__content\"><pre>LinearRegression()</pre></div></div></div></div></div>"
      ],
      "text/plain": [
       "LinearRegression()"
      ]
     },
     "execution_count": 107,
     "metadata": {},
     "output_type": "execute_result"
    }
   ],
   "source": [
    "# Model fit\n",
    "reg_multiple_3 = LinearRegression()\n",
    "reg_multiple_3.fit(X_train_3, y_train)"
   ]
  },
  {
   "cell_type": "code",
   "execution_count": 108,
   "id": "d1c00719",
   "metadata": {},
   "outputs": [
    {
     "name": "stdout",
     "output_type": "stream",
     "text": [
      "Mean square error (MSE): 0.09\n",
      "Root mean square error (RMSE): 0.30\n",
      "Mean absolute error (MAE): 0.25\n",
      "R^2 score is: 1.00\n"
     ]
    }
   ],
   "source": [
    "# Model accuracy\n",
    "y_pred_3 = reg_multiple_3.predict(X_test_3)\n",
    "assess_performance(y_test, y_pred_3)"
   ]
  },
  {
   "cell_type": "code",
   "execution_count": 109,
   "id": "0c1382bd",
   "metadata": {},
   "outputs": [
    {
     "data": {
      "text/html": [
       "<div>\n",
       "<style scoped>\n",
       "    .dataframe tbody tr th:only-of-type {\n",
       "        vertical-align: middle;\n",
       "    }\n",
       "\n",
       "    .dataframe tbody tr th {\n",
       "        vertical-align: top;\n",
       "    }\n",
       "\n",
       "    .dataframe thead th {\n",
       "        text-align: right;\n",
       "    }\n",
       "</style>\n",
       "<table border=\"1\" class=\"dataframe\">\n",
       "  <thead>\n",
       "    <tr style=\"text-align: right;\">\n",
       "      <th></th>\n",
       "      <th>coefficient</th>\n",
       "    </tr>\n",
       "  </thead>\n",
       "  <tbody>\n",
       "    <tr>\n",
       "      <th>Intercept</th>\n",
       "      <td>0.382765</td>\n",
       "    </tr>\n",
       "    <tr>\n",
       "      <th>FUELCONSUMPTION_COMB</th>\n",
       "      <td>16.455013</td>\n",
       "    </tr>\n",
       "    <tr>\n",
       "      <th>FUELTYPE_is_D</th>\n",
       "      <td>-0.003922</td>\n",
       "    </tr>\n",
       "    <tr>\n",
       "      <th>FUELTYPE_is_E</th>\n",
       "      <td>0.042632</td>\n",
       "    </tr>\n",
       "    <tr>\n",
       "      <th>FUELTYPE_is_XZ</th>\n",
       "      <td>-0.038710</td>\n",
       "    </tr>\n",
       "    <tr>\n",
       "      <th>FUELCONSUMPTION_COMB^2</th>\n",
       "      <td>0.002092</td>\n",
       "    </tr>\n",
       "    <tr>\n",
       "      <th>FUELCONSUMPTION_COMB FUELTYPE_is_D</th>\n",
       "      <td>10.483622</td>\n",
       "    </tr>\n",
       "    <tr>\n",
       "      <th>FUELCONSUMPTION_COMB FUELTYPE_is_E</th>\n",
       "      <td>-0.521465</td>\n",
       "    </tr>\n",
       "    <tr>\n",
       "      <th>FUELCONSUMPTION_COMB FUELTYPE_is_XZ</th>\n",
       "      <td>6.492857</td>\n",
       "    </tr>\n",
       "    <tr>\n",
       "      <th>FUELTYPE_is_D^2</th>\n",
       "      <td>-0.003922</td>\n",
       "    </tr>\n",
       "    <tr>\n",
       "      <th>FUELTYPE_is_D FUELTYPE_is_E</th>\n",
       "      <td>0.000000</td>\n",
       "    </tr>\n",
       "    <tr>\n",
       "      <th>FUELTYPE_is_D FUELTYPE_is_XZ</th>\n",
       "      <td>0.000000</td>\n",
       "    </tr>\n",
       "    <tr>\n",
       "      <th>FUELTYPE_is_E^2</th>\n",
       "      <td>0.042632</td>\n",
       "    </tr>\n",
       "    <tr>\n",
       "      <th>FUELTYPE_is_E FUELTYPE_is_XZ</th>\n",
       "      <td>0.000000</td>\n",
       "    </tr>\n",
       "    <tr>\n",
       "      <th>FUELTYPE_is_XZ^2</th>\n",
       "      <td>-0.038710</td>\n",
       "    </tr>\n",
       "  </tbody>\n",
       "</table>\n",
       "</div>"
      ],
      "text/plain": [
       "                                     coefficient\n",
       "Intercept                               0.382765\n",
       "FUELCONSUMPTION_COMB                   16.455013\n",
       "FUELTYPE_is_D                          -0.003922\n",
       "FUELTYPE_is_E                           0.042632\n",
       "FUELTYPE_is_XZ                         -0.038710\n",
       "FUELCONSUMPTION_COMB^2                  0.002092\n",
       "FUELCONSUMPTION_COMB FUELTYPE_is_D     10.483622\n",
       "FUELCONSUMPTION_COMB FUELTYPE_is_E     -0.521465\n",
       "FUELCONSUMPTION_COMB FUELTYPE_is_XZ     6.492857\n",
       "FUELTYPE_is_D^2                        -0.003922\n",
       "FUELTYPE_is_D FUELTYPE_is_E             0.000000\n",
       "FUELTYPE_is_D FUELTYPE_is_XZ            0.000000\n",
       "FUELTYPE_is_E^2                         0.042632\n",
       "FUELTYPE_is_E FUELTYPE_is_XZ            0.000000\n",
       "FUELTYPE_is_XZ^2                       -0.038710"
      ]
     },
     "execution_count": 109,
     "metadata": {},
     "output_type": "execute_result"
    }
   ],
   "source": [
    "\n",
    "show_coefficients(reg_multiple_3, feature_names=poly_3.get_feature_names_out())"
   ]
  },
  {
   "cell_type": "markdown",
   "id": "7cf79bf6",
   "metadata": {},
   "source": [
    "## With only interaction terms"
   ]
  },
  {
   "cell_type": "code",
   "execution_count": 110,
   "id": "995e478d",
   "metadata": {},
   "outputs": [
    {
     "name": "stdout",
     "output_type": "stream",
     "text": [
      "Mean square error (MSE): 0.09\n",
      "Root mean square error (RMSE): 0.30\n",
      "Mean absolute error (MAE): 0.25\n",
      "R^2 score is: 1.00\n"
     ]
    }
   ],
   "source": [
    "from sklearn.preprocessing import PolynomialFeatures\n",
    "from sklearn.linear_model import Ridge\n",
    "\n",
    "# Data preparation\n",
    "X_5 = data[['FUELTYPE','FUELCONSUMPTION_COMB']]\n",
    "y = data['CO2EMISSIONS'].values.reshape(-1,1)\n",
    "\n",
    "# Data encoding\n",
    "X_5 = pd.get_dummies(X_5, columns=['FUELTYPE'], prefix=['FUELTYPE_is'])\n",
    "X_5['FUELTYPE_is_XZ'] = X_5['FUELTYPE_is_X'] | X_5['FUELTYPE_is_Z']\n",
    "X_5 = X_5.drop(['FUELTYPE_is_X', 'FUELTYPE_is_Z'], axis='columns')\n",
    "poly_5 = PolynomialFeatures(degree=2, include_bias=False, interaction_only=True)\n",
    "X_5 = poly_5.fit_transform(X_5)\n",
    "\n",
    "# Train-test split\n",
    "X_train_5, X_test_5, y_train, y_test = train_test_split(X_5, y, test_size = 0.25, random_state = 0)\n",
    "\n",
    "# Model fit\n",
    "reg_multiple_5 = Ridge()\n",
    "reg_multiple_5.fit(X_train_5, y_train)\n",
    "\n",
    "# Model accuracy\n",
    "y_pred_5 = reg_multiple_5.predict(X_test_5)\n",
    "assess_performance(y_test, y_pred_5)"
   ]
  },
  {
   "cell_type": "code",
   "execution_count": 111,
   "id": "d5a66711",
   "metadata": {},
   "outputs": [
    {
     "data": {
      "text/html": [
       "<div>\n",
       "<style scoped>\n",
       "    .dataframe tbody tr th:only-of-type {\n",
       "        vertical-align: middle;\n",
       "    }\n",
       "\n",
       "    .dataframe tbody tr th {\n",
       "        vertical-align: top;\n",
       "    }\n",
       "\n",
       "    .dataframe thead th {\n",
       "        text-align: right;\n",
       "    }\n",
       "</style>\n",
       "<table border=\"1\" class=\"dataframe\">\n",
       "  <thead>\n",
       "    <tr style=\"text-align: right;\">\n",
       "      <th></th>\n",
       "      <th>coefficient</th>\n",
       "    </tr>\n",
       "  </thead>\n",
       "  <tbody>\n",
       "    <tr>\n",
       "      <th>Intercept</th>\n",
       "      <td>0.290598</td>\n",
       "    </tr>\n",
       "    <tr>\n",
       "      <th>FUELCONSUMPTION_COMB</th>\n",
       "      <td>16.472892</td>\n",
       "    </tr>\n",
       "    <tr>\n",
       "      <th>FUELTYPE_is_D</th>\n",
       "      <td>0.615412</td>\n",
       "    </tr>\n",
       "    <tr>\n",
       "      <th>FUELTYPE_is_E</th>\n",
       "      <td>-0.366665</td>\n",
       "    </tr>\n",
       "    <tr>\n",
       "      <th>FUELTYPE_is_XZ</th>\n",
       "      <td>-0.248747</td>\n",
       "    </tr>\n",
       "    <tr>\n",
       "      <th>FUELCONSUMPTION_COMB FUELTYPE_is_D</th>\n",
       "      <td>10.419223</td>\n",
       "    </tr>\n",
       "    <tr>\n",
       "      <th>FUELCONSUMPTION_COMB FUELTYPE_is_E</th>\n",
       "      <td>-0.469722</td>\n",
       "    </tr>\n",
       "    <tr>\n",
       "      <th>FUELCONSUMPTION_COMB FUELTYPE_is_XZ</th>\n",
       "      <td>6.523391</td>\n",
       "    </tr>\n",
       "    <tr>\n",
       "      <th>FUELTYPE_is_D FUELTYPE_is_E</th>\n",
       "      <td>0.000000</td>\n",
       "    </tr>\n",
       "    <tr>\n",
       "      <th>FUELTYPE_is_D FUELTYPE_is_XZ</th>\n",
       "      <td>0.000000</td>\n",
       "    </tr>\n",
       "    <tr>\n",
       "      <th>FUELTYPE_is_E FUELTYPE_is_XZ</th>\n",
       "      <td>0.000000</td>\n",
       "    </tr>\n",
       "  </tbody>\n",
       "</table>\n",
       "</div>"
      ],
      "text/plain": [
       "                                     coefficient\n",
       "Intercept                               0.290598\n",
       "FUELCONSUMPTION_COMB                   16.472892\n",
       "FUELTYPE_is_D                           0.615412\n",
       "FUELTYPE_is_E                          -0.366665\n",
       "FUELTYPE_is_XZ                         -0.248747\n",
       "FUELCONSUMPTION_COMB FUELTYPE_is_D     10.419223\n",
       "FUELCONSUMPTION_COMB FUELTYPE_is_E     -0.469722\n",
       "FUELCONSUMPTION_COMB FUELTYPE_is_XZ     6.523391\n",
       "FUELTYPE_is_D FUELTYPE_is_E             0.000000\n",
       "FUELTYPE_is_D FUELTYPE_is_XZ            0.000000\n",
       "FUELTYPE_is_E FUELTYPE_is_XZ            0.000000"
      ]
     },
     "execution_count": 111,
     "metadata": {},
     "output_type": "execute_result"
    }
   ],
   "source": [
    "show_coefficients(reg_multiple_5, feature_names=poly_5.get_feature_names_out())"
   ]
  },
  {
   "cell_type": "code",
   "execution_count": null,
   "id": "dd567f25",
   "metadata": {},
   "outputs": [],
   "source": []
  }
 ],
 "metadata": {
  "kernelspec": {
   "display_name": "Python 3",
   "language": "python",
   "name": "python3"
  },
  "language_info": {
   "codemirror_mode": {
    "name": "ipython",
    "version": 3
   },
   "file_extension": ".py",
   "mimetype": "text/x-python",
   "name": "python",
   "nbconvert_exporter": "python",
   "pygments_lexer": "ipython3",
   "version": "3.8.8"
  }
 },
 "nbformat": 4,
 "nbformat_minor": 5
}
