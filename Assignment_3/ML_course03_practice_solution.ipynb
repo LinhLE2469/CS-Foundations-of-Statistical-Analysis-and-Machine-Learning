{
 "cells": [
  {
   "cell_type": "markdown",
   "metadata": {},
   "source": [
    "# ML Course 3 - Practice (solution)"
   ]
  },
  {
   "cell_type": "markdown",
   "metadata": {},
   "source": [
    "## Subject"
   ]
  },
  {
   "cell_type": "markdown",
   "metadata": {},
   "source": [
    "**`FuelConsumption.csv`** is a vehicle fuel consumption data set that contains model-specific fuel consumption.\n",
    "-   **MODELYEAR** e.g. 2014\n",
    "-   **MAKE** e.g. Acura\n",
    "-   **MODEL** e.g. ILX\n",
    "-   **VEHICLE CLASS** e.g. SUV\n",
    "-   **ENGINE SIZE (L)** e.g. 2.0\n",
    "-   **CYLINDERS** e.g 6\n",
    "-   **TRANSMISSION** e.g. A6\n",
    "-   **FUEL CONSUMPTION in CITY(L/100 km)** e.g. 9.9\n",
    "-   **FUEL CONSUMPTION in HWY (L/100 km)** e.g. 8.9\n",
    "-   **FUEL CONSUMPTION COMB (L/100 km)** e.g. 9.2\n",
    "-   **CO2 EMISSIONS (g/km)** e.g. 182"
   ]
  },
  {
   "cell_type": "code",
   "execution_count": 42,
   "metadata": {
    "ExecuteTime": {
     "end_time": "2022-04-06T06:03:52.007596Z",
     "start_time": "2022-04-06T06:03:52.004860Z"
    }
   },
   "outputs": [],
   "source": [
    "import numpy as np\n",
    "import matplotlib.pyplot as plt\n",
    "import pandas as pd\n",
    "import sklearn \n",
    "import seaborn as sns"
   ]
  },
  {
   "cell_type": "code",
   "execution_count": 43,
   "metadata": {
    "ExecuteTime": {
     "end_time": "2022-04-06T06:03:52.167782Z",
     "start_time": "2022-04-06T06:03:52.159247Z"
    }
   },
   "outputs": [],
   "source": [
    "data = pd.read_csv(\"FuelConsumption.csv\")"
   ]
  },
  {
   "cell_type": "code",
   "execution_count": 44,
   "metadata": {
    "ExecuteTime": {
     "end_time": "2022-04-06T06:03:52.340683Z",
     "start_time": "2022-04-06T06:03:52.326668Z"
    }
   },
   "outputs": [
    {
     "data": {
      "text/html": [
       "<div>\n",
       "<style scoped>\n",
       "    .dataframe tbody tr th:only-of-type {\n",
       "        vertical-align: middle;\n",
       "    }\n",
       "\n",
       "    .dataframe tbody tr th {\n",
       "        vertical-align: top;\n",
       "    }\n",
       "\n",
       "    .dataframe thead th {\n",
       "        text-align: right;\n",
       "    }\n",
       "</style>\n",
       "<table border=\"1\" class=\"dataframe\">\n",
       "  <thead>\n",
       "    <tr style=\"text-align: right;\">\n",
       "      <th></th>\n",
       "      <th>MODELYEAR</th>\n",
       "      <th>MAKE</th>\n",
       "      <th>MODEL</th>\n",
       "      <th>VEHICLECLASS</th>\n",
       "      <th>ENGINESIZE</th>\n",
       "      <th>CYLINDERS</th>\n",
       "      <th>TRANSMISSION</th>\n",
       "      <th>FUELTYPE</th>\n",
       "      <th>FUELCONSUMPTION_CITY</th>\n",
       "      <th>FUELCONSUMPTION_HWY</th>\n",
       "      <th>FUELCONSUMPTION_COMB</th>\n",
       "      <th>FUELCONSUMPTION_COMB_MPG</th>\n",
       "      <th>CO2EMISSIONS</th>\n",
       "    </tr>\n",
       "  </thead>\n",
       "  <tbody>\n",
       "    <tr>\n",
       "      <th>696</th>\n",
       "      <td>2014</td>\n",
       "      <td>MAZDA</td>\n",
       "      <td>CX-5</td>\n",
       "      <td>SUV - SMALL</td>\n",
       "      <td>2.5</td>\n",
       "      <td>4</td>\n",
       "      <td>AS6</td>\n",
       "      <td>X</td>\n",
       "      <td>9.6</td>\n",
       "      <td>7.4</td>\n",
       "      <td>8.6</td>\n",
       "      <td>33</td>\n",
       "      <td>198</td>\n",
       "    </tr>\n",
       "    <tr>\n",
       "      <th>394</th>\n",
       "      <td>2014</td>\n",
       "      <td>FORD</td>\n",
       "      <td>FIESTA SFE</td>\n",
       "      <td>SUBCOMPACT</td>\n",
       "      <td>1.0</td>\n",
       "      <td>4</td>\n",
       "      <td>M5</td>\n",
       "      <td>X</td>\n",
       "      <td>7.5</td>\n",
       "      <td>5.5</td>\n",
       "      <td>6.6</td>\n",
       "      <td>43</td>\n",
       "      <td>152</td>\n",
       "    </tr>\n",
       "    <tr>\n",
       "      <th>262</th>\n",
       "      <td>2014</td>\n",
       "      <td>CHEVROLET</td>\n",
       "      <td>SUBURBAN</td>\n",
       "      <td>SUV - STANDARD</td>\n",
       "      <td>5.3</td>\n",
       "      <td>8</td>\n",
       "      <td>A6</td>\n",
       "      <td>E</td>\n",
       "      <td>21.5</td>\n",
       "      <td>14.6</td>\n",
       "      <td>18.4</td>\n",
       "      <td>15</td>\n",
       "      <td>294</td>\n",
       "    </tr>\n",
       "    <tr>\n",
       "      <th>596</th>\n",
       "      <td>2014</td>\n",
       "      <td>JEEP</td>\n",
       "      <td>WRANGLER 4X4 (2-DOOR)</td>\n",
       "      <td>SUV - SMALL</td>\n",
       "      <td>3.6</td>\n",
       "      <td>6</td>\n",
       "      <td>A5</td>\n",
       "      <td>X</td>\n",
       "      <td>14.1</td>\n",
       "      <td>11.1</td>\n",
       "      <td>12.8</td>\n",
       "      <td>22</td>\n",
       "      <td>294</td>\n",
       "    </tr>\n",
       "    <tr>\n",
       "      <th>1008</th>\n",
       "      <td>2014</td>\n",
       "      <td>TOYOTA</td>\n",
       "      <td>VENZA</td>\n",
       "      <td>SUV - SMALL</td>\n",
       "      <td>2.7</td>\n",
       "      <td>4</td>\n",
       "      <td>AS6</td>\n",
       "      <td>X</td>\n",
       "      <td>11.4</td>\n",
       "      <td>8.2</td>\n",
       "      <td>10.0</td>\n",
       "      <td>28</td>\n",
       "      <td>230</td>\n",
       "    </tr>\n",
       "    <tr>\n",
       "      <th>610</th>\n",
       "      <td>2014</td>\n",
       "      <td>KIA</td>\n",
       "      <td>FORTE KOUP</td>\n",
       "      <td>COMPACT</td>\n",
       "      <td>1.6</td>\n",
       "      <td>4</td>\n",
       "      <td>M6</td>\n",
       "      <td>X</td>\n",
       "      <td>10.8</td>\n",
       "      <td>8.1</td>\n",
       "      <td>9.6</td>\n",
       "      <td>29</td>\n",
       "      <td>221</td>\n",
       "    </tr>\n",
       "  </tbody>\n",
       "</table>\n",
       "</div>"
      ],
      "text/plain": [
       "      MODELYEAR       MAKE                  MODEL    VEHICLECLASS  ENGINESIZE  \\\n",
       "696        2014      MAZDA                   CX-5     SUV - SMALL         2.5   \n",
       "394        2014       FORD             FIESTA SFE      SUBCOMPACT         1.0   \n",
       "262        2014  CHEVROLET               SUBURBAN  SUV - STANDARD         5.3   \n",
       "596        2014       JEEP  WRANGLER 4X4 (2-DOOR)     SUV - SMALL         3.6   \n",
       "1008       2014     TOYOTA                  VENZA     SUV - SMALL         2.7   \n",
       "610        2014        KIA             FORTE KOUP         COMPACT         1.6   \n",
       "\n",
       "      CYLINDERS TRANSMISSION FUELTYPE  FUELCONSUMPTION_CITY  \\\n",
       "696           4          AS6        X                   9.6   \n",
       "394           4           M5        X                   7.5   \n",
       "262           8           A6        E                  21.5   \n",
       "596           6           A5        X                  14.1   \n",
       "1008          4          AS6        X                  11.4   \n",
       "610           4           M6        X                  10.8   \n",
       "\n",
       "      FUELCONSUMPTION_HWY  FUELCONSUMPTION_COMB  FUELCONSUMPTION_COMB_MPG  \\\n",
       "696                   7.4                   8.6                        33   \n",
       "394                   5.5                   6.6                        43   \n",
       "262                  14.6                  18.4                        15   \n",
       "596                  11.1                  12.8                        22   \n",
       "1008                  8.2                  10.0                        28   \n",
       "610                   8.1                   9.6                        29   \n",
       "\n",
       "      CO2EMISSIONS  \n",
       "696            198  \n",
       "394            152  \n",
       "262            294  \n",
       "596            294  \n",
       "1008           230  \n",
       "610            221  "
      ]
     },
     "execution_count": 44,
     "metadata": {},
     "output_type": "execute_result"
    }
   ],
   "source": [
    "data.sample(6)"
   ]
  },
  {
   "cell_type": "markdown",
   "metadata": {},
   "source": [
    "1. Compute the correlation value between the CO2 emission and the engine size. Do you think that the engine size can be taken as a unique predictor for the CO2 emission? \n",
    "2. Plot the CO2 emission with respect to the engine size. Do you think that a linear regression model would fit well here?\n",
    "3. Train a linear regression model for the prediction of the CO2 emission based exclusively on the engine size (do not forget the train-test split).\n",
    "4. What are the parameters of the regression line? If an engine size is increased by 1 L, what would be the CO2 emission increase as predicted by your model? \n",
    "5. Plot the regression line over the data.\n",
    "6. Plot the distribution of the residuals (i.e. the error terms).\n",
    "7. Evaluate the performance of the model (MSE, RMSE, MAE, $R^2$).\n",
    "8. Can you calculate those same performance metrics for an untrained regression model where the intercept and the coefficient would be both 0? Are you surprised by the measured performance?\n",
    "9. Train a linear regression model for the prediction of the CO2 emission now based exclusively on the combined fuel consumption (FUELCONSUMPTION_COMB) and evaluate its performance. Compare with the metrics computed in question 7 (the model trained on the engine size). What can you conclude?\n",
    "* Now make a \"dummy\" model that simply predicts the mean CO2, regardless of the input engine size. Can you plot the regression line of such a model and calculate its performance? How does the performance compare to the the other models'? Can you explain why?  \n",
    "\n",
    "__HINT__: as you will be performing the same operations multiple times on different data sets with different variables, you might want to wrap some pieces of code in functions in order to be able to reuse it easily in different places of your notebook!"
   ]
  },
  {
   "cell_type": "markdown",
   "metadata": {},
   "source": [
    "## Suggestion of solution"
   ]
  },
  {
   "cell_type": "markdown",
   "metadata": {},
   "source": [
    "Check for missing data"
   ]
  },
  {
   "cell_type": "code",
   "execution_count": 45,
   "metadata": {
    "ExecuteTime": {
     "end_time": "2022-04-06T06:03:52.882937Z",
     "start_time": "2022-04-06T06:03:52.873574Z"
    }
   },
   "outputs": [
    {
     "name": "stdout",
     "output_type": "stream",
     "text": [
      "<class 'pandas.core.frame.DataFrame'>\n",
      "RangeIndex: 1067 entries, 0 to 1066\n",
      "Data columns (total 13 columns):\n",
      " #   Column                    Non-Null Count  Dtype  \n",
      "---  ------                    --------------  -----  \n",
      " 0   MODELYEAR                 1067 non-null   int64  \n",
      " 1   MAKE                      1067 non-null   object \n",
      " 2   MODEL                     1067 non-null   object \n",
      " 3   VEHICLECLASS              1067 non-null   object \n",
      " 4   ENGINESIZE                1067 non-null   float64\n",
      " 5   CYLINDERS                 1067 non-null   int64  \n",
      " 6   TRANSMISSION              1067 non-null   object \n",
      " 7   FUELTYPE                  1067 non-null   object \n",
      " 8   FUELCONSUMPTION_CITY      1067 non-null   float64\n",
      " 9   FUELCONSUMPTION_HWY       1067 non-null   float64\n",
      " 10  FUELCONSUMPTION_COMB      1067 non-null   float64\n",
      " 11  FUELCONSUMPTION_COMB_MPG  1067 non-null   int64  \n",
      " 12  CO2EMISSIONS              1067 non-null   int64  \n",
      "dtypes: float64(4), int64(4), object(5)\n",
      "memory usage: 108.5+ KB\n"
     ]
    }
   ],
   "source": [
    "data.info()"
   ]
  },
  {
   "cell_type": "markdown",
   "metadata": {},
   "source": [
    "#### 1. Compute the correlation value between the CO2 emission and the engine size. Do you think that the engine size can be taken as a unique predictor for the CO2 emission? "
   ]
  },
  {
   "cell_type": "code",
   "execution_count": 46,
   "metadata": {
    "ExecuteTime": {
     "end_time": "2022-04-06T06:03:53.936803Z",
     "start_time": "2022-04-06T06:03:53.931850Z"
    }
   },
   "outputs": [
    {
     "name": "stdout",
     "output_type": "stream",
     "text": [
      "Correlation between CO2 emission and engine size is 0.8741543683958124\n"
     ]
    }
   ],
   "source": [
    "correlation = data[['ENGINESIZE','CO2EMISSIONS']].corr()\n",
    "# Alternative: data['ENGINESIZE'].corr(data['CO2EMISSIONS'])\n",
    "print('Correlation between CO2 emission and engine size is ' + str(correlation['CO2EMISSIONS']['ENGINESIZE']))"
   ]
  },
  {
   "cell_type": "code",
   "execution_count": 47,
   "metadata": {
    "ExecuteTime": {
     "end_time": "2022-04-06T06:03:54.781640Z",
     "start_time": "2022-04-06T06:03:54.392143Z"
    }
   },
   "outputs": [
    {
     "data": {
      "image/png": "[encoded data removed]",
      "text/plain": [
       "<Figure size 432x288 with 2 Axes>"
      ]
     },
     "metadata": {
      "needs_background": "light"
     },
     "output_type": "display_data"
    }
   ],
   "source": [
    "_ = sns.heatmap(data.corr(), annot=True)"
   ]
  },
  {
   "cell_type": "markdown",
   "metadata": {},
   "source": [
    "ENGINESIZE is well correlated with CO2EMISSIONS (correlation of 0.87 is rather close to 1) so it can be taken as a unique predictor for the CO2 emission."
   ]
  },
  {
   "cell_type": "markdown",
   "metadata": {},
   "source": [
    "### Regression using Engine size as a feature"
   ]
  },
  {
   "cell_type": "markdown",
   "metadata": {},
   "source": [
    "#### 2. Plot the CO2 emission with respect to the engine size. Do you think that a linear regression model would fit well here?"
   ]
  },
  {
   "cell_type": "code",
   "execution_count": 48,
   "metadata": {
    "ExecuteTime": {
     "end_time": "2022-04-06T06:03:56.432713Z",
     "start_time": "2022-04-06T06:03:56.429543Z"
    }
   },
   "outputs": [
    {
     "name": "stdout",
     "output_type": "stream",
     "text": [
      "[[196]\n",
      " [221]\n",
      " [136]\n",
      " ...\n",
      " [271]\n",
      " [260]\n",
      " [294]]\n"
     ]
    }
   ],
   "source": [
    "X = data['ENGINESIZE'].values.reshape(-1,1)\n",
    "y = data['CO2EMISSIONS'].values.reshape(-1,1)\n",
    "print(y)"
   ]
  },
  {
   "cell_type": "code",
   "execution_count": 49,
   "metadata": {
    "ExecuteTime": {
     "end_time": "2022-04-06T06:03:57.211867Z",
     "start_time": "2022-04-06T06:03:57.082604Z"
    }
   },
   "outputs": [
    {
     "data": {
      "image/png": "[encoded data removed]",
      "text/plain": [
       "<Figure size 432x288 with 1 Axes>"
      ]
     },
     "metadata": {
      "needs_background": "light"
     },
     "output_type": "display_data"
    }
   ],
   "source": [
    "plt.scatter(X, y)\n",
    "plt.xlabel(\"Engine size\")\n",
    "plt.ylabel(\"CO2 emission\")\n",
    "plt.show()"
   ]
  },
  {
   "cell_type": "markdown",
   "metadata": {},
   "source": [
    "The scatter plot looks linear so probably the regression model will fit well."
   ]
  },
  {
   "cell_type": "markdown",
   "metadata": {},
   "source": [
    "#### 3. Train a linear regression model for the prediction of the CO2 emission based exclusively on the engine size (do not forget the train-test split)."
   ]
  },
  {
   "cell_type": "code",
   "execution_count": 50,
   "metadata": {
    "ExecuteTime": {
     "end_time": "2022-04-06T06:03:58.886798Z",
     "start_time": "2022-04-06T06:03:58.882722Z"
    }
   },
   "outputs": [],
   "source": [
    "from sklearn.model_selection import train_test_split\n",
    "X_train, X_test, y_train, y_test = train_test_split(X, y, test_size = 0.25, random_state = 0)"
   ]
  },
  {
   "cell_type": "code",
   "execution_count": 51,
   "metadata": {
    "ExecuteTime": {
     "end_time": "2022-04-06T06:03:59.371483Z",
     "start_time": "2022-04-06T06:03:59.366448Z"
    }
   },
   "outputs": [
    {
     "data": {
      "text/plain": [
       "LinearRegression()"
      ]
     },
     "execution_count": 51,
     "metadata": {},
     "output_type": "execute_result"
    }
   ],
   "source": [
    "from sklearn.linear_model import LinearRegression\n",
    "regr = LinearRegression()\n",
    "regr.fit(X_train, y_train)"
   ]
  },
  {
   "cell_type": "markdown",
   "metadata": {},
   "source": [
    "#### 4. What are the parameters of the regression line? If an engine size is increased by 1 L, what would be the CO2 emission increase as predicted by your model? "
   ]
  },
  {
   "cell_type": "code",
   "execution_count": 52,
   "metadata": {
    "ExecuteTime": {
     "end_time": "2022-04-06T06:04:00.493954Z",
     "start_time": "2022-04-06T06:04:00.490471Z"
    }
   },
   "outputs": [
    {
     "name": "stdout",
     "output_type": "stream",
     "text": [
      "Coefficient:  39.40232724257224\n",
      "Intercept:  126.10080982853708\n"
     ]
    }
   ],
   "source": [
    "print('Coefficient: ', regr.coef_[0][0])\n",
    "print('Intercept: ', regr.intercept_[0])"
   ]
  },
  {
   "cell_type": "markdown",
   "metadata": {},
   "source": [
    "If the engine size is increased by 1 L, according to our model, the CO2 emission will increase by around 39.4 g/km."
   ]
  },
  {
   "cell_type": "markdown",
   "metadata": {},
   "source": [
    "#### 5. Plot the fit line over the data."
   ]
  },
  {
   "cell_type": "code",
   "execution_count": 53,
   "metadata": {
    "ExecuteTime": {
     "end_time": "2022-04-06T06:04:03.023628Z",
     "start_time": "2022-04-06T06:04:02.830260Z"
    }
   },
   "outputs": [
    {
     "data": {
      "image/png": "[encoded data removed]",
      "text/plain": [
       "<Figure size 1152x576 with 1 Axes>"
      ]
     },
     "metadata": {
      "needs_background": "light"
     },
     "output_type": "display_data"
    }
   ],
   "source": [
    "X_plot = np.arange(min(X_train), max(X_train), 0.1)\n",
    "\n",
    "y_plot = regr.predict(X_plot.reshape(-1, 1))\n",
    "\n",
    "#  y_plot chinh la y-pred predict cua Training data (using Train X de training model)\n",
    "\n",
    "plt.figure(figsize=(16, 8))\n",
    "plt.scatter(X_train, y_train, c='lightgray', label='training set')\n",
    "plt.scatter(X_test, y_test, c='black', label='test set')\n",
    "plt.plot(X_plot, y_plot, c='blue', label='regression line', linewidth=2)\n",
    "plt.xlabel(\"Engine size\")\n",
    "plt.ylabel(\"CO2 emission\")\n",
    "plt.legend()\n",
    "plt.show()"
   ]
  },
  {
   "cell_type": "code",
   "execution_count": 58,
   "metadata": {},
   "outputs": [
    {
     "data": {
      "image/png": "[encoded data removed]",
      "text/plain": [
       "<Figure size 800x480 with 1 Axes>"
      ]
     },
     "metadata": {
      "needs_background": "light"
     },
     "output_type": "display_data"
    }
   ],
   "source": [
    "# method 2\n",
    "plt.figure(figsize=(10,6), dpi= 80)\n",
    "plt.scatter(X_train, y_train, c='lightgray', label='training set')\n",
    "plt.scatter(X_test, y_test, c='green', label='test set')\n",
    "plt.plot(X_train, regr.coef_[0][0]*X_train + regr.intercept_[0], 'red')\n",
    "plt.xlabel(\"Engine Size (L)\")\n",
    "plt.ylabel(\"CO2 Emission (g/km)\")\n",
    "plt.legend()\n",
    "plt.show()\n"
   ]
  },
  {
   "cell_type": "markdown",
   "metadata": {},
   "source": [
    "#### 6. Plot the distribution of the residuals (i.e. the error terms)."
   ]
  },
  {
   "cell_type": "code",
   "execution_count": 55,
   "metadata": {
    "ExecuteTime": {
     "end_time": "2022-04-06T05:09:12.430641Z",
     "start_time": "2022-04-06T05:09:12.427825Z"
    }
   },
   "outputs": [],
   "source": [
    "y_pred = regr.predict(X_test)\n",
    "# y_pred predict la de test performance metric cho model\n",
    "# error chinh la ei (thang du, sai so giua data predit va data thuc te, y_predit phai using test data)\n"
   ]
  },
  {
   "cell_type": "code",
   "execution_count": 56,
   "metadata": {
    "ExecuteTime": {
     "end_time": "2022-04-06T05:09:13.091170Z",
     "start_time": "2022-04-06T05:09:12.969433Z"
    }
   },
   "outputs": [
    {
     "data": {
      "image/png": "[encoded data removed]",
      "text/plain": [
       "<Figure size 432x288 with 1 Axes>"
      ]
     },
     "metadata": {
      "needs_background": "light"
     },
     "output_type": "display_data"
    }
   ],
   "source": [
    "residuals = y_test - y_pred \n",
    "plt.hist(x=residuals)\n",
    "plt.xlabel('Error on CO2 emission')\n",
    "plt.ylabel('Count')\n",
    "plt.title(\"Distribution of the residuals\")\n",
    "plt.show()\n",
    "# histogram is better chart for distribution "
   ]
  },
  {
   "cell_type": "markdown",
   "metadata": {},
   "source": [
    "#### 7. Evaluate the performance of the model (MSE, RMSE, MAE, 𝑅2)."
   ]
  },
  {
   "cell_type": "code",
   "execution_count": 23,
   "metadata": {
    "ExecuteTime": {
     "end_time": "2022-04-06T05:15:08.471327Z",
     "start_time": "2022-04-06T05:15:08.466470Z"
    }
   },
   "outputs": [
    {
     "name": "stdout",
     "output_type": "stream",
     "text": [
      "Mean square error (MSE): 1139.99\n",
      "Root mean square error (RMSE): 33.76\n",
      "Mean absolute error (MAE): 25.60\n",
      "Coefficient of determination (R^2): 0.72\n"
     ]
    }
   ],
   "source": [
    "from sklearn.metrics import r2_score\n",
    "\n",
    "def evaluate_regression(y_test, y_pred):\n",
    "    print(\"Mean square error (MSE): %.2f\" % np.mean((y_pred - y_test) ** 2))\n",
    "    print(\"Root mean square error (RMSE): %.2f\" % np.sqrt(np.mean((y_pred - y_test) ** 2)))\n",
    "    print(\"Mean absolute error (MAE): %.2f\" % np.mean(abs(y_pred - y_test)))\n",
    "    print(\"Coefficient of determination (R^2): %.2f\" % r2_score(y_test,y_pred))\n",
    "\n",
    "evaluate_regression(y_test, y_pred)"
   ]
  },
  {
   "cell_type": "markdown",
   "metadata": {},
   "source": [
    "### Untrained regression (coefficients = 0)\n",
    "#### 8. Can you calculate those same performance metrics for an untrained regression model where the intercept and the coefficient would be both 0? Are you surprised by the measured performance?"
   ]
  },
  {
   "cell_type": "markdown",
   "metadata": {},
   "source": [
    "An \"untrained\" linear regression model that has both coefficients equal to 0 would always predict a CO2 emission of 0. You can simply generate the prediction vector of 0s."
   ]
  },
  {
   "cell_type": "code",
   "execution_count": 75,
   "metadata": {
    "ExecuteTime": {
     "end_time": "2022-04-06T06:11:14.164159Z",
     "start_time": "2022-04-06T06:11:14.159483Z"
    }
   },
   "outputs": [
    {
     "data": {
      "text/plain": [
       "array([[0.],\n",
       "       [0.],\n",
       "       [0.],\n",
       "       [0.],\n",
       "       [0.]])"
      ]
     },
     "execution_count": 75,
     "metadata": {},
     "output_type": "execute_result"
    }
   ],
   "source": [
    "y_pred_untrained = np.zeros(X_test.shape)\n",
    "y_pred_untrained[:5]"
   ]
  },
  {
   "cell_type": "markdown",
   "metadata": {},
   "source": [
    "Or, if you wish, you can reassign the coefficients to an existing linear regression model, but the method is more convoluted."
   ]
  },
  {
   "cell_type": "code",
   "execution_count": 74,
   "metadata": {
    "ExecuteTime": {
     "end_time": "2022-04-06T06:11:09.272748Z",
     "start_time": "2022-04-06T06:11:09.267039Z"
    }
   },
   "outputs": [
    {
     "data": {
      "text/plain": [
       "array([[0.],\n",
       "       [0.],\n",
       "       [0.],\n",
       "       [0.],\n",
       "       [0.]])"
      ]
     },
     "execution_count": 74,
     "metadata": {},
     "output_type": "execute_result"
    }
   ],
   "source": [
    "from copy import deepcopy\n",
    "\n",
    "regr_untrained = deepcopy(regr)\n",
    "regr_untrained.intercept_ = np.zeros((1,))\n",
    "regr_untrained.coef_ = np.zeros((1,1))\n",
    "\n",
    "y_pred_untrained = regr_untrained.predict(X_test)\n",
    "y_pred_untrained[:5]"
   ]
  },
  {
   "cell_type": "code",
   "execution_count": 69,
   "metadata": {
    "ExecuteTime": {
     "end_time": "2022-04-06T06:09:24.094219Z",
     "start_time": "2022-04-06T06:09:24.090588Z"
    }
   },
   "outputs": [
    {
     "name": "stdout",
     "output_type": "stream",
     "text": [
      "Mean square error (MSE): 66408.87\n",
      "Root mean square error (RMSE): 257.70\n",
      "Mean absolute error (MAE): 249.67\n",
      "Coefficient of determination (R^2): -15.29\n"
     ]
    }
   ],
   "source": [
    "evaluate_regression(y_test, y_pred_untrained)"
   ]
  },
  {
   "cell_type": "markdown",
   "metadata": {},
   "source": [
    "The performance is awful. All error measures are way higher than in question 7. This is expected for a model that always predicts a CO2 emission of zero regardless of the feature value.  \n",
    "We can also notice that the $R^2$ coefficient is **negative**. This happens when the model is **worse** than a model that just predicts the **expected C02 emissions**"
   ]
  },
  {
   "cell_type": "markdown",
   "metadata": {},
   "source": [
    "### Regression using Combined fuel consumption as a feature\n",
    "#### 9. Train a linear regression model for the prediction of the CO2 emission now based exclusively on the combined fuel consumption (FUELCONSUMPTION_COMB) and evaluate its performance. Compare with the metrics computed in question 7 (the model trained on the engine size). What can you conclude?"
   ]
  },
  {
   "cell_type": "code",
   "execution_count": 35,
   "metadata": {
    "ExecuteTime": {
     "end_time": "2022-04-06T05:22:53.236237Z",
     "start_time": "2022-04-06T05:22:53.233556Z"
    }
   },
   "outputs": [],
   "source": [
    "X = data['FUELCONSUMPTION_COMB'].values.reshape(-1,1)"
   ]
  },
  {
   "cell_type": "code",
   "execution_count": 36,
   "metadata": {
    "ExecuteTime": {
     "end_time": "2022-04-06T05:23:06.766810Z",
     "start_time": "2022-04-06T05:23:06.763806Z"
    }
   },
   "outputs": [],
   "source": [
    "X_train, X_test, y_train, y_test = train_test_split(X, y, test_size = 0.25, random_state = 0)"
   ]
  },
  {
   "cell_type": "code",
   "execution_count": 37,
   "metadata": {
    "ExecuteTime": {
     "end_time": "2022-04-06T05:23:16.839524Z",
     "start_time": "2022-04-06T05:23:16.835001Z"
    }
   },
   "outputs": [
    {
     "data": {
      "text/plain": [
       "LinearRegression()"
      ]
     },
     "execution_count": 37,
     "metadata": {},
     "output_type": "execute_result"
    }
   ],
   "source": [
    "regr = LinearRegression()\n",
    "regr.fit(X_train, y_train)"
   ]
  },
  {
   "cell_type": "code",
   "execution_count": 38,
   "metadata": {
    "ExecuteTime": {
     "end_time": "2022-04-06T05:24:39.319863Z",
     "start_time": "2022-04-06T05:24:39.316756Z"
    }
   },
   "outputs": [
    {
     "name": "stdout",
     "output_type": "stream",
     "text": [
      "Mean square error (MSE): 792.17\n",
      "Root mean square error (RMSE): 28.15\n",
      "Mean absolute error (MAE): 20.22\n",
      "Coefficient of determination (R^2): 0.81\n"
     ]
    }
   ],
   "source": [
    "y_pred = regr.predict(X_test)\n",
    "\n",
    "evaluate_regression(y_test, y_pred)"
   ]
  },
  {
   "cell_type": "markdown",
   "metadata": {},
   "source": [
    "The RMSE is lower here (28.15 here vs. 33.76 before), and the $R^2$ coefficient is higher (0.81 vs 0.72) so it seems that combined fuel consumption is a slightly better predictor than engine size for CO2 consumption prediction."
   ]
  },
  {
   "cell_type": "markdown",
   "metadata": {},
   "source": [
    "### Dummy model that predicts the mean CO2\n",
    "#### 10. Now make a \"dummy\" model that simply predicts the mean CO2, regardless of the input engine size. Can you plot the regression line of such a model and calculate its performance? How does the performance compare to the the other models'? Can you explain why? "
   ]
  },
  {
   "cell_type": "markdown",
   "metadata": {},
   "source": [
    "The mean CO2 is calculated on the training set."
   ]
  },
  {
   "cell_type": "code",
   "execution_count": 33,
   "metadata": {
    "ExecuteTime": {
     "end_time": "2022-04-06T05:34:38.932131Z",
     "start_time": "2022-04-06T05:34:38.929521Z"
    }
   },
   "outputs": [
    {
     "name": "stdout",
     "output_type": "stream",
     "text": [
      "258.41875\n",
      "[[258.41875]\n",
      " [258.41875]\n",
      " [258.41875]\n",
      " [258.41875]\n",
      " [258.41875]\n",
      " [258.41875]\n",
      " [258.41875]\n",
      " [258.41875]\n",
      " [258.41875]\n",
      " [258.41875]\n",
      " [258.41875]\n",
      " [258.41875]\n",
      " [258.41875]\n",
      " [258.41875]\n",
      " [258.41875]\n",
      " [258.41875]\n",
      " [258.41875]\n",
      " [258.41875]\n",
      " [258.41875]\n",
      " [258.41875]\n",
      " [258.41875]\n",
      " [258.41875]\n",
      " [258.41875]\n",
      " [258.41875]\n",
      " [258.41875]\n",
      " [258.41875]\n",
      " [258.41875]\n",
      " [258.41875]\n",
      " [258.41875]\n",
      " [258.41875]\n",
      " [258.41875]\n",
      " [258.41875]\n",
      " [258.41875]\n",
      " [258.41875]\n",
      " [258.41875]\n",
      " [258.41875]\n",
      " [258.41875]\n",
      " [258.41875]\n",
      " [258.41875]\n",
      " [258.41875]\n",
      " [258.41875]\n",
      " [258.41875]\n",
      " [258.41875]\n",
      " [258.41875]\n",
      " [258.41875]\n",
      " [258.41875]\n",
      " [258.41875]\n",
      " [258.41875]\n",
      " [258.41875]\n",
      " [258.41875]\n",
      " [258.41875]\n",
      " [258.41875]\n",
      " [258.41875]\n",
      " [258.41875]\n",
      " [258.41875]\n",
      " [258.41875]\n",
      " [258.41875]\n",
      " [258.41875]\n",
      " [258.41875]\n",
      " [258.41875]\n",
      " [258.41875]\n",
      " [258.41875]\n",
      " [258.41875]\n",
      " [258.41875]\n",
      " [258.41875]\n",
      " [258.41875]\n",
      " [258.41875]\n",
      " [258.41875]\n",
      " [258.41875]\n",
      " [258.41875]\n",
      " [258.41875]\n",
      " [258.41875]\n",
      " [258.41875]\n",
      " [258.41875]\n",
      " [258.41875]\n",
      " [258.41875]\n",
      " [258.41875]\n",
      " [258.41875]\n",
      " [258.41875]\n",
      " [258.41875]\n",
      " [258.41875]\n",
      " [258.41875]\n",
      " [258.41875]\n",
      " [258.41875]\n",
      " [258.41875]\n",
      " [258.41875]\n",
      " [258.41875]\n",
      " [258.41875]\n",
      " [258.41875]\n",
      " [258.41875]\n",
      " [258.41875]\n",
      " [258.41875]\n",
      " [258.41875]\n",
      " [258.41875]\n",
      " [258.41875]\n",
      " [258.41875]\n",
      " [258.41875]\n",
      " [258.41875]\n",
      " [258.41875]\n",
      " [258.41875]\n",
      " [258.41875]\n",
      " [258.41875]\n",
      " [258.41875]\n",
      " [258.41875]\n",
      " [258.41875]\n",
      " [258.41875]\n",
      " [258.41875]\n",
      " [258.41875]\n",
      " [258.41875]\n",
      " [258.41875]\n",
      " [258.41875]\n",
      " [258.41875]\n",
      " [258.41875]\n",
      " [258.41875]\n",
      " [258.41875]\n",
      " [258.41875]\n",
      " [258.41875]\n",
      " [258.41875]\n",
      " [258.41875]\n",
      " [258.41875]\n",
      " [258.41875]\n",
      " [258.41875]\n",
      " [258.41875]\n",
      " [258.41875]\n",
      " [258.41875]\n",
      " [258.41875]\n",
      " [258.41875]\n",
      " [258.41875]\n",
      " [258.41875]\n",
      " [258.41875]\n",
      " [258.41875]\n",
      " [258.41875]\n",
      " [258.41875]\n",
      " [258.41875]\n",
      " [258.41875]\n",
      " [258.41875]\n",
      " [258.41875]\n",
      " [258.41875]\n",
      " [258.41875]\n",
      " [258.41875]\n",
      " [258.41875]\n",
      " [258.41875]\n",
      " [258.41875]\n",
      " [258.41875]\n",
      " [258.41875]\n",
      " [258.41875]\n",
      " [258.41875]\n",
      " [258.41875]\n",
      " [258.41875]\n",
      " [258.41875]\n",
      " [258.41875]\n",
      " [258.41875]\n",
      " [258.41875]\n",
      " [258.41875]\n",
      " [258.41875]\n",
      " [258.41875]\n",
      " [258.41875]\n",
      " [258.41875]\n",
      " [258.41875]\n",
      " [258.41875]\n",
      " [258.41875]\n",
      " [258.41875]\n",
      " [258.41875]\n",
      " [258.41875]\n",
      " [258.41875]\n",
      " [258.41875]\n",
      " [258.41875]\n",
      " [258.41875]\n",
      " [258.41875]\n",
      " [258.41875]\n",
      " [258.41875]\n",
      " [258.41875]\n",
      " [258.41875]\n",
      " [258.41875]\n",
      " [258.41875]\n",
      " [258.41875]\n",
      " [258.41875]\n",
      " [258.41875]\n",
      " [258.41875]\n",
      " [258.41875]\n",
      " [258.41875]\n",
      " [258.41875]\n",
      " [258.41875]\n",
      " [258.41875]\n",
      " [258.41875]\n",
      " [258.41875]\n",
      " [258.41875]\n",
      " [258.41875]\n",
      " [258.41875]\n",
      " [258.41875]\n",
      " [258.41875]\n",
      " [258.41875]\n",
      " [258.41875]\n",
      " [258.41875]\n",
      " [258.41875]\n",
      " [258.41875]\n",
      " [258.41875]\n",
      " [258.41875]\n",
      " [258.41875]\n",
      " [258.41875]\n",
      " [258.41875]\n",
      " [258.41875]\n",
      " [258.41875]\n",
      " [258.41875]\n",
      " [258.41875]\n",
      " [258.41875]\n",
      " [258.41875]\n",
      " [258.41875]\n",
      " [258.41875]\n",
      " [258.41875]\n",
      " [258.41875]\n",
      " [258.41875]\n",
      " [258.41875]\n",
      " [258.41875]\n",
      " [258.41875]\n",
      " [258.41875]\n",
      " [258.41875]\n",
      " [258.41875]\n",
      " [258.41875]\n",
      " [258.41875]\n",
      " [258.41875]\n",
      " [258.41875]\n",
      " [258.41875]\n",
      " [258.41875]\n",
      " [258.41875]\n",
      " [258.41875]\n",
      " [258.41875]\n",
      " [258.41875]\n",
      " [258.41875]\n",
      " [258.41875]\n",
      " [258.41875]\n",
      " [258.41875]\n",
      " [258.41875]\n",
      " [258.41875]\n",
      " [258.41875]\n",
      " [258.41875]\n",
      " [258.41875]\n",
      " [258.41875]\n",
      " [258.41875]\n",
      " [258.41875]\n",
      " [258.41875]\n",
      " [258.41875]\n",
      " [258.41875]\n",
      " [258.41875]\n",
      " [258.41875]\n",
      " [258.41875]\n",
      " [258.41875]\n",
      " [258.41875]\n",
      " [258.41875]\n",
      " [258.41875]\n",
      " [258.41875]\n",
      " [258.41875]\n",
      " [258.41875]\n",
      " [258.41875]\n",
      " [258.41875]\n",
      " [258.41875]\n",
      " [258.41875]\n",
      " [258.41875]\n",
      " [258.41875]\n",
      " [258.41875]\n",
      " [258.41875]\n",
      " [258.41875]\n",
      " [258.41875]\n",
      " [258.41875]\n",
      " [258.41875]\n",
      " [258.41875]\n",
      " [258.41875]]\n"
     ]
    }
   ],
   "source": [
    "y_train_mean = y_train.mean()\n",
    "print(y_train_mean)\n",
    "y_pred_dummy = np.full(X_test.shape, y_train_mean)\n",
    "print(y_pred_dummy)"
   ]
  },
  {
   "cell_type": "code",
   "execution_count": 34,
   "metadata": {
    "ExecuteTime": {
     "end_time": "2022-04-06T05:34:39.629396Z",
     "start_time": "2022-04-06T05:34:39.625981Z"
    }
   },
   "outputs": [
    {
     "name": "stdout",
     "output_type": "stream",
     "text": [
      "Mean square error (MSE): 4152.03\n",
      "Root mean square error (RMSE): 64.44\n",
      "Mean absolute error (MAE): 52.88\n",
      "Coefficient of determination (R^2): -0.02\n"
     ]
    }
   ],
   "source": [
    "evaluate_regression(y_test, y_pred_dummy)"
   ]
  },
  {
   "cell_type": "markdown",
   "metadata": {},
   "source": [
    "The performance is worse than for the linear regression models, which is to be expected for a dummy model. \n",
    "We notice that the $R^2$ coefficient is close to 0. By definition, the $R^2$ coefficient is equal to 0 for a model that returns the **expected value of y**. Since the mean of y_train is a close estimation of the expectation of y, this is why the coefficient of determination is about 0."
   ]
  },
  {
   "cell_type": "code",
   "execution_count": null,
   "metadata": {},
   "outputs": [],
   "source": []
  }
 ],
 "metadata": {
  "kernelspec": {
   "display_name": "Python 3",
   "language": "python",
   "name": "python3"
  },
  "language_info": {
   "codemirror_mode": {
    "name": "ipython",
    "version": 3
   },
   "file_extension": ".py",
   "mimetype": "text/x-python",
   "name": "python",
   "nbconvert_exporter": "python",
   "pygments_lexer": "ipython3",
   "version": "3.8.8"
  }
 },
 "nbformat": 4,
 "nbformat_minor": 4
}
